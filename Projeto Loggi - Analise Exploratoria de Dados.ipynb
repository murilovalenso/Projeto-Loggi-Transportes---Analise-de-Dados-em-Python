{
 "cells": [
  {
   "cell_type": "markdown",
   "id": "be8adaaa",
   "metadata": {
    "id": "KJqp9AANOCtf",
    "papermill": {
     "duration": 0.03224,
     "end_time": "2024-02-18T21:07:09.220518",
     "exception": false,
     "start_time": "2024-02-18T21:07:09.188278",
     "status": "completed"
    },
    "tags": []
   },
   "source": [
    "<img src=\"https://raw.githubusercontent.com/andre-marcos-perez/ebac-course-utils/main/media/logo/newebac_logo_black_half.png\" alt=\"ebac-logo\">\n",
    "\n",
    "---\n",
    "\n",
    "# **Módulo** | Análise de Dados: Análise Exploratória de Dados de Logística II\n",
    "Caderno de **Exercícios**<br>\n",
    "Professor [André Perez](https://www.linkedin.com/in/andremarcosperez/)\n",
    "\n",
    "---"
   ]
  },
  {
   "cell_type": "markdown",
   "id": "3a6835c8",
   "metadata": {
    "id": "d9jDtUbDOE1-",
    "papermill": {
     "duration": 0.030092,
     "end_time": "2024-02-18T21:07:09.281264",
     "exception": false,
     "start_time": "2024-02-18T21:07:09.251172",
     "status": "completed"
    },
    "tags": []
   },
   "source": [
    "# **Tópicos**\n",
    "\n",
    "<ol type=\"1\">\n",
    "  <li>Manipulação;</li>\n",
    "  <li>Visualização;</li>\n",
    "  <li>Storytelling.</li>\n",
    "</ol>\n"
   ]
  },
  {
   "cell_type": "markdown",
   "id": "5c11cb9a",
   "metadata": {
    "id": "SmoHgt-lwkpD",
    "papermill": {
     "duration": 0.031216,
     "end_time": "2024-02-18T21:07:09.348293",
     "exception": false,
     "start_time": "2024-02-18T21:07:09.317077",
     "status": "completed"
    },
    "tags": []
   },
   "source": [
    "---"
   ]
  },
  {
   "cell_type": "markdown",
   "id": "aeb9974b",
   "metadata": {
    "id": "GABI6OW8OfQ2",
    "papermill": {
     "duration": 0.031148,
     "end_time": "2024-02-18T21:07:09.412334",
     "exception": false,
     "start_time": "2024-02-18T21:07:09.381186",
     "status": "completed"
    },
    "tags": []
   },
   "source": [
    "# **Exercícios**"
   ]
  },
  {
   "cell_type": "markdown",
   "id": "da062602",
   "metadata": {
    "id": "muD1vxozykSC",
    "papermill": {
     "duration": 0.037132,
     "end_time": "2024-02-18T21:07:09.482392",
     "exception": false,
     "start_time": "2024-02-18T21:07:09.445260",
     "status": "completed"
    },
    "tags": []
   },
   "source": [
    "Este *notebook* deve servir como um guia para **você continuar** a construção da sua própria análise exploratória de dados. Fique a vontate para copiar os códigos da aula mas busque explorar os dados ao máximo. Por fim, publique seu *notebook* no [Kaggle](https://www.kaggle.com/)."
   ]
  },
  {
   "cell_type": "markdown",
   "id": "278b3fc1",
   "metadata": {
    "id": "zMN1Q3jdwoJm",
    "papermill": {
     "duration": 0.096462,
     "end_time": "2024-02-18T21:07:09.619140",
     "exception": false,
     "start_time": "2024-02-18T21:07:09.522678",
     "status": "completed"
    },
    "tags": []
   },
   "source": [
    "---"
   ]
  },
  {
   "cell_type": "markdown",
   "id": "63876ded",
   "metadata": {
    "id": "QRcqbpLpFK5o",
    "papermill": {
     "duration": 0.031899,
     "end_time": "2024-02-18T21:07:09.682361",
     "exception": false,
     "start_time": "2024-02-18T21:07:09.650462",
     "status": "completed"
    },
    "tags": []
   },
   "source": [
    "# **Análise Exploratória de Dados de Logística**"
   ]
  },
  {
   "cell_type": "markdown",
   "id": "13f67ef7",
   "metadata": {
    "id": "6-CvdKwqFPiW",
    "papermill": {
     "duration": 0.031098,
     "end_time": "2024-02-18T21:07:09.744280",
     "exception": false,
     "start_time": "2024-02-18T21:07:09.713182",
     "status": "completed"
    },
    "tags": []
   },
   "source": [
    "## 1\\. Contexto"
   ]
  },
  {
   "cell_type": "markdown",
   "id": "784a6518",
   "metadata": {
    "id": "XRURE1uUFXGw",
    "papermill": {
     "duration": 0.030228,
     "end_time": "2024-02-18T21:07:09.806228",
     "exception": false,
     "start_time": "2024-02-18T21:07:09.776000",
     "status": "completed"
    },
    "tags": []
   },
   "source": [
    "![Loggi-logo.png](data:image/png;base64,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)\n",
    "\n",
    "A Loggi é uma empresa que funciona como intermédio entre entregadores e pessoas que precisam efetuar ou receber entregas. O serviço se consolidou como uma das principais alternativas no transporte de mercadorias. Além de um site web, a Loggi também conta com um aplicativo para Android ou iOS, é um serviço de logística para facilitar entregas feitas tanto para pessoas físicas quanto jurídicas.\n",
    "\n",
    "Além de centros de distribuição e agências próprias espalhados pelo Brasil, atualmente a Loggi possui mais de 40 mil entregadores cadastrados e que atendem em mais de 540 municípios em todas as regiões do país.\n",
    "\n",
    "É muito importante destacar que a Loggi não é uma transportadora ou empresa de motofrete, mas sim a companhia que organiza a entrega entre o cliente e o mensageiro. Por isso, as entregas não são feitas pela própria Loggi, mas sim por uma rede de entregadores parceiros que fazem parte da logística da empresa.\n",
    "\n",
    "A **Loggi** como toda empresa do setor logístico faz entregas em todo o Brasil, sendo que essas entregas possuem uma capacidade máxima em seus veículos, pontos de entregas e de distribuição.\n",
    "\n",
    "Neste notebook, será realizada uma **Análise Exploratória de Dados (EDA)**, com o intuito de conhecer os hubs distribuídos no **Distrito Federal** **(DF)**, bem como a proporção e os desafios que a Loggi enfrenta diante de todo esse cenário logístico de entregas. E, principalmente, exploraremos esses dados para visualizarmos e entendermos o quão é complexo e importante para a Loggi analisar essas informações com a finalidade de garantir uma melhor performance em seus serviços.\n"
   ]
  },
  {
   "cell_type": "markdown",
   "id": "ec12f4e7",
   "metadata": {
    "id": "QxukLHaqFnkU",
    "papermill": {
     "duration": 0.032165,
     "end_time": "2024-02-18T21:07:09.870139",
     "exception": false,
     "start_time": "2024-02-18T21:07:09.837974",
     "status": "completed"
    },
    "tags": []
   },
   "source": [
    "## 2\\. Pacotes e bibliotecas"
   ]
  },
  {
   "cell_type": "code",
   "execution_count": 1,
   "id": "7957cc5b",
   "metadata": {
    "execution": {
     "iopub.execute_input": "2024-02-18T21:07:09.934967Z",
     "iopub.status.busy": "2024-02-18T21:07:09.934443Z",
     "iopub.status.idle": "2024-02-18T21:07:26.078634Z",
     "shell.execute_reply": "2024-02-18T21:07:26.077254Z"
    },
    "id": "VXUEW0VrF7XW",
    "outputId": "2423e859-6af2-48bb-c644-125ea7228a36",
    "papermill": {
     "duration": 16.179128,
     "end_time": "2024-02-18T21:07:26.081366",
     "exception": false,
     "start_time": "2024-02-18T21:07:09.902238",
     "status": "completed"
    },
    "tags": []
   },
   "outputs": [
    {
     "name": "stdout",
     "output_type": "stream",
     "text": [
      "Requirement already satisfied: geopandas in /opt/conda/lib/python3.10/site-packages (0.13.2)\r\n",
      "Requirement already satisfied: fiona>=1.8.19 in /opt/conda/lib/python3.10/site-packages (from geopandas) (1.9.4.post1)\r\n",
      "Requirement already satisfied: packaging in /opt/conda/lib/python3.10/site-packages (from geopandas) (21.3)\r\n",
      "Requirement already satisfied: pandas>=1.1.0 in /opt/conda/lib/python3.10/site-packages (from geopandas) (2.0.3)\r\n",
      "Requirement already satisfied: pyproj>=3.0.1 in /opt/conda/lib/python3.10/site-packages (from geopandas) (3.6.0)\r\n",
      "Requirement already satisfied: shapely>=1.7.1 in /opt/conda/lib/python3.10/site-packages (from geopandas) (1.8.5.post1)\r\n",
      "Requirement already satisfied: attrs>=19.2.0 in /opt/conda/lib/python3.10/site-packages (from fiona>=1.8.19->geopandas) (23.1.0)\r\n",
      "Requirement already satisfied: certifi in /opt/conda/lib/python3.10/site-packages (from fiona>=1.8.19->geopandas) (2023.7.22)\r\n",
      "Requirement already satisfied: click~=8.0 in /opt/conda/lib/python3.10/site-packages (from fiona>=1.8.19->geopandas) (8.1.7)\r\n",
      "Requirement already satisfied: click-plugins>=1.0 in /opt/conda/lib/python3.10/site-packages (from fiona>=1.8.19->geopandas) (1.1.1)\r\n",
      "Requirement already satisfied: cligj>=0.5 in /opt/conda/lib/python3.10/site-packages (from fiona>=1.8.19->geopandas) (0.7.2)\r\n",
      "Requirement already satisfied: six in /opt/conda/lib/python3.10/site-packages (from fiona>=1.8.19->geopandas) (1.16.0)\r\n",
      "Requirement already satisfied: python-dateutil>=2.8.2 in /opt/conda/lib/python3.10/site-packages (from pandas>=1.1.0->geopandas) (2.8.2)\r\n",
      "Requirement already satisfied: pytz>=2020.1 in /opt/conda/lib/python3.10/site-packages (from pandas>=1.1.0->geopandas) (2023.3)\r\n",
      "Requirement already satisfied: tzdata>=2022.1 in /opt/conda/lib/python3.10/site-packages (from pandas>=1.1.0->geopandas) (2023.3)\r\n",
      "Requirement already satisfied: numpy>=1.21.0 in /opt/conda/lib/python3.10/site-packages (from pandas>=1.1.0->geopandas) (1.23.5)\r\n",
      "Requirement already satisfied: pyparsing!=3.0.5,>=2.0.2 in /opt/conda/lib/python3.10/site-packages (from packaging->geopandas) (3.0.9)\r\n"
     ]
    }
   ],
   "source": [
    "# importe todas as suas bibliotecas aqui, siga os padrões do PEP8:\n",
    "# - 1º pacotes nativos do python: json, os, etc.;\n",
    "# - 2º pacotes de terceiros: pandas, seabornm etc.;\n",
    "# - 3º pacotes que você desenvolveu.\n",
    "\n",
    "!pip install geopandas\n"
   ]
  },
  {
   "cell_type": "code",
   "execution_count": 2,
   "id": "328bfec5",
   "metadata": {
    "execution": {
     "iopub.execute_input": "2024-02-18T21:07:26.144782Z",
     "iopub.status.busy": "2024-02-18T21:07:26.144346Z",
     "iopub.status.idle": "2024-02-18T21:07:29.582042Z",
     "shell.execute_reply": "2024-02-18T21:07:29.580653Z"
    },
    "id": "3dWz-AF7Ey8T",
    "papermill": {
     "duration": 3.473098,
     "end_time": "2024-02-18T21:07:29.585457",
     "exception": false,
     "start_time": "2024-02-18T21:07:26.112359",
     "status": "completed"
    },
    "tags": []
   },
   "outputs": [],
   "source": [
    "import json\n",
    "import matplotlib.pyplot as plt\n",
    "import seaborn as sns\n",
    "import numpy as np\n",
    "import pandas as pd\n",
    "import geopandas\n",
    "import geopy\n",
    "from geopy.geocoders import Nominatim\n",
    "from geopy.extra.rate_limiter import RateLimiter"
   ]
  },
  {
   "cell_type": "markdown",
   "id": "00c0a943",
   "metadata": {
    "id": "irQxHW1zGkdZ",
    "papermill": {
     "duration": 0.030829,
     "end_time": "2024-02-18T21:07:29.647818",
     "exception": false,
     "start_time": "2024-02-18T21:07:29.616989",
     "status": "completed"
    },
    "tags": []
   },
   "source": [
    "## 3\\. Exploração de dados"
   ]
  },
  {
   "cell_type": "markdown",
   "id": "d5a6662c",
   "metadata": {
    "id": "XjhweQqdGNL4",
    "papermill": {
     "duration": 0.030677,
     "end_time": "2024-02-18T21:07:29.708895",
     "exception": false,
     "start_time": "2024-02-18T21:07:29.678218",
     "status": "completed"
    },
    "tags": []
   },
   "source": [
    "## **3.1. Coleta**"
   ]
  },
  {
   "cell_type": "markdown",
   "id": "ce81883d",
   "metadata": {
    "id": "E8g-GT_Mwre5",
    "papermill": {
     "duration": 0.030145,
     "end_time": "2024-02-18T21:07:29.770489",
     "exception": false,
     "start_time": "2024-02-18T21:07:29.740344",
     "status": "completed"
    },
    "tags": []
   },
   "source": [
    "Vamos realizar o seu download num arquivo `JSON` com o nome `deliveries.json`."
   ]
  },
  {
   "cell_type": "code",
   "execution_count": 3,
   "id": "c007b99b",
   "metadata": {
    "execution": {
     "iopub.execute_input": "2024-02-18T21:07:29.836469Z",
     "iopub.status.busy": "2024-02-18T21:07:29.835574Z",
     "iopub.status.idle": "2024-02-18T21:07:33.923242Z",
     "shell.execute_reply": "2024-02-18T21:07:33.921838Z"
    },
    "id": "-Mo6p-ZdGUwJ",
    "papermill": {
     "duration": 4.123966,
     "end_time": "2024-02-18T21:07:33.926117",
     "exception": false,
     "start_time": "2024-02-18T21:07:29.802151",
     "status": "completed"
    },
    "tags": []
   },
   "outputs": [],
   "source": [
    "# faça o código de exploração de dados:\n",
    "# - coleta de dados;\n",
    "\n",
    "!wget -q \"https://raw.githubusercontent.com/andre-marcos-perez/ebac-course-utils/main/dataset/deliveries.json\" -O deliveries.json"
   ]
  },
  {
   "cell_type": "markdown",
   "id": "6cd8cdd0",
   "metadata": {
    "id": "Yym_YIwmwfnw",
    "papermill": {
     "duration": 0.031462,
     "end_time": "2024-02-18T21:07:33.989164",
     "exception": false,
     "start_time": "2024-02-18T21:07:33.957702",
     "status": "completed"
    },
    "tags": []
   },
   "source": [
    "Vamos carregar os dados do arquivo em um dicionário Python chamado `data`:"
   ]
  },
  {
   "cell_type": "code",
   "execution_count": 4,
   "id": "201fd972",
   "metadata": {
    "execution": {
     "iopub.execute_input": "2024-02-18T21:07:34.054264Z",
     "iopub.status.busy": "2024-02-18T21:07:34.053831Z",
     "iopub.status.idle": "2024-02-18T21:07:37.308989Z",
     "shell.execute_reply": "2024-02-18T21:07:37.307954Z"
    },
    "id": "KaGfYavQsmiB",
    "papermill": {
     "duration": 3.291091,
     "end_time": "2024-02-18T21:07:37.311876",
     "exception": false,
     "start_time": "2024-02-18T21:07:34.020785",
     "status": "completed"
    },
    "tags": []
   },
   "outputs": [],
   "source": [
    "with open('deliveries.json', mode='r', encoding='utf8') as file:\n",
    "  data = json.load(file)\n"
   ]
  },
  {
   "cell_type": "code",
   "execution_count": 5,
   "id": "b23a5997",
   "metadata": {
    "execution": {
     "iopub.execute_input": "2024-02-18T21:07:37.375368Z",
     "iopub.status.busy": "2024-02-18T21:07:37.374379Z",
     "iopub.status.idle": "2024-02-18T21:07:37.383035Z",
     "shell.execute_reply": "2024-02-18T21:07:37.382073Z"
    },
    "id": "-MKpMW6itSMN",
    "outputId": "e7dcbbce-b015-4475-aead-c20a6b2de89e",
    "papermill": {
     "duration": 0.04297,
     "end_time": "2024-02-18T21:07:37.385346",
     "exception": false,
     "start_time": "2024-02-18T21:07:37.342376",
     "status": "completed"
    },
    "tags": []
   },
   "outputs": [
    {
     "data": {
      "text/plain": [
       "list"
      ]
     },
     "execution_count": 5,
     "metadata": {},
     "output_type": "execute_result"
    }
   ],
   "source": [
    "# Formato do dado coletado:\n",
    "type(data)"
   ]
  },
  {
   "cell_type": "code",
   "execution_count": 6,
   "id": "3790c51d",
   "metadata": {
    "execution": {
     "iopub.execute_input": "2024-02-18T21:07:37.449689Z",
     "iopub.status.busy": "2024-02-18T21:07:37.449229Z",
     "iopub.status.idle": "2024-02-18T21:07:37.456075Z",
     "shell.execute_reply": "2024-02-18T21:07:37.454986Z"
    },
    "id": "-noKpttntVCI",
    "outputId": "8db9b600-9c02-413f-ff48-0bf33d27d18a",
    "papermill": {
     "duration": 0.041983,
     "end_time": "2024-02-18T21:07:37.458627",
     "exception": false,
     "start_time": "2024-02-18T21:07:37.416644",
     "status": "completed"
    },
    "tags": []
   },
   "outputs": [
    {
     "data": {
      "text/plain": [
       "199"
      ]
     },
     "execution_count": 6,
     "metadata": {},
     "output_type": "execute_result"
    }
   ],
   "source": [
    "# Quantidade de itens da lista\n",
    "len(data)"
   ]
  },
  {
   "cell_type": "markdown",
   "id": "166008e0",
   "metadata": {
    "id": "z6riUR9rTS_8",
    "papermill": {
     "duration": 0.031898,
     "end_time": "2024-02-18T21:07:37.522934",
     "exception": false,
     "start_time": "2024-02-18T21:07:37.491036",
     "status": "completed"
    },
    "tags": []
   },
   "source": [
    "## **3.2. Wrangling**"
   ]
  },
  {
   "cell_type": "code",
   "execution_count": 7,
   "id": "824a7e74",
   "metadata": {
    "execution": {
     "iopub.execute_input": "2024-02-18T21:07:37.589676Z",
     "iopub.status.busy": "2024-02-18T21:07:37.589251Z",
     "iopub.status.idle": "2024-02-18T21:07:37.991967Z",
     "shell.execute_reply": "2024-02-18T21:07:37.991072Z"
    },
    "id": "mchpVn80Gq14",
    "outputId": "fdb2bbfa-5d4d-43b9-f821-98f0d708aa09",
    "papermill": {
     "duration": 0.438112,
     "end_time": "2024-02-18T21:07:37.994207",
     "exception": false,
     "start_time": "2024-02-18T21:07:37.556095",
     "status": "completed"
    },
    "tags": []
   },
   "outputs": [
    {
     "data": {
      "text/html": [
       "<div>\n",
       "<style scoped>\n",
       "    .dataframe tbody tr th:only-of-type {\n",
       "        vertical-align: middle;\n",
       "    }\n",
       "\n",
       "    .dataframe tbody tr th {\n",
       "        vertical-align: top;\n",
       "    }\n",
       "\n",
       "    .dataframe thead th {\n",
       "        text-align: right;\n",
       "    }\n",
       "</style>\n",
       "<table border=\"1\" class=\"dataframe\">\n",
       "  <thead>\n",
       "    <tr style=\"text-align: right;\">\n",
       "      <th></th>\n",
       "      <th>name</th>\n",
       "      <th>region</th>\n",
       "      <th>origin</th>\n",
       "      <th>vehicle_capacity</th>\n",
       "      <th>deliveries</th>\n",
       "    </tr>\n",
       "  </thead>\n",
       "  <tbody>\n",
       "    <tr>\n",
       "      <th>0</th>\n",
       "      <td>cvrp-2-df-33</td>\n",
       "      <td>df-2</td>\n",
       "      <td>{'lng': -48.05498915846707, 'lat': -15.8381445...</td>\n",
       "      <td>180</td>\n",
       "      <td>[{'id': '313483a19d2f8d65cd5024c8d215cfbd', 'p...</td>\n",
       "    </tr>\n",
       "    <tr>\n",
       "      <th>1</th>\n",
       "      <td>cvrp-2-df-73</td>\n",
       "      <td>df-2</td>\n",
       "      <td>{'lng': -48.05498915846707, 'lat': -15.8381445...</td>\n",
       "      <td>180</td>\n",
       "      <td>[{'id': 'bf3fc630b1c29601a4caf1bdd474b85', 'po...</td>\n",
       "    </tr>\n",
       "    <tr>\n",
       "      <th>2</th>\n",
       "      <td>cvrp-2-df-20</td>\n",
       "      <td>df-2</td>\n",
       "      <td>{'lng': -48.05498915846707, 'lat': -15.8381445...</td>\n",
       "      <td>180</td>\n",
       "      <td>[{'id': 'b30f1145a2ba4e0b9ac0162b68d045c3', 'p...</td>\n",
       "    </tr>\n",
       "    <tr>\n",
       "      <th>3</th>\n",
       "      <td>cvrp-1-df-71</td>\n",
       "      <td>df-1</td>\n",
       "      <td>{'lng': -47.89366206897872, 'lat': -15.8051175...</td>\n",
       "      <td>180</td>\n",
       "      <td>[{'id': 'be3ed547394196c12c7c27c89ac74ed6', 'p...</td>\n",
       "    </tr>\n",
       "    <tr>\n",
       "      <th>4</th>\n",
       "      <td>cvrp-2-df-87</td>\n",
       "      <td>df-2</td>\n",
       "      <td>{'lng': -48.05498915846707, 'lat': -15.8381445...</td>\n",
       "      <td>180</td>\n",
       "      <td>[{'id': 'a6328fb4dc0654eb28a996a270b0f6e4', 'p...</td>\n",
       "    </tr>\n",
       "  </tbody>\n",
       "</table>\n",
       "</div>"
      ],
      "text/plain": [
       "           name region                                             origin  \\\n",
       "0  cvrp-2-df-33   df-2  {'lng': -48.05498915846707, 'lat': -15.8381445...   \n",
       "1  cvrp-2-df-73   df-2  {'lng': -48.05498915846707, 'lat': -15.8381445...   \n",
       "2  cvrp-2-df-20   df-2  {'lng': -48.05498915846707, 'lat': -15.8381445...   \n",
       "3  cvrp-1-df-71   df-1  {'lng': -47.89366206897872, 'lat': -15.8051175...   \n",
       "4  cvrp-2-df-87   df-2  {'lng': -48.05498915846707, 'lat': -15.8381445...   \n",
       "\n",
       "   vehicle_capacity                                         deliveries  \n",
       "0               180  [{'id': '313483a19d2f8d65cd5024c8d215cfbd', 'p...  \n",
       "1               180  [{'id': 'bf3fc630b1c29601a4caf1bdd474b85', 'po...  \n",
       "2               180  [{'id': 'b30f1145a2ba4e0b9ac0162b68d045c3', 'p...  \n",
       "3               180  [{'id': 'be3ed547394196c12c7c27c89ac74ed6', 'p...  \n",
       "4               180  [{'id': 'a6328fb4dc0654eb28a996a270b0f6e4', 'p...  "
      ]
     },
     "execution_count": 7,
     "metadata": {},
     "output_type": "execute_result"
    }
   ],
   "source": [
    "# - wrangling da estrutura;\n",
    "\n",
    "deliveries_df = pd.DataFrame (data)\n",
    "deliveries_df.head()"
   ]
  },
  {
   "cell_type": "code",
   "execution_count": 8,
   "id": "46396812",
   "metadata": {
    "execution": {
     "iopub.execute_input": "2024-02-18T21:07:38.059705Z",
     "iopub.status.busy": "2024-02-18T21:07:38.058664Z",
     "iopub.status.idle": "2024-02-18T21:07:38.090566Z",
     "shell.execute_reply": "2024-02-18T21:07:38.089368Z"
    },
    "id": "rmd7_lqCt9xa",
    "outputId": "ecaa29f9-398b-4edf-e98c-847d984748a7",
    "papermill": {
     "duration": 0.067187,
     "end_time": "2024-02-18T21:07:38.092928",
     "exception": false,
     "start_time": "2024-02-18T21:07:38.025741",
     "status": "completed"
    },
    "tags": []
   },
   "outputs": [
    {
     "name": "stdout",
     "output_type": "stream",
     "text": [
      "<class 'pandas.core.frame.DataFrame'>\n",
      "RangeIndex: 199 entries, 0 to 198\n",
      "Data columns (total 5 columns):\n",
      " #   Column            Non-Null Count  Dtype \n",
      "---  ------            --------------  ----- \n",
      " 0   name              199 non-null    object\n",
      " 1   region            199 non-null    object\n",
      " 2   origin            199 non-null    object\n",
      " 3   vehicle_capacity  199 non-null    int64 \n",
      " 4   deliveries        199 non-null    object\n",
      "dtypes: int64(1), object(4)\n",
      "memory usage: 7.9+ KB\n"
     ]
    }
   ],
   "source": [
    "deliveries_df.info()"
   ]
  },
  {
   "cell_type": "markdown",
   "id": "b07c379a",
   "metadata": {
    "id": "I757A5KeuWgo",
    "papermill": {
     "duration": 0.031789,
     "end_time": "2024-02-18T21:07:38.156754",
     "exception": false,
     "start_time": "2024-02-18T21:07:38.124965",
     "status": "completed"
    },
    "tags": []
   },
   "source": [
    "As colunas origin e deliveries possuem dados em formato de dicionário e lista, sendo assim, serão necessários alguns métodos da biblioteca pandas para descompactar essas informações.\n",
    "\n",
    "👉 Será criado um segundo dataframe utilizando o método .json_normalize.\n",
    "\n",
    "Também, utilizaremos a operação conhecida como flatten, que transforma cada chave do JSON em uma nova coluna, separando as informações que estão alinhadas como dicionário mantendo o index original."
   ]
  },
  {
   "cell_type": "markdown",
   "id": "91dd4a2b",
   "metadata": {
    "id": "16mN1nlF2UeY",
    "papermill": {
     "duration": 0.031156,
     "end_time": "2024-02-18T21:07:38.219459",
     "exception": false,
     "start_time": "2024-02-18T21:07:38.188303",
     "status": "completed"
    },
    "tags": []
   },
   "source": [
    " - **Coluna**: origin"
   ]
  },
  {
   "cell_type": "markdown",
   "id": "96e948b0",
   "metadata": {
    "id": "SGJ00J4V2nTK",
    "papermill": {
     "duration": 0.031126,
     "end_time": "2024-02-18T21:07:38.281977",
     "exception": false,
     "start_time": "2024-02-18T21:07:38.250851",
     "status": "completed"
    },
    "tags": []
   },
   "source": [
    "Vamos normalizar a coluna com a operação conhecida como flatten ou achatamento que transforma cada chave do JSON em uma nova coluna:"
   ]
  },
  {
   "cell_type": "code",
   "execution_count": 9,
   "id": "e7578754",
   "metadata": {
    "execution": {
     "iopub.execute_input": "2024-02-18T21:07:38.348229Z",
     "iopub.status.busy": "2024-02-18T21:07:38.347148Z",
     "iopub.status.idle": "2024-02-18T21:07:38.362050Z",
     "shell.execute_reply": "2024-02-18T21:07:38.360896Z"
    },
    "id": "yNdgXzja2zWn",
    "outputId": "13a1b2f2-da3e-47ba-9131-04aad43a819d",
    "papermill": {
     "duration": 0.050364,
     "end_time": "2024-02-18T21:07:38.364418",
     "exception": false,
     "start_time": "2024-02-18T21:07:38.314054",
     "status": "completed"
    },
    "tags": []
   },
   "outputs": [
    {
     "data": {
      "text/html": [
       "<div>\n",
       "<style scoped>\n",
       "    .dataframe tbody tr th:only-of-type {\n",
       "        vertical-align: middle;\n",
       "    }\n",
       "\n",
       "    .dataframe tbody tr th {\n",
       "        vertical-align: top;\n",
       "    }\n",
       "\n",
       "    .dataframe thead th {\n",
       "        text-align: right;\n",
       "    }\n",
       "</style>\n",
       "<table border=\"1\" class=\"dataframe\">\n",
       "  <thead>\n",
       "    <tr style=\"text-align: right;\">\n",
       "      <th></th>\n",
       "      <th>lng</th>\n",
       "      <th>lat</th>\n",
       "    </tr>\n",
       "  </thead>\n",
       "  <tbody>\n",
       "    <tr>\n",
       "      <th>0</th>\n",
       "      <td>-48.054989</td>\n",
       "      <td>-15.838145</td>\n",
       "    </tr>\n",
       "    <tr>\n",
       "      <th>1</th>\n",
       "      <td>-48.054989</td>\n",
       "      <td>-15.838145</td>\n",
       "    </tr>\n",
       "    <tr>\n",
       "      <th>2</th>\n",
       "      <td>-48.054989</td>\n",
       "      <td>-15.838145</td>\n",
       "    </tr>\n",
       "    <tr>\n",
       "      <th>3</th>\n",
       "      <td>-47.893662</td>\n",
       "      <td>-15.805118</td>\n",
       "    </tr>\n",
       "    <tr>\n",
       "      <th>4</th>\n",
       "      <td>-48.054989</td>\n",
       "      <td>-15.838145</td>\n",
       "    </tr>\n",
       "  </tbody>\n",
       "</table>\n",
       "</div>"
      ],
      "text/plain": [
       "         lng        lat\n",
       "0 -48.054989 -15.838145\n",
       "1 -48.054989 -15.838145\n",
       "2 -48.054989 -15.838145\n",
       "3 -47.893662 -15.805118\n",
       "4 -48.054989 -15.838145"
      ]
     },
     "execution_count": 9,
     "metadata": {},
     "output_type": "execute_result"
    }
   ],
   "source": [
    "hub_origin_df = pd.json_normalize(deliveries_df[\"origin\"])\n",
    "hub_origin_df.head()\n"
   ]
  },
  {
   "cell_type": "markdown",
   "id": "6188f47b",
   "metadata": {
    "id": "mK2xdBoZ3GJH",
    "papermill": {
     "duration": 0.032352,
     "end_time": "2024-02-18T21:07:38.429437",
     "exception": false,
     "start_time": "2024-02-18T21:07:38.397085",
     "status": "completed"
    },
    "tags": []
   },
   "source": [
    "Após a separação dos dados em colunas é possível juntar os dois dataframes com o método merge utilizando o index das linhas que foi mantido como chave para uní-los."
   ]
  },
  {
   "cell_type": "code",
   "execution_count": 10,
   "id": "9e0ae3a1",
   "metadata": {
    "execution": {
     "iopub.execute_input": "2024-02-18T21:07:38.497204Z",
     "iopub.status.busy": "2024-02-18T21:07:38.495804Z",
     "iopub.status.idle": "2024-02-18T21:07:38.508756Z",
     "shell.execute_reply": "2024-02-18T21:07:38.507614Z"
    },
    "id": "ree4QemF3H4I",
    "papermill": {
     "duration": 0.05038,
     "end_time": "2024-02-18T21:07:38.511609",
     "exception": false,
     "start_time": "2024-02-18T21:07:38.461229",
     "status": "completed"
    },
    "tags": []
   },
   "outputs": [],
   "source": [
    "deliveries_df = pd.merge(left=deliveries_df, right=hub_origin_df, how='inner', left_index=True, right_index=True)"
   ]
  },
  {
   "cell_type": "code",
   "execution_count": 11,
   "id": "b3b6bd86",
   "metadata": {
    "execution": {
     "iopub.execute_input": "2024-02-18T21:07:38.581399Z",
     "iopub.status.busy": "2024-02-18T21:07:38.580591Z",
     "iopub.status.idle": "2024-02-18T21:07:38.965702Z",
     "shell.execute_reply": "2024-02-18T21:07:38.964072Z"
    },
    "id": "TTM2l78_3NhK",
    "outputId": "c1950790-2cf0-4467-9d3a-194ff38a9548",
    "papermill": {
     "duration": 0.424231,
     "end_time": "2024-02-18T21:07:38.968189",
     "exception": false,
     "start_time": "2024-02-18T21:07:38.543958",
     "status": "completed"
    },
    "tags": []
   },
   "outputs": [
    {
     "data": {
      "text/html": [
       "<div>\n",
       "<style scoped>\n",
       "    .dataframe tbody tr th:only-of-type {\n",
       "        vertical-align: middle;\n",
       "    }\n",
       "\n",
       "    .dataframe tbody tr th {\n",
       "        vertical-align: top;\n",
       "    }\n",
       "\n",
       "    .dataframe thead th {\n",
       "        text-align: right;\n",
       "    }\n",
       "</style>\n",
       "<table border=\"1\" class=\"dataframe\">\n",
       "  <thead>\n",
       "    <tr style=\"text-align: right;\">\n",
       "      <th></th>\n",
       "      <th>name</th>\n",
       "      <th>region</th>\n",
       "      <th>origin</th>\n",
       "      <th>vehicle_capacity</th>\n",
       "      <th>deliveries</th>\n",
       "      <th>lng</th>\n",
       "      <th>lat</th>\n",
       "    </tr>\n",
       "  </thead>\n",
       "  <tbody>\n",
       "    <tr>\n",
       "      <th>0</th>\n",
       "      <td>cvrp-2-df-33</td>\n",
       "      <td>df-2</td>\n",
       "      <td>{'lng': -48.05498915846707, 'lat': -15.8381445...</td>\n",
       "      <td>180</td>\n",
       "      <td>[{'id': '313483a19d2f8d65cd5024c8d215cfbd', 'p...</td>\n",
       "      <td>-48.054989</td>\n",
       "      <td>-15.838145</td>\n",
       "    </tr>\n",
       "    <tr>\n",
       "      <th>1</th>\n",
       "      <td>cvrp-2-df-73</td>\n",
       "      <td>df-2</td>\n",
       "      <td>{'lng': -48.05498915846707, 'lat': -15.8381445...</td>\n",
       "      <td>180</td>\n",
       "      <td>[{'id': 'bf3fc630b1c29601a4caf1bdd474b85', 'po...</td>\n",
       "      <td>-48.054989</td>\n",
       "      <td>-15.838145</td>\n",
       "    </tr>\n",
       "    <tr>\n",
       "      <th>2</th>\n",
       "      <td>cvrp-2-df-20</td>\n",
       "      <td>df-2</td>\n",
       "      <td>{'lng': -48.05498915846707, 'lat': -15.8381445...</td>\n",
       "      <td>180</td>\n",
       "      <td>[{'id': 'b30f1145a2ba4e0b9ac0162b68d045c3', 'p...</td>\n",
       "      <td>-48.054989</td>\n",
       "      <td>-15.838145</td>\n",
       "    </tr>\n",
       "    <tr>\n",
       "      <th>3</th>\n",
       "      <td>cvrp-1-df-71</td>\n",
       "      <td>df-1</td>\n",
       "      <td>{'lng': -47.89366206897872, 'lat': -15.8051175...</td>\n",
       "      <td>180</td>\n",
       "      <td>[{'id': 'be3ed547394196c12c7c27c89ac74ed6', 'p...</td>\n",
       "      <td>-47.893662</td>\n",
       "      <td>-15.805118</td>\n",
       "    </tr>\n",
       "    <tr>\n",
       "      <th>4</th>\n",
       "      <td>cvrp-2-df-87</td>\n",
       "      <td>df-2</td>\n",
       "      <td>{'lng': -48.05498915846707, 'lat': -15.8381445...</td>\n",
       "      <td>180</td>\n",
       "      <td>[{'id': 'a6328fb4dc0654eb28a996a270b0f6e4', 'p...</td>\n",
       "      <td>-48.054989</td>\n",
       "      <td>-15.838145</td>\n",
       "    </tr>\n",
       "  </tbody>\n",
       "</table>\n",
       "</div>"
      ],
      "text/plain": [
       "           name region                                             origin  \\\n",
       "0  cvrp-2-df-33   df-2  {'lng': -48.05498915846707, 'lat': -15.8381445...   \n",
       "1  cvrp-2-df-73   df-2  {'lng': -48.05498915846707, 'lat': -15.8381445...   \n",
       "2  cvrp-2-df-20   df-2  {'lng': -48.05498915846707, 'lat': -15.8381445...   \n",
       "3  cvrp-1-df-71   df-1  {'lng': -47.89366206897872, 'lat': -15.8051175...   \n",
       "4  cvrp-2-df-87   df-2  {'lng': -48.05498915846707, 'lat': -15.8381445...   \n",
       "\n",
       "   vehicle_capacity                                         deliveries  \\\n",
       "0               180  [{'id': '313483a19d2f8d65cd5024c8d215cfbd', 'p...   \n",
       "1               180  [{'id': 'bf3fc630b1c29601a4caf1bdd474b85', 'po...   \n",
       "2               180  [{'id': 'b30f1145a2ba4e0b9ac0162b68d045c3', 'p...   \n",
       "3               180  [{'id': 'be3ed547394196c12c7c27c89ac74ed6', 'p...   \n",
       "4               180  [{'id': 'a6328fb4dc0654eb28a996a270b0f6e4', 'p...   \n",
       "\n",
       "         lng        lat  \n",
       "0 -48.054989 -15.838145  \n",
       "1 -48.054989 -15.838145  \n",
       "2 -48.054989 -15.838145  \n",
       "3 -47.893662 -15.805118  \n",
       "4 -48.054989 -15.838145  "
      ]
     },
     "execution_count": 11,
     "metadata": {},
     "output_type": "execute_result"
    }
   ],
   "source": [
    "deliveries_df.head()"
   ]
  },
  {
   "cell_type": "markdown",
   "id": "47f97b90",
   "metadata": {
    "id": "UHabjnJN59Md",
    "papermill": {
     "duration": 0.032494,
     "end_time": "2024-02-18T21:07:39.033132",
     "exception": false,
     "start_time": "2024-02-18T21:07:39.000638",
     "status": "completed"
    },
    "tags": []
   },
   "source": [
    "Com os dados unidos em um só dataframe, e as novas colunas de lng e lat, vamos remover a coluna origin contendo os dados no dicionário alinhado e reordenar as colunas."
   ]
  },
  {
   "cell_type": "code",
   "execution_count": 12,
   "id": "3c353e97",
   "metadata": {
    "execution": {
     "iopub.execute_input": "2024-02-18T21:07:39.099716Z",
     "iopub.status.busy": "2024-02-18T21:07:39.099264Z",
     "iopub.status.idle": "2024-02-18T21:07:39.491384Z",
     "shell.execute_reply": "2024-02-18T21:07:39.490291Z"
    },
    "id": "e5T4fM9a6MLa",
    "outputId": "f7ce24b4-5c7d-42b1-cda6-fc7bfdaf5efe",
    "papermill": {
     "duration": 0.428641,
     "end_time": "2024-02-18T21:07:39.494021",
     "exception": false,
     "start_time": "2024-02-18T21:07:39.065380",
     "status": "completed"
    },
    "tags": []
   },
   "outputs": [
    {
     "data": {
      "text/html": [
       "<div>\n",
       "<style scoped>\n",
       "    .dataframe tbody tr th:only-of-type {\n",
       "        vertical-align: middle;\n",
       "    }\n",
       "\n",
       "    .dataframe tbody tr th {\n",
       "        vertical-align: top;\n",
       "    }\n",
       "\n",
       "    .dataframe thead th {\n",
       "        text-align: right;\n",
       "    }\n",
       "</style>\n",
       "<table border=\"1\" class=\"dataframe\">\n",
       "  <thead>\n",
       "    <tr style=\"text-align: right;\">\n",
       "      <th></th>\n",
       "      <th>name</th>\n",
       "      <th>region</th>\n",
       "      <th>lng</th>\n",
       "      <th>lat</th>\n",
       "      <th>vehicle_capacity</th>\n",
       "      <th>deliveries</th>\n",
       "    </tr>\n",
       "  </thead>\n",
       "  <tbody>\n",
       "    <tr>\n",
       "      <th>0</th>\n",
       "      <td>cvrp-2-df-33</td>\n",
       "      <td>df-2</td>\n",
       "      <td>-48.054989</td>\n",
       "      <td>-15.838145</td>\n",
       "      <td>180</td>\n",
       "      <td>[{'id': '313483a19d2f8d65cd5024c8d215cfbd', 'p...</td>\n",
       "    </tr>\n",
       "    <tr>\n",
       "      <th>1</th>\n",
       "      <td>cvrp-2-df-73</td>\n",
       "      <td>df-2</td>\n",
       "      <td>-48.054989</td>\n",
       "      <td>-15.838145</td>\n",
       "      <td>180</td>\n",
       "      <td>[{'id': 'bf3fc630b1c29601a4caf1bdd474b85', 'po...</td>\n",
       "    </tr>\n",
       "    <tr>\n",
       "      <th>2</th>\n",
       "      <td>cvrp-2-df-20</td>\n",
       "      <td>df-2</td>\n",
       "      <td>-48.054989</td>\n",
       "      <td>-15.838145</td>\n",
       "      <td>180</td>\n",
       "      <td>[{'id': 'b30f1145a2ba4e0b9ac0162b68d045c3', 'p...</td>\n",
       "    </tr>\n",
       "    <tr>\n",
       "      <th>3</th>\n",
       "      <td>cvrp-1-df-71</td>\n",
       "      <td>df-1</td>\n",
       "      <td>-47.893662</td>\n",
       "      <td>-15.805118</td>\n",
       "      <td>180</td>\n",
       "      <td>[{'id': 'be3ed547394196c12c7c27c89ac74ed6', 'p...</td>\n",
       "    </tr>\n",
       "    <tr>\n",
       "      <th>4</th>\n",
       "      <td>cvrp-2-df-87</td>\n",
       "      <td>df-2</td>\n",
       "      <td>-48.054989</td>\n",
       "      <td>-15.838145</td>\n",
       "      <td>180</td>\n",
       "      <td>[{'id': 'a6328fb4dc0654eb28a996a270b0f6e4', 'p...</td>\n",
       "    </tr>\n",
       "  </tbody>\n",
       "</table>\n",
       "</div>"
      ],
      "text/plain": [
       "           name region        lng        lat  vehicle_capacity  \\\n",
       "0  cvrp-2-df-33   df-2 -48.054989 -15.838145               180   \n",
       "1  cvrp-2-df-73   df-2 -48.054989 -15.838145               180   \n",
       "2  cvrp-2-df-20   df-2 -48.054989 -15.838145               180   \n",
       "3  cvrp-1-df-71   df-1 -47.893662 -15.805118               180   \n",
       "4  cvrp-2-df-87   df-2 -48.054989 -15.838145               180   \n",
       "\n",
       "                                          deliveries  \n",
       "0  [{'id': '313483a19d2f8d65cd5024c8d215cfbd', 'p...  \n",
       "1  [{'id': 'bf3fc630b1c29601a4caf1bdd474b85', 'po...  \n",
       "2  [{'id': 'b30f1145a2ba4e0b9ac0162b68d045c3', 'p...  \n",
       "3  [{'id': 'be3ed547394196c12c7c27c89ac74ed6', 'p...  \n",
       "4  [{'id': 'a6328fb4dc0654eb28a996a270b0f6e4', 'p...  "
      ]
     },
     "execution_count": 12,
     "metadata": {},
     "output_type": "execute_result"
    }
   ],
   "source": [
    "deliveries_df = deliveries_df.drop(\"origin\", axis=1)\n",
    "deliveries_df = deliveries_df[[\"name\", \"region\", \"lng\", \"lat\", \"vehicle_capacity\", \"deliveries\"]]\n",
    "deliveries_df.head()"
   ]
  },
  {
   "cell_type": "markdown",
   "id": "56071448",
   "metadata": {
    "id": "a0OZWoWv6YW2",
    "papermill": {
     "duration": 0.03404,
     "end_time": "2024-02-18T21:07:39.561295",
     "exception": false,
     "start_time": "2024-02-18T21:07:39.527255",
     "status": "completed"
    },
    "tags": []
   },
   "source": [
    "Visto que em deliveries também existem informações referentes à latitude e longitude do ponto de entrega, vamos renomear as colunas recém criadas para especificar que se referem ao hub de origem:"
   ]
  },
  {
   "cell_type": "code",
   "execution_count": 13,
   "id": "30fb3bc5",
   "metadata": {
    "execution": {
     "iopub.execute_input": "2024-02-18T21:07:39.632007Z",
     "iopub.status.busy": "2024-02-18T21:07:39.631621Z",
     "iopub.status.idle": "2024-02-18T21:07:40.024970Z",
     "shell.execute_reply": "2024-02-18T21:07:40.023721Z"
    },
    "id": "2PMFFQRT66AA",
    "outputId": "c1768b72-0f18-4430-c3c4-569a93bd6370",
    "papermill": {
     "duration": 0.431864,
     "end_time": "2024-02-18T21:07:40.027679",
     "exception": false,
     "start_time": "2024-02-18T21:07:39.595815",
     "status": "completed"
    },
    "tags": []
   },
   "outputs": [
    {
     "data": {
      "text/html": [
       "<div>\n",
       "<style scoped>\n",
       "    .dataframe tbody tr th:only-of-type {\n",
       "        vertical-align: middle;\n",
       "    }\n",
       "\n",
       "    .dataframe tbody tr th {\n",
       "        vertical-align: top;\n",
       "    }\n",
       "\n",
       "    .dataframe thead th {\n",
       "        text-align: right;\n",
       "    }\n",
       "</style>\n",
       "<table border=\"1\" class=\"dataframe\">\n",
       "  <thead>\n",
       "    <tr style=\"text-align: right;\">\n",
       "      <th></th>\n",
       "      <th>name</th>\n",
       "      <th>region</th>\n",
       "      <th>hub_lng</th>\n",
       "      <th>hub_lat</th>\n",
       "      <th>vehicle_capacity</th>\n",
       "      <th>deliveries</th>\n",
       "    </tr>\n",
       "  </thead>\n",
       "  <tbody>\n",
       "    <tr>\n",
       "      <th>0</th>\n",
       "      <td>cvrp-2-df-33</td>\n",
       "      <td>df-2</td>\n",
       "      <td>-48.054989</td>\n",
       "      <td>-15.838145</td>\n",
       "      <td>180</td>\n",
       "      <td>[{'id': '313483a19d2f8d65cd5024c8d215cfbd', 'p...</td>\n",
       "    </tr>\n",
       "    <tr>\n",
       "      <th>1</th>\n",
       "      <td>cvrp-2-df-73</td>\n",
       "      <td>df-2</td>\n",
       "      <td>-48.054989</td>\n",
       "      <td>-15.838145</td>\n",
       "      <td>180</td>\n",
       "      <td>[{'id': 'bf3fc630b1c29601a4caf1bdd474b85', 'po...</td>\n",
       "    </tr>\n",
       "    <tr>\n",
       "      <th>2</th>\n",
       "      <td>cvrp-2-df-20</td>\n",
       "      <td>df-2</td>\n",
       "      <td>-48.054989</td>\n",
       "      <td>-15.838145</td>\n",
       "      <td>180</td>\n",
       "      <td>[{'id': 'b30f1145a2ba4e0b9ac0162b68d045c3', 'p...</td>\n",
       "    </tr>\n",
       "    <tr>\n",
       "      <th>3</th>\n",
       "      <td>cvrp-1-df-71</td>\n",
       "      <td>df-1</td>\n",
       "      <td>-47.893662</td>\n",
       "      <td>-15.805118</td>\n",
       "      <td>180</td>\n",
       "      <td>[{'id': 'be3ed547394196c12c7c27c89ac74ed6', 'p...</td>\n",
       "    </tr>\n",
       "    <tr>\n",
       "      <th>4</th>\n",
       "      <td>cvrp-2-df-87</td>\n",
       "      <td>df-2</td>\n",
       "      <td>-48.054989</td>\n",
       "      <td>-15.838145</td>\n",
       "      <td>180</td>\n",
       "      <td>[{'id': 'a6328fb4dc0654eb28a996a270b0f6e4', 'p...</td>\n",
       "    </tr>\n",
       "  </tbody>\n",
       "</table>\n",
       "</div>"
      ],
      "text/plain": [
       "           name region    hub_lng    hub_lat  vehicle_capacity  \\\n",
       "0  cvrp-2-df-33   df-2 -48.054989 -15.838145               180   \n",
       "1  cvrp-2-df-73   df-2 -48.054989 -15.838145               180   \n",
       "2  cvrp-2-df-20   df-2 -48.054989 -15.838145               180   \n",
       "3  cvrp-1-df-71   df-1 -47.893662 -15.805118               180   \n",
       "4  cvrp-2-df-87   df-2 -48.054989 -15.838145               180   \n",
       "\n",
       "                                          deliveries  \n",
       "0  [{'id': '313483a19d2f8d65cd5024c8d215cfbd', 'p...  \n",
       "1  [{'id': 'bf3fc630b1c29601a4caf1bdd474b85', 'po...  \n",
       "2  [{'id': 'b30f1145a2ba4e0b9ac0162b68d045c3', 'p...  \n",
       "3  [{'id': 'be3ed547394196c12c7c27c89ac74ed6', 'p...  \n",
       "4  [{'id': 'a6328fb4dc0654eb28a996a270b0f6e4', 'p...  "
      ]
     },
     "execution_count": 13,
     "metadata": {},
     "output_type": "execute_result"
    }
   ],
   "source": [
    "deliveries_df.rename(columns={\"lng\": \"hub_lng\", \"lat\": \"hub_lat\"}, inplace=True)\n",
    "deliveries_df.head()"
   ]
  },
  {
   "cell_type": "markdown",
   "id": "670c3429",
   "metadata": {
    "id": "yKNoJwr-7M-N",
    "papermill": {
     "duration": 0.032613,
     "end_time": "2024-02-18T21:07:40.093442",
     "exception": false,
     "start_time": "2024-02-18T21:07:40.060829",
     "status": "completed"
    },
    "tags": []
   },
   "source": [
    " - **Coluna**: deliveries"
   ]
  },
  {
   "cell_type": "markdown",
   "id": "1ebcfb02",
   "metadata": {
    "id": "ubR2VsC77d4v",
    "papermill": {
     "duration": 0.033506,
     "end_time": "2024-02-18T21:07:40.160293",
     "exception": false,
     "start_time": "2024-02-18T21:07:40.126787",
     "status": "completed"
    },
    "tags": []
   },
   "source": [
    "Vamos fazer o tratamento da coluna deliveries, onde cada linha contém uma lista de JSON que corresponde ao formato de um dicionário python\n",
    "\n",
    "👉 A partir da coluna deliveries cria-se um novo dataframe, utilizando o método explode, que transforma cada elemento da lista em uma nova linha do dataframe.\n",
    "\n",
    "Verifica-se que o dataframe criado possui 636149 linhas, e elas mantém o index da linha do dataframe de origem."
   ]
  },
  {
   "cell_type": "code",
   "execution_count": 14,
   "id": "eb1b850f",
   "metadata": {
    "execution": {
     "iopub.execute_input": "2024-02-18T21:07:40.228162Z",
     "iopub.status.busy": "2024-02-18T21:07:40.227774Z",
     "iopub.status.idle": "2024-02-18T21:07:40.343101Z",
     "shell.execute_reply": "2024-02-18T21:07:40.341868Z"
    },
    "id": "4VDgp2px8If4",
    "outputId": "329a4f07-edd6-4cf9-b0ea-0e1e21596fac",
    "papermill": {
     "duration": 0.152346,
     "end_time": "2024-02-18T21:07:40.345616",
     "exception": false,
     "start_time": "2024-02-18T21:07:40.193270",
     "status": "completed"
    },
    "tags": []
   },
   "outputs": [
    {
     "name": "stdout",
     "output_type": "stream",
     "text": [
      "636149\n"
     ]
    }
   ],
   "source": [
    "deliveries_exploded_df = deliveries_df[[\"deliveries\"]].explode(\"deliveries\")\n",
    "print(len(deliveries_exploded_df))"
   ]
  },
  {
   "cell_type": "code",
   "execution_count": 15,
   "id": "e120f50e",
   "metadata": {
    "execution": {
     "iopub.execute_input": "2024-02-18T21:07:40.415702Z",
     "iopub.status.busy": "2024-02-18T21:07:40.414505Z",
     "iopub.status.idle": "2024-02-18T21:07:40.429264Z",
     "shell.execute_reply": "2024-02-18T21:07:40.428106Z"
    },
    "id": "9uIWQKs-8N82",
    "outputId": "3630e66d-7590-4d30-aa7b-3d28489a0b1b",
    "papermill": {
     "duration": 0.053183,
     "end_time": "2024-02-18T21:07:40.431829",
     "exception": false,
     "start_time": "2024-02-18T21:07:40.378646",
     "status": "completed"
    },
    "tags": []
   },
   "outputs": [
    {
     "data": {
      "text/html": [
       "<div>\n",
       "<style scoped>\n",
       "    .dataframe tbody tr th:only-of-type {\n",
       "        vertical-align: middle;\n",
       "    }\n",
       "\n",
       "    .dataframe tbody tr th {\n",
       "        vertical-align: top;\n",
       "    }\n",
       "\n",
       "    .dataframe thead th {\n",
       "        text-align: right;\n",
       "    }\n",
       "</style>\n",
       "<table border=\"1\" class=\"dataframe\">\n",
       "  <thead>\n",
       "    <tr style=\"text-align: right;\">\n",
       "      <th></th>\n",
       "      <th>deliveries</th>\n",
       "    </tr>\n",
       "  </thead>\n",
       "  <tbody>\n",
       "    <tr>\n",
       "      <th>0</th>\n",
       "      <td>{'id': '313483a19d2f8d65cd5024c8d215cfbd', 'po...</td>\n",
       "    </tr>\n",
       "    <tr>\n",
       "      <th>0</th>\n",
       "      <td>{'id': '320c94b17aa685c939b3f3244c3099de', 'po...</td>\n",
       "    </tr>\n",
       "    <tr>\n",
       "      <th>0</th>\n",
       "      <td>{'id': '3663b42f4b8decb33059febaba46d5c8', 'po...</td>\n",
       "    </tr>\n",
       "    <tr>\n",
       "      <th>0</th>\n",
       "      <td>{'id': 'e11ab58363c38d6abc90d5fba87b7d7', 'poi...</td>\n",
       "    </tr>\n",
       "    <tr>\n",
       "      <th>0</th>\n",
       "      <td>{'id': '54cb45b7bbbd4e34e7150900f92d7f4b', 'po...</td>\n",
       "    </tr>\n",
       "  </tbody>\n",
       "</table>\n",
       "</div>"
      ],
      "text/plain": [
       "                                          deliveries\n",
       "0  {'id': '313483a19d2f8d65cd5024c8d215cfbd', 'po...\n",
       "0  {'id': '320c94b17aa685c939b3f3244c3099de', 'po...\n",
       "0  {'id': '3663b42f4b8decb33059febaba46d5c8', 'po...\n",
       "0  {'id': 'e11ab58363c38d6abc90d5fba87b7d7', 'poi...\n",
       "0  {'id': '54cb45b7bbbd4e34e7150900f92d7f4b', 'po..."
      ]
     },
     "execution_count": 15,
     "metadata": {},
     "output_type": "execute_result"
    }
   ],
   "source": [
    "deliveries_exploded_df.head()"
   ]
  },
  {
   "cell_type": "code",
   "execution_count": 16,
   "id": "d15b3e31",
   "metadata": {
    "execution": {
     "iopub.execute_input": "2024-02-18T21:07:40.505136Z",
     "iopub.status.busy": "2024-02-18T21:07:40.504642Z",
     "iopub.status.idle": "2024-02-18T21:07:40.524579Z",
     "shell.execute_reply": "2024-02-18T21:07:40.523078Z"
    },
    "id": "DKwsB7Rj8SL1",
    "outputId": "3c53b292-4066-47cf-b17b-ec3a97af8f23",
    "papermill": {
     "duration": 0.062115,
     "end_time": "2024-02-18T21:07:40.527418",
     "exception": false,
     "start_time": "2024-02-18T21:07:40.465303",
     "status": "completed"
    },
    "tags": []
   },
   "outputs": [
    {
     "data": {
      "text/html": [
       "<div>\n",
       "<style scoped>\n",
       "    .dataframe tbody tr th:only-of-type {\n",
       "        vertical-align: middle;\n",
       "    }\n",
       "\n",
       "    .dataframe tbody tr th {\n",
       "        vertical-align: top;\n",
       "    }\n",
       "\n",
       "    .dataframe thead th {\n",
       "        text-align: right;\n",
       "    }\n",
       "</style>\n",
       "<table border=\"1\" class=\"dataframe\">\n",
       "  <thead>\n",
       "    <tr style=\"text-align: right;\">\n",
       "      <th></th>\n",
       "      <th>deliveries</th>\n",
       "    </tr>\n",
       "  </thead>\n",
       "  <tbody>\n",
       "    <tr>\n",
       "      <th>198</th>\n",
       "      <td>{'id': '21693bf442ac5890adbdf2648c12881a', 'po...</td>\n",
       "    </tr>\n",
       "    <tr>\n",
       "      <th>198</th>\n",
       "      <td>{'id': '7aaa35088b37b6e542c4cd69663a7ebf', 'po...</td>\n",
       "    </tr>\n",
       "    <tr>\n",
       "      <th>198</th>\n",
       "      <td>{'id': '60c00d5390da4f28167439cd9c566703', 'po...</td>\n",
       "    </tr>\n",
       "    <tr>\n",
       "      <th>198</th>\n",
       "      <td>{'id': '51f456963785e7381243ff7baf7efd06', 'po...</td>\n",
       "    </tr>\n",
       "    <tr>\n",
       "      <th>198</th>\n",
       "      <td>{'id': 'b7078c815198669e2aab4336e94c0bb8', 'po...</td>\n",
       "    </tr>\n",
       "  </tbody>\n",
       "</table>\n",
       "</div>"
      ],
      "text/plain": [
       "                                            deliveries\n",
       "198  {'id': '21693bf442ac5890adbdf2648c12881a', 'po...\n",
       "198  {'id': '7aaa35088b37b6e542c4cd69663a7ebf', 'po...\n",
       "198  {'id': '60c00d5390da4f28167439cd9c566703', 'po...\n",
       "198  {'id': '51f456963785e7381243ff7baf7efd06', 'po...\n",
       "198  {'id': 'b7078c815198669e2aab4336e94c0bb8', 'po..."
      ]
     },
     "execution_count": 16,
     "metadata": {},
     "output_type": "execute_result"
    }
   ],
   "source": [
    "deliveries_exploded_df.tail()"
   ]
  },
  {
   "cell_type": "markdown",
   "id": "453a194d",
   "metadata": {
    "id": "CFb09Zwp9LDG",
    "papermill": {
     "duration": 0.036926,
     "end_time": "2024-02-18T21:07:40.611240",
     "exception": false,
     "start_time": "2024-02-18T21:07:40.574314",
     "status": "completed"
    },
    "tags": []
   },
   "source": [
    "👉 Cada linha (dicionário/json) do dataframe dá origem a 3 novos dataframes, onde cada um representa uma informação de interesse contida ali dentro.\n",
    "\n",
    "Agora cada linha será primeiramente transformada em um dataframe com o método apply sobre a coluna, selecionando as informações através da chave do dicionário das informações referentes à latitude, longitude e tamanho da carga (o id não será utilizado)."
   ]
  },
  {
   "cell_type": "code",
   "execution_count": 17,
   "id": "9a463e7a",
   "metadata": {
    "execution": {
     "iopub.execute_input": "2024-02-18T21:07:40.690403Z",
     "iopub.status.busy": "2024-02-18T21:07:40.689023Z",
     "iopub.status.idle": "2024-02-18T21:07:41.861373Z",
     "shell.execute_reply": "2024-02-18T21:07:41.860301Z"
    },
    "id": "AHv1p5bX9zrH",
    "outputId": "2ff4ccb1-7065-4b1d-b92a-8c5abb2686bc",
    "papermill": {
     "duration": 1.211676,
     "end_time": "2024-02-18T21:07:41.864148",
     "exception": false,
     "start_time": "2024-02-18T21:07:40.652472",
     "status": "completed"
    },
    "tags": []
   },
   "outputs": [
    {
     "data": {
      "text/html": [
       "<div>\n",
       "<style scoped>\n",
       "    .dataframe tbody tr th:only-of-type {\n",
       "        vertical-align: middle;\n",
       "    }\n",
       "\n",
       "    .dataframe tbody tr th {\n",
       "        vertical-align: top;\n",
       "    }\n",
       "\n",
       "    .dataframe thead th {\n",
       "        text-align: right;\n",
       "    }\n",
       "</style>\n",
       "<table border=\"1\" class=\"dataframe\">\n",
       "  <thead>\n",
       "    <tr style=\"text-align: right;\">\n",
       "      <th></th>\n",
       "      <th>delivery_size</th>\n",
       "      <th>delivery_lng</th>\n",
       "      <th>delivery_lat</th>\n",
       "    </tr>\n",
       "  </thead>\n",
       "  <tbody>\n",
       "    <tr>\n",
       "      <th>0</th>\n",
       "      <td>9</td>\n",
       "      <td>-48.116189</td>\n",
       "      <td>-15.848929</td>\n",
       "    </tr>\n",
       "    <tr>\n",
       "      <th>0</th>\n",
       "      <td>2</td>\n",
       "      <td>-48.118195</td>\n",
       "      <td>-15.850772</td>\n",
       "    </tr>\n",
       "    <tr>\n",
       "      <th>0</th>\n",
       "      <td>1</td>\n",
       "      <td>-48.112483</td>\n",
       "      <td>-15.847871</td>\n",
       "    </tr>\n",
       "    <tr>\n",
       "      <th>0</th>\n",
       "      <td>2</td>\n",
       "      <td>-48.118023</td>\n",
       "      <td>-15.846471</td>\n",
       "    </tr>\n",
       "    <tr>\n",
       "      <th>0</th>\n",
       "      <td>7</td>\n",
       "      <td>-48.114898</td>\n",
       "      <td>-15.858055</td>\n",
       "    </tr>\n",
       "  </tbody>\n",
       "</table>\n",
       "</div>"
      ],
      "text/plain": [
       "   delivery_size  delivery_lng  delivery_lat\n",
       "0              9    -48.116189    -15.848929\n",
       "0              2    -48.118195    -15.850772\n",
       "0              1    -48.112483    -15.847871\n",
       "0              2    -48.118023    -15.846471\n",
       "0              7    -48.114898    -15.858055"
      ]
     },
     "execution_count": 17,
     "metadata": {},
     "output_type": "execute_result"
    }
   ],
   "source": [
    "deliveries_normalized_df = pd.concat([\n",
    "  pd.DataFrame(deliveries_exploded_df[\"deliveries\"].apply(lambda record: record[\"size\"])).rename(columns={\"deliveries\": \"delivery_size\"}),\n",
    "  pd.DataFrame(deliveries_exploded_df[\"deliveries\"].apply(lambda record: record[\"point\"][\"lng\"])).rename(columns={\"deliveries\": \"delivery_lng\"}),\n",
    "  pd.DataFrame(deliveries_exploded_df[\"deliveries\"].apply(lambda record: record[\"point\"][\"lat\"])).rename(columns={\"deliveries\": \"delivery_lat\"}),\n",
    "], axis= 1)\n",
    "deliveries_normalized_df.head()"
   ]
  },
  {
   "cell_type": "markdown",
   "id": "2d8925a5",
   "metadata": {
    "id": "XU4A246BCiD6",
    "papermill": {
     "duration": 0.034055,
     "end_time": "2024-02-18T21:07:41.932568",
     "exception": false,
     "start_time": "2024-02-18T21:07:41.898513",
     "status": "completed"
    },
    "tags": []
   },
   "source": [
    "👉 Os dados assim dispostos podem ser combinados com o dataframe inicial utilizando merge\n",
    "\n",
    "Primeiro removemos a coluna deliveries visto que o novo dataframe deliveries_normalized_df foi criado a partir dos dados dela, e após isso as informações são mescladas utilizando o index das linhas."
   ]
  },
  {
   "cell_type": "code",
   "execution_count": 18,
   "id": "973bbaf3",
   "metadata": {
    "execution": {
     "iopub.execute_input": "2024-02-18T21:07:42.003248Z",
     "iopub.status.busy": "2024-02-18T21:07:42.002557Z",
     "iopub.status.idle": "2024-02-18T21:07:42.128789Z",
     "shell.execute_reply": "2024-02-18T21:07:42.127588Z"
    },
    "id": "e9Z9GW5DCu6I",
    "outputId": "b05137c9-7bda-4f7c-d109-59db96c7c237",
    "papermill": {
     "duration": 0.164421,
     "end_time": "2024-02-18T21:07:42.131107",
     "exception": false,
     "start_time": "2024-02-18T21:07:41.966686",
     "status": "completed"
    },
    "tags": []
   },
   "outputs": [
    {
     "data": {
      "text/html": [
       "<div>\n",
       "<style scoped>\n",
       "    .dataframe tbody tr th:only-of-type {\n",
       "        vertical-align: middle;\n",
       "    }\n",
       "\n",
       "    .dataframe tbody tr th {\n",
       "        vertical-align: top;\n",
       "    }\n",
       "\n",
       "    .dataframe thead th {\n",
       "        text-align: right;\n",
       "    }\n",
       "</style>\n",
       "<table border=\"1\" class=\"dataframe\">\n",
       "  <thead>\n",
       "    <tr style=\"text-align: right;\">\n",
       "      <th></th>\n",
       "      <th>name</th>\n",
       "      <th>region</th>\n",
       "      <th>hub_lng</th>\n",
       "      <th>hub_lat</th>\n",
       "      <th>vehicle_capacity</th>\n",
       "      <th>delivery_size</th>\n",
       "      <th>delivery_lng</th>\n",
       "      <th>delivery_lat</th>\n",
       "    </tr>\n",
       "  </thead>\n",
       "  <tbody>\n",
       "    <tr>\n",
       "      <th>0</th>\n",
       "      <td>cvrp-2-df-33</td>\n",
       "      <td>df-2</td>\n",
       "      <td>-48.054989</td>\n",
       "      <td>-15.838145</td>\n",
       "      <td>180</td>\n",
       "      <td>9</td>\n",
       "      <td>-48.116189</td>\n",
       "      <td>-15.848929</td>\n",
       "    </tr>\n",
       "    <tr>\n",
       "      <th>1</th>\n",
       "      <td>cvrp-2-df-33</td>\n",
       "      <td>df-2</td>\n",
       "      <td>-48.054989</td>\n",
       "      <td>-15.838145</td>\n",
       "      <td>180</td>\n",
       "      <td>2</td>\n",
       "      <td>-48.118195</td>\n",
       "      <td>-15.850772</td>\n",
       "    </tr>\n",
       "    <tr>\n",
       "      <th>2</th>\n",
       "      <td>cvrp-2-df-33</td>\n",
       "      <td>df-2</td>\n",
       "      <td>-48.054989</td>\n",
       "      <td>-15.838145</td>\n",
       "      <td>180</td>\n",
       "      <td>1</td>\n",
       "      <td>-48.112483</td>\n",
       "      <td>-15.847871</td>\n",
       "    </tr>\n",
       "    <tr>\n",
       "      <th>3</th>\n",
       "      <td>cvrp-2-df-33</td>\n",
       "      <td>df-2</td>\n",
       "      <td>-48.054989</td>\n",
       "      <td>-15.838145</td>\n",
       "      <td>180</td>\n",
       "      <td>2</td>\n",
       "      <td>-48.118023</td>\n",
       "      <td>-15.846471</td>\n",
       "    </tr>\n",
       "    <tr>\n",
       "      <th>4</th>\n",
       "      <td>cvrp-2-df-33</td>\n",
       "      <td>df-2</td>\n",
       "      <td>-48.054989</td>\n",
       "      <td>-15.838145</td>\n",
       "      <td>180</td>\n",
       "      <td>7</td>\n",
       "      <td>-48.114898</td>\n",
       "      <td>-15.858055</td>\n",
       "    </tr>\n",
       "  </tbody>\n",
       "</table>\n",
       "</div>"
      ],
      "text/plain": [
       "           name region    hub_lng    hub_lat  vehicle_capacity  delivery_size  \\\n",
       "0  cvrp-2-df-33   df-2 -48.054989 -15.838145               180              9   \n",
       "1  cvrp-2-df-33   df-2 -48.054989 -15.838145               180              2   \n",
       "2  cvrp-2-df-33   df-2 -48.054989 -15.838145               180              1   \n",
       "3  cvrp-2-df-33   df-2 -48.054989 -15.838145               180              2   \n",
       "4  cvrp-2-df-33   df-2 -48.054989 -15.838145               180              7   \n",
       "\n",
       "   delivery_lng  delivery_lat  \n",
       "0    -48.116189    -15.848929  \n",
       "1    -48.118195    -15.850772  \n",
       "2    -48.112483    -15.847871  \n",
       "3    -48.118023    -15.846471  \n",
       "4    -48.114898    -15.858055  "
      ]
     },
     "execution_count": 18,
     "metadata": {},
     "output_type": "execute_result"
    }
   ],
   "source": [
    "deliveries_df = deliveries_df.drop(\"deliveries\", axis=1)\n",
    "deliveries_df = pd.merge(left=deliveries_df, right=deliveries_normalized_df, how='right', left_index=True, right_index=True)\n",
    "deliveries_df.reset_index(inplace=True, drop=True)\n",
    "deliveries_df.head()"
   ]
  },
  {
   "cell_type": "markdown",
   "id": "23668101",
   "metadata": {
    "id": "bXuUPt21EIpW",
    "papermill": {
     "duration": 0.034219,
     "end_time": "2024-02-18T21:07:42.200283",
     "exception": false,
     "start_time": "2024-02-18T21:07:42.166064",
     "status": "completed"
    },
    "tags": []
   },
   "source": [
    "## **3.3. Estrutura**"
   ]
  },
  {
   "cell_type": "code",
   "execution_count": 19,
   "id": "995260c1",
   "metadata": {
    "execution": {
     "iopub.execute_input": "2024-02-18T21:07:42.272821Z",
     "iopub.status.busy": "2024-02-18T21:07:42.272110Z",
     "iopub.status.idle": "2024-02-18T21:07:42.278907Z",
     "shell.execute_reply": "2024-02-18T21:07:42.277796Z"
    },
    "id": "vkJKefFkETxb",
    "outputId": "e260636b-4fe0-43d0-9203-e590f40bdafc",
    "papermill": {
     "duration": 0.045684,
     "end_time": "2024-02-18T21:07:42.281220",
     "exception": false,
     "start_time": "2024-02-18T21:07:42.235536",
     "status": "completed"
    },
    "tags": []
   },
   "outputs": [
    {
     "data": {
      "text/plain": [
       "(636149, 8)"
      ]
     },
     "execution_count": 19,
     "metadata": {},
     "output_type": "execute_result"
    }
   ],
   "source": [
    "# Número de linhas e colunas\n",
    "deliveries_df.shape"
   ]
  },
  {
   "cell_type": "code",
   "execution_count": 20,
   "id": "4254e1f5",
   "metadata": {
    "execution": {
     "iopub.execute_input": "2024-02-18T21:07:42.353070Z",
     "iopub.status.busy": "2024-02-18T21:07:42.352149Z",
     "iopub.status.idle": "2024-02-18T21:07:42.360234Z",
     "shell.execute_reply": "2024-02-18T21:07:42.359119Z"
    },
    "id": "x74EUg5YEc8D",
    "outputId": "a654e9c0-a0e9-4e9d-e91e-2807786d56c4",
    "papermill": {
     "duration": 0.047131,
     "end_time": "2024-02-18T21:07:42.362872",
     "exception": false,
     "start_time": "2024-02-18T21:07:42.315741",
     "status": "completed"
    },
    "tags": []
   },
   "outputs": [
    {
     "data": {
      "text/plain": [
       "Index(['name', 'region', 'hub_lng', 'hub_lat', 'vehicle_capacity',\n",
       "       'delivery_size', 'delivery_lng', 'delivery_lat'],\n",
       "      dtype='object')"
      ]
     },
     "execution_count": 20,
     "metadata": {},
     "output_type": "execute_result"
    }
   ],
   "source": [
    "# Nome das colunas\n",
    "deliveries_df.columns"
   ]
  },
  {
   "cell_type": "code",
   "execution_count": 21,
   "id": "1a12a7f9",
   "metadata": {
    "execution": {
     "iopub.execute_input": "2024-02-18T21:07:42.435745Z",
     "iopub.status.busy": "2024-02-18T21:07:42.435338Z",
     "iopub.status.idle": "2024-02-18T21:07:42.442181Z",
     "shell.execute_reply": "2024-02-18T21:07:42.441196Z"
    },
    "id": "rjiktpHlEkrC",
    "outputId": "51e4a6a6-a4a2-4f15-b64a-a3fa5e146bb1",
    "papermill": {
     "duration": 0.047268,
     "end_time": "2024-02-18T21:07:42.445059",
     "exception": false,
     "start_time": "2024-02-18T21:07:42.397791",
     "status": "completed"
    },
    "tags": []
   },
   "outputs": [
    {
     "data": {
      "text/plain": [
       "RangeIndex(start=0, stop=636149, step=1)"
      ]
     },
     "execution_count": 21,
     "metadata": {},
     "output_type": "execute_result"
    }
   ],
   "source": [
    "# Índex dos registros (linhas)\n",
    "deliveries_df.index"
   ]
  },
  {
   "cell_type": "code",
   "execution_count": 22,
   "id": "53441b04",
   "metadata": {
    "execution": {
     "iopub.execute_input": "2024-02-18T21:07:42.517864Z",
     "iopub.status.busy": "2024-02-18T21:07:42.517427Z",
     "iopub.status.idle": "2024-02-18T21:07:42.668691Z",
     "shell.execute_reply": "2024-02-18T21:07:42.667344Z"
    },
    "id": "8XbNhu9NEp-t",
    "outputId": "ea1c1c91-1118-4dbd-e202-b1d68dd05d83",
    "papermill": {
     "duration": 0.190339,
     "end_time": "2024-02-18T21:07:42.671072",
     "exception": false,
     "start_time": "2024-02-18T21:07:42.480733",
     "status": "completed"
    },
    "tags": []
   },
   "outputs": [
    {
     "name": "stdout",
     "output_type": "stream",
     "text": [
      "<class 'pandas.core.frame.DataFrame'>\n",
      "RangeIndex: 636149 entries, 0 to 636148\n",
      "Data columns (total 8 columns):\n",
      " #   Column            Non-Null Count   Dtype  \n",
      "---  ------            --------------   -----  \n",
      " 0   name              636149 non-null  object \n",
      " 1   region            636149 non-null  object \n",
      " 2   hub_lng           636149 non-null  float64\n",
      " 3   hub_lat           636149 non-null  float64\n",
      " 4   vehicle_capacity  636149 non-null  int64  \n",
      " 5   delivery_size     636149 non-null  int64  \n",
      " 6   delivery_lng      636149 non-null  float64\n",
      " 7   delivery_lat      636149 non-null  float64\n",
      "dtypes: float64(4), int64(2), object(2)\n",
      "memory usage: 38.8+ MB\n"
     ]
    }
   ],
   "source": [
    "# Nome das colunas, número de registros e tipos de dados\n",
    "deliveries_df.info()"
   ]
  },
  {
   "cell_type": "markdown",
   "id": "11dc5271",
   "metadata": {
    "id": "bDDo6J6BE39q",
    "papermill": {
     "duration": 0.035339,
     "end_time": "2024-02-18T21:07:42.742847",
     "exception": false,
     "start_time": "2024-02-18T21:07:42.707508",
     "status": "completed"
    },
    "tags": []
   },
   "source": [
    "## **3.4. Schema**"
   ]
  },
  {
   "cell_type": "code",
   "execution_count": 23,
   "id": "b7a9b981",
   "metadata": {
    "execution": {
     "iopub.execute_input": "2024-02-18T21:07:42.816961Z",
     "iopub.status.busy": "2024-02-18T21:07:42.816478Z",
     "iopub.status.idle": "2024-02-18T21:07:42.832960Z",
     "shell.execute_reply": "2024-02-18T21:07:42.831746Z"
    },
    "id": "lxLj8e0GHAnr",
    "outputId": "e49fd33d-1f14-4520-f294-d89d6076141d",
    "papermill": {
     "duration": 0.056614,
     "end_time": "2024-02-18T21:07:42.835510",
     "exception": false,
     "start_time": "2024-02-18T21:07:42.778896",
     "status": "completed"
    },
    "tags": []
   },
   "outputs": [
    {
     "data": {
      "text/html": [
       "<div>\n",
       "<style scoped>\n",
       "    .dataframe tbody tr th:only-of-type {\n",
       "        vertical-align: middle;\n",
       "    }\n",
       "\n",
       "    .dataframe tbody tr th {\n",
       "        vertical-align: top;\n",
       "    }\n",
       "\n",
       "    .dataframe thead th {\n",
       "        text-align: right;\n",
       "    }\n",
       "</style>\n",
       "<table border=\"1\" class=\"dataframe\">\n",
       "  <thead>\n",
       "    <tr style=\"text-align: right;\">\n",
       "      <th></th>\n",
       "      <th>name</th>\n",
       "      <th>region</th>\n",
       "      <th>hub_lng</th>\n",
       "      <th>hub_lat</th>\n",
       "      <th>vehicle_capacity</th>\n",
       "      <th>delivery_size</th>\n",
       "      <th>delivery_lng</th>\n",
       "      <th>delivery_lat</th>\n",
       "    </tr>\n",
       "  </thead>\n",
       "  <tbody>\n",
       "    <tr>\n",
       "      <th>0</th>\n",
       "      <td>cvrp-2-df-33</td>\n",
       "      <td>df-2</td>\n",
       "      <td>-48.054989</td>\n",
       "      <td>-15.838145</td>\n",
       "      <td>180</td>\n",
       "      <td>9</td>\n",
       "      <td>-48.116189</td>\n",
       "      <td>-15.848929</td>\n",
       "    </tr>\n",
       "    <tr>\n",
       "      <th>1</th>\n",
       "      <td>cvrp-2-df-33</td>\n",
       "      <td>df-2</td>\n",
       "      <td>-48.054989</td>\n",
       "      <td>-15.838145</td>\n",
       "      <td>180</td>\n",
       "      <td>2</td>\n",
       "      <td>-48.118195</td>\n",
       "      <td>-15.850772</td>\n",
       "    </tr>\n",
       "    <tr>\n",
       "      <th>2</th>\n",
       "      <td>cvrp-2-df-33</td>\n",
       "      <td>df-2</td>\n",
       "      <td>-48.054989</td>\n",
       "      <td>-15.838145</td>\n",
       "      <td>180</td>\n",
       "      <td>1</td>\n",
       "      <td>-48.112483</td>\n",
       "      <td>-15.847871</td>\n",
       "    </tr>\n",
       "    <tr>\n",
       "      <th>3</th>\n",
       "      <td>cvrp-2-df-33</td>\n",
       "      <td>df-2</td>\n",
       "      <td>-48.054989</td>\n",
       "      <td>-15.838145</td>\n",
       "      <td>180</td>\n",
       "      <td>2</td>\n",
       "      <td>-48.118023</td>\n",
       "      <td>-15.846471</td>\n",
       "    </tr>\n",
       "    <tr>\n",
       "      <th>4</th>\n",
       "      <td>cvrp-2-df-33</td>\n",
       "      <td>df-2</td>\n",
       "      <td>-48.054989</td>\n",
       "      <td>-15.838145</td>\n",
       "      <td>180</td>\n",
       "      <td>7</td>\n",
       "      <td>-48.114898</td>\n",
       "      <td>-15.858055</td>\n",
       "    </tr>\n",
       "  </tbody>\n",
       "</table>\n",
       "</div>"
      ],
      "text/plain": [
       "           name region    hub_lng    hub_lat  vehicle_capacity  delivery_size  \\\n",
       "0  cvrp-2-df-33   df-2 -48.054989 -15.838145               180              9   \n",
       "1  cvrp-2-df-33   df-2 -48.054989 -15.838145               180              2   \n",
       "2  cvrp-2-df-33   df-2 -48.054989 -15.838145               180              1   \n",
       "3  cvrp-2-df-33   df-2 -48.054989 -15.838145               180              2   \n",
       "4  cvrp-2-df-33   df-2 -48.054989 -15.838145               180              7   \n",
       "\n",
       "   delivery_lng  delivery_lat  \n",
       "0    -48.116189    -15.848929  \n",
       "1    -48.118195    -15.850772  \n",
       "2    -48.112483    -15.847871  \n",
       "3    -48.118023    -15.846471  \n",
       "4    -48.114898    -15.858055  "
      ]
     },
     "execution_count": 23,
     "metadata": {},
     "output_type": "execute_result"
    }
   ],
   "source": [
    "# - exploração do schema;\n",
    "deliveries_df.head(n=5)"
   ]
  },
  {
   "cell_type": "markdown",
   "id": "40496106",
   "metadata": {
    "id": "ljPBsH7WFxjL",
    "papermill": {
     "duration": 0.035527,
     "end_time": "2024-02-18T21:07:42.907849",
     "exception": false,
     "start_time": "2024-02-18T21:07:42.872322",
     "status": "completed"
    },
    "tags": []
   },
   "source": [
    " - Colunas e seus respectivos tipos de dados."
   ]
  },
  {
   "cell_type": "code",
   "execution_count": 24,
   "id": "fd0ff3bc",
   "metadata": {
    "execution": {
     "iopub.execute_input": "2024-02-18T21:07:42.980924Z",
     "iopub.status.busy": "2024-02-18T21:07:42.980485Z",
     "iopub.status.idle": "2024-02-18T21:07:42.989639Z",
     "shell.execute_reply": "2024-02-18T21:07:42.988343Z"
    },
    "id": "naMblLiTFzB1",
    "outputId": "2290fbd5-c9cf-45db-fc65-8afc5e462bcb",
    "papermill": {
     "duration": 0.049015,
     "end_time": "2024-02-18T21:07:42.992322",
     "exception": false,
     "start_time": "2024-02-18T21:07:42.943307",
     "status": "completed"
    },
    "tags": []
   },
   "outputs": [
    {
     "data": {
      "text/plain": [
       "name                 object\n",
       "region               object\n",
       "hub_lng             float64\n",
       "hub_lat             float64\n",
       "vehicle_capacity      int64\n",
       "delivery_size         int64\n",
       "delivery_lng        float64\n",
       "delivery_lat        float64\n",
       "dtype: object"
      ]
     },
     "execution_count": 24,
     "metadata": {},
     "output_type": "execute_result"
    }
   ],
   "source": [
    "deliveries_df.dtypes"
   ]
  },
  {
   "cell_type": "markdown",
   "id": "43f1cc5c",
   "metadata": {
    "id": "AlcfRGT0F4Cn",
    "papermill": {
     "duration": 0.037016,
     "end_time": "2024-02-18T21:07:43.066213",
     "exception": false,
     "start_time": "2024-02-18T21:07:43.029197",
     "status": "completed"
    },
    "tags": []
   },
   "source": [
    " - Atributos **categóricos**."
   ]
  },
  {
   "cell_type": "code",
   "execution_count": 25,
   "id": "8dbf20c8",
   "metadata": {
    "execution": {
     "iopub.execute_input": "2024-02-18T21:07:43.139987Z",
     "iopub.status.busy": "2024-02-18T21:07:43.139556Z",
     "iopub.status.idle": "2024-02-18T21:07:43.484386Z",
     "shell.execute_reply": "2024-02-18T21:07:43.483060Z"
    },
    "id": "30427X-1GPyv",
    "outputId": "90e60197-553f-496d-af3d-3b51a712dc5c",
    "papermill": {
     "duration": 0.384914,
     "end_time": "2024-02-18T21:07:43.487227",
     "exception": false,
     "start_time": "2024-02-18T21:07:43.102313",
     "status": "completed"
    },
    "tags": []
   },
   "outputs": [
    {
     "data": {
      "text/html": [
       "<div>\n",
       "<style scoped>\n",
       "    .dataframe tbody tr th:only-of-type {\n",
       "        vertical-align: middle;\n",
       "    }\n",
       "\n",
       "    .dataframe tbody tr th {\n",
       "        vertical-align: top;\n",
       "    }\n",
       "\n",
       "    .dataframe thead th {\n",
       "        text-align: right;\n",
       "    }\n",
       "</style>\n",
       "<table border=\"1\" class=\"dataframe\">\n",
       "  <thead>\n",
       "    <tr style=\"text-align: right;\">\n",
       "      <th></th>\n",
       "      <th>count</th>\n",
       "      <th>unique</th>\n",
       "      <th>top</th>\n",
       "      <th>freq</th>\n",
       "    </tr>\n",
       "  </thead>\n",
       "  <tbody>\n",
       "    <tr>\n",
       "      <th>name</th>\n",
       "      <td>636149</td>\n",
       "      <td>199</td>\n",
       "      <td>cvrp-1-df-87</td>\n",
       "      <td>5636</td>\n",
       "    </tr>\n",
       "    <tr>\n",
       "      <th>region</th>\n",
       "      <td>636149</td>\n",
       "      <td>3</td>\n",
       "      <td>df-1</td>\n",
       "      <td>304708</td>\n",
       "    </tr>\n",
       "  </tbody>\n",
       "</table>\n",
       "</div>"
      ],
      "text/plain": [
       "         count unique           top    freq\n",
       "name    636149    199  cvrp-1-df-87    5636\n",
       "region  636149      3          df-1  304708"
      ]
     },
     "execution_count": 25,
     "metadata": {},
     "output_type": "execute_result"
    }
   ],
   "source": [
    "# Sumário dos dados categóricos\n",
    "deliveries_df.select_dtypes(\"object\").describe().T"
   ]
  },
  {
   "cell_type": "markdown",
   "id": "dab30a82",
   "metadata": {
    "id": "ZvgOKxzyGjLi",
    "papermill": {
     "duration": 0.038157,
     "end_time": "2024-02-18T21:07:43.563326",
     "exception": false,
     "start_time": "2024-02-18T21:07:43.525169",
     "status": "completed"
    },
    "tags": []
   },
   "source": [
    " - Atributos **numéricos**."
   ]
  },
  {
   "cell_type": "code",
   "execution_count": 26,
   "id": "9f7a9cac",
   "metadata": {
    "execution": {
     "iopub.execute_input": "2024-02-18T21:07:43.640932Z",
     "iopub.status.busy": "2024-02-18T21:07:43.639890Z",
     "iopub.status.idle": "2024-02-18T21:07:43.708906Z",
     "shell.execute_reply": "2024-02-18T21:07:43.707378Z"
    },
    "id": "nvxeVAe-GtVs",
    "outputId": "975c8499-c517-474f-aeb7-67a058ed4023",
    "papermill": {
     "duration": 0.111122,
     "end_time": "2024-02-18T21:07:43.712041",
     "exception": false,
     "start_time": "2024-02-18T21:07:43.600919",
     "status": "completed"
    },
    "tags": []
   },
   "outputs": [
    {
     "data": {
      "text/html": [
       "<div>\n",
       "<style scoped>\n",
       "    .dataframe tbody tr th:only-of-type {\n",
       "        vertical-align: middle;\n",
       "    }\n",
       "\n",
       "    .dataframe tbody tr th {\n",
       "        vertical-align: top;\n",
       "    }\n",
       "\n",
       "    .dataframe thead th {\n",
       "        text-align: right;\n",
       "    }\n",
       "</style>\n",
       "<table border=\"1\" class=\"dataframe\">\n",
       "  <thead>\n",
       "    <tr style=\"text-align: right;\">\n",
       "      <th></th>\n",
       "      <th>count</th>\n",
       "      <th>mean</th>\n",
       "      <th>std</th>\n",
       "      <th>min</th>\n",
       "      <th>25%</th>\n",
       "      <th>50%</th>\n",
       "      <th>75%</th>\n",
       "      <th>max</th>\n",
       "    </tr>\n",
       "  </thead>\n",
       "  <tbody>\n",
       "    <tr>\n",
       "      <th>vehicle_capacity</th>\n",
       "      <td>636149.0</td>\n",
       "      <td>180.000000</td>\n",
       "      <td>0.000000</td>\n",
       "      <td>180.0</td>\n",
       "      <td>180.0</td>\n",
       "      <td>180.0</td>\n",
       "      <td>180.0</td>\n",
       "      <td>180.0</td>\n",
       "    </tr>\n",
       "    <tr>\n",
       "      <th>delivery_size</th>\n",
       "      <td>636149.0</td>\n",
       "      <td>5.512111</td>\n",
       "      <td>2.874557</td>\n",
       "      <td>1.0</td>\n",
       "      <td>3.0</td>\n",
       "      <td>6.0</td>\n",
       "      <td>8.0</td>\n",
       "      <td>10.0</td>\n",
       "    </tr>\n",
       "  </tbody>\n",
       "</table>\n",
       "</div>"
      ],
      "text/plain": [
       "                     count        mean       std    min    25%    50%    75%  \\\n",
       "vehicle_capacity  636149.0  180.000000  0.000000  180.0  180.0  180.0  180.0   \n",
       "delivery_size     636149.0    5.512111  2.874557    1.0    3.0    6.0    8.0   \n",
       "\n",
       "                    max  \n",
       "vehicle_capacity  180.0  \n",
       "delivery_size      10.0  "
      ]
     },
     "execution_count": 26,
     "metadata": {},
     "output_type": "execute_result"
    }
   ],
   "source": [
    "# Sumário dos dados numéricos\n",
    "deliveries_df.select_dtypes('int64').describe().T"
   ]
  },
  {
   "cell_type": "markdown",
   "id": "5a950cbe",
   "metadata": {
    "id": "u-kkhtxYHFuI",
    "papermill": {
     "duration": 0.037928,
     "end_time": "2024-02-18T21:07:43.787004",
     "exception": false,
     "start_time": "2024-02-18T21:07:43.749076",
     "status": "completed"
    },
    "tags": []
   },
   "source": [
    "## **3.5. Dados faltantes**\n",
    "\n",
    "Dados faltantes podem ser strings vazias (`\"\"`), dados nulos (`None`), não disponíveis ou aplicáveis( `na`, `NA`, etc) e não numéricos (`nan`, `NaN`, etc). Podemos verificar quais colunas possuem dados faltantes utilizando `.isna()` e `.any()`"
   ]
  },
  {
   "cell_type": "code",
   "execution_count": 27,
   "id": "4393b351",
   "metadata": {
    "execution": {
     "iopub.execute_input": "2024-02-18T21:07:43.862490Z",
     "iopub.status.busy": "2024-02-18T21:07:43.862119Z",
     "iopub.status.idle": "2024-02-18T21:07:44.004239Z",
     "shell.execute_reply": "2024-02-18T21:07:44.002941Z"
    },
    "id": "gZm5uZRhHSlq",
    "outputId": "5b3fd62f-7db6-4d1b-9284-b0e263ca23df",
    "papermill": {
     "duration": 0.184225,
     "end_time": "2024-02-18T21:07:44.007791",
     "exception": false,
     "start_time": "2024-02-18T21:07:43.823566",
     "status": "completed"
    },
    "tags": []
   },
   "outputs": [
    {
     "data": {
      "text/plain": [
       "name                False\n",
       "region              False\n",
       "hub_lng             False\n",
       "hub_lat             False\n",
       "vehicle_capacity    False\n",
       "delivery_size       False\n",
       "delivery_lng        False\n",
       "delivery_lat        False\n",
       "dtype: bool"
      ]
     },
     "execution_count": 27,
     "metadata": {},
     "output_type": "execute_result"
    }
   ],
   "source": [
    "deliveries_df.isna().any()"
   ]
  },
  {
   "cell_type": "markdown",
   "id": "fabc0d13",
   "metadata": {
    "id": "98hexQTyJS9I",
    "papermill": {
     "duration": 0.036504,
     "end_time": "2024-02-18T21:07:44.081419",
     "exception": false,
     "start_time": "2024-02-18T21:07:44.044915",
     "status": "completed"
    },
    "tags": []
   },
   "source": [
    "## 4\\. Manipulação"
   ]
  },
  {
   "cell_type": "markdown",
   "id": "85ed1bd1",
   "metadata": {
    "id": "DivZ-6E0hz1L",
    "papermill": {
     "duration": 0.036637,
     "end_time": "2024-02-18T21:07:44.155462",
     "exception": false,
     "start_time": "2024-02-18T21:07:44.118825",
     "status": "completed"
    },
    "tags": []
   },
   "source": [
    "### **4.1 Enriquecimento**"
   ]
  },
  {
   "cell_type": "markdown",
   "id": "3562af7a",
   "metadata": {
    "id": "SLoBwXcnh3hK",
    "papermill": {
     "duration": 0.037916,
     "end_time": "2024-02-18T21:07:44.230375",
     "exception": false,
     "start_time": "2024-02-18T21:07:44.192459",
     "status": "completed"
    },
    "tags": []
   },
   "source": [
    "#### **4.1.1 Geocodificação reversa do hub**"
   ]
  },
  {
   "cell_type": "markdown",
   "id": "83b3d05a",
   "metadata": {
    "id": "sBnW6Uwnh7L6",
    "papermill": {
     "duration": 0.036637,
     "end_time": "2024-02-18T21:07:44.304684",
     "exception": false,
     "start_time": "2024-02-18T21:07:44.268047",
     "status": "completed"
    },
    "tags": []
   },
   "source": [
    "A **geocodificação** é o processo que transforma uma localização descrita por um texto (endereço, nome do local, etc.) em sua respectiva coodernada geográfica (latitude e longitude). A **geocodificação reversa** faz o oposto, transforma uma coordenada geográfica de um local em suas respectivas descrições textuais."
   ]
  },
  {
   "cell_type": "code",
   "execution_count": 28,
   "id": "03a282aa",
   "metadata": {
    "execution": {
     "iopub.execute_input": "2024-02-18T21:07:44.381672Z",
     "iopub.status.busy": "2024-02-18T21:07:44.381205Z",
     "iopub.status.idle": "2024-02-18T21:07:44.496904Z",
     "shell.execute_reply": "2024-02-18T21:07:44.495424Z"
    },
    "id": "oOyy6lHRh-6L",
    "papermill": {
     "duration": 0.15845,
     "end_time": "2024-02-18T21:07:44.500162",
     "exception": false,
     "start_time": "2024-02-18T21:07:44.341712",
     "status": "completed"
    },
    "tags": []
   },
   "outputs": [],
   "source": [
    "# faça o código de manipulação de dados:\n",
    "# - enriquecimento;\n",
    "\n",
    "# Criando um dataframe somente com as colunas de região, longitude e latitude\n",
    "hub_df = deliveries_df[[\"region\", \"hub_lng\", \"hub_lat\"]]\n",
    "hub_df = hub_df.drop_duplicates().sort_values(by=\"region\").reset_index(drop=True)"
   ]
  },
  {
   "cell_type": "code",
   "execution_count": 29,
   "id": "f9fc01dd",
   "metadata": {
    "execution": {
     "iopub.execute_input": "2024-02-18T21:07:44.578071Z",
     "iopub.status.busy": "2024-02-18T21:07:44.577599Z",
     "iopub.status.idle": "2024-02-18T21:07:44.590202Z",
     "shell.execute_reply": "2024-02-18T21:07:44.588976Z"
    },
    "id": "UFSzZ-M-iE9Z",
    "outputId": "3ff4a4d7-9335-4f95-c505-bf324ef64496",
    "papermill": {
     "duration": 0.054567,
     "end_time": "2024-02-18T21:07:44.592840",
     "exception": false,
     "start_time": "2024-02-18T21:07:44.538273",
     "status": "completed"
    },
    "tags": []
   },
   "outputs": [
    {
     "data": {
      "text/html": [
       "<div>\n",
       "<style scoped>\n",
       "    .dataframe tbody tr th:only-of-type {\n",
       "        vertical-align: middle;\n",
       "    }\n",
       "\n",
       "    .dataframe tbody tr th {\n",
       "        vertical-align: top;\n",
       "    }\n",
       "\n",
       "    .dataframe thead th {\n",
       "        text-align: right;\n",
       "    }\n",
       "</style>\n",
       "<table border=\"1\" class=\"dataframe\">\n",
       "  <thead>\n",
       "    <tr style=\"text-align: right;\">\n",
       "      <th></th>\n",
       "      <th>region</th>\n",
       "      <th>hub_lng</th>\n",
       "      <th>hub_lat</th>\n",
       "    </tr>\n",
       "  </thead>\n",
       "  <tbody>\n",
       "    <tr>\n",
       "      <th>0</th>\n",
       "      <td>df-0</td>\n",
       "      <td>-47.802665</td>\n",
       "      <td>-15.657014</td>\n",
       "    </tr>\n",
       "    <tr>\n",
       "      <th>1</th>\n",
       "      <td>df-1</td>\n",
       "      <td>-47.893662</td>\n",
       "      <td>-15.805118</td>\n",
       "    </tr>\n",
       "    <tr>\n",
       "      <th>2</th>\n",
       "      <td>df-2</td>\n",
       "      <td>-48.054989</td>\n",
       "      <td>-15.838145</td>\n",
       "    </tr>\n",
       "  </tbody>\n",
       "</table>\n",
       "</div>"
      ],
      "text/plain": [
       "  region    hub_lng    hub_lat\n",
       "0   df-0 -47.802665 -15.657014\n",
       "1   df-1 -47.893662 -15.805118\n",
       "2   df-2 -48.054989 -15.838145"
      ]
     },
     "execution_count": 29,
     "metadata": {},
     "output_type": "execute_result"
    }
   ],
   "source": [
    "hub_df.head()"
   ]
  },
  {
   "cell_type": "markdown",
   "id": "20ffae01",
   "metadata": {
    "id": "HVTGmxVCjkaN",
    "papermill": {
     "duration": 0.037233,
     "end_time": "2024-02-18T21:07:44.668767",
     "exception": false,
     "start_time": "2024-02-18T21:07:44.631534",
     "status": "completed"
    },
    "tags": []
   },
   "source": [
    "Utilizaremos o projeto open source OpenStreetMap que mantém um serviço gratuito de geocodificação chamado Nominatim através do pacote Python geopy para fazer a operação reversa e enriquecer o nosso DataFrame principal com dados referentes ao endereço dos hubs.\n",
    "\n",
    "A seguir uma amostra do JSON resultante da consulta utilizando a latitude -15.657013854445248 e a longitude -47.802664728268745."
   ]
  },
  {
   "cell_type": "code",
   "execution_count": 30,
   "id": "05651da7",
   "metadata": {
    "execution": {
     "iopub.execute_input": "2024-02-18T21:07:44.749614Z",
     "iopub.status.busy": "2024-02-18T21:07:44.749142Z",
     "iopub.status.idle": "2024-02-18T21:07:44.930461Z",
     "shell.execute_reply": "2024-02-18T21:07:44.928868Z"
    },
    "id": "aUmtyIddjjjP",
    "outputId": "5675d94f-0a7d-43a1-8a90-ede3dd981687",
    "papermill": {
     "duration": 0.225698,
     "end_time": "2024-02-18T21:07:44.933272",
     "exception": false,
     "start_time": "2024-02-18T21:07:44.707574",
     "status": "completed"
    },
    "tags": []
   },
   "outputs": [
    {
     "name": "stdout",
     "output_type": "stream",
     "text": [
      "{\n",
      "  \"place_id\": 13551965,\n",
      "  \"licence\": \"Data © OpenStreetMap contributors, ODbL 1.0. http://osm.org/copyright\",\n",
      "  \"osm_type\": \"way\",\n",
      "  \"osm_id\": 240210480,\n",
      "  \"lat\": \"-15.656916027876347\",\n",
      "  \"lon\": \"-47.80264463632131\",\n",
      "  \"class\": \"highway\",\n",
      "  \"type\": \"secondary\",\n",
      "  \"place_rank\": 26,\n",
      "  \"importance\": 0.10000999999999993,\n",
      "  \"addresstype\": \"road\",\n",
      "  \"name\": \"Rua 7\",\n",
      "  \"display_name\": \"Rua 7, Quadra 2, Sobradinho, Região Geográfica Imediata do Distrito Federal, Região Integrada de Desenvolvimento do Distrito Federal e Entorno, Região Geográfica Intermediária do Distrito Federal, Distrito Federal, Região Centro-Oeste, 73015-202, Brasil\",\n",
      "  \"address\": {\n",
      "    \"road\": \"Rua 7\",\n",
      "    \"residential\": \"Quadra 2\",\n",
      "    \"suburb\": \"Sobradinho\",\n",
      "    \"town\": \"Sobradinho\",\n",
      "    \"municipality\": \"Região Geográfica Imediata do Distrito Federal\",\n",
      "    \"county\": \"Região Integrada de Desenvolvimento do Distrito Federal e Entorno\",\n",
      "    \"state_district\": \"Região Geográfica Intermediária do Distrito Federal\",\n",
      "    \"state\": \"Distrito Federal\",\n",
      "    \"ISO3166-2-lvl4\": \"BR-DF\",\n",
      "    \"region\": \"Região Centro-Oeste\",\n",
      "    \"postcode\": \"73015-202\",\n",
      "    \"country\": \"Brasil\",\n",
      "    \"country_code\": \"br\"\n",
      "  },\n",
      "  \"boundingbox\": [\n",
      "    \"-15.6572841\",\n",
      "    \"-15.6565043\",\n",
      "    \"-47.8047361\",\n",
      "    \"-47.8007862\"\n",
      "  ]\n",
      "}\n"
     ]
    }
   ],
   "source": [
    "import json\n",
    "\n",
    "import geopy\n",
    "from geopy.geocoders import Nominatim\n",
    "\n",
    "geolocator = Nominatim(user_agent=\"ebac_geocoder\")\n",
    "location = geolocator.reverse(\"-15.657013854445248, -47.802664728268745\")\n",
    "\n",
    "print(json.dumps(location.raw, indent=2, ensure_ascii=False))"
   ]
  },
  {
   "cell_type": "markdown",
   "id": "af8d0204",
   "metadata": {
    "id": "uJS446eFlxbC",
    "papermill": {
     "duration": 0.037374,
     "end_time": "2024-02-18T21:07:45.009324",
     "exception": false,
     "start_time": "2024-02-18T21:07:44.971950",
     "status": "completed"
    },
    "tags": []
   },
   "source": [
    "Como existem limitações do serviço gratuito do Nominatim, utilizaremos os *imports* abaixo, que garantem que a consulta seja feita com o *step* de 1 s:"
   ]
  },
  {
   "cell_type": "code",
   "execution_count": 31,
   "id": "84f0a10f",
   "metadata": {
    "execution": {
     "iopub.execute_input": "2024-02-18T21:07:45.086781Z",
     "iopub.status.busy": "2024-02-18T21:07:45.086363Z",
     "iopub.status.idle": "2024-02-18T21:07:45.091828Z",
     "shell.execute_reply": "2024-02-18T21:07:45.090630Z"
    },
    "id": "PA9l7X04lmws",
    "papermill": {
     "duration": 0.046934,
     "end_time": "2024-02-18T21:07:45.094344",
     "exception": false,
     "start_time": "2024-02-18T21:07:45.047410",
     "status": "completed"
    },
    "tags": []
   },
   "outputs": [],
   "source": [
    "from geopy.extra.rate_limiter import RateLimiter\n",
    "\n",
    "geocoder = RateLimiter(geolocator.reverse, min_delay_seconds=1)"
   ]
  },
  {
   "cell_type": "code",
   "execution_count": 32,
   "id": "8e5f0981",
   "metadata": {
    "execution": {
     "iopub.execute_input": "2024-02-18T21:07:45.174648Z",
     "iopub.status.busy": "2024-02-18T21:07:45.174244Z",
     "iopub.status.idle": "2024-02-18T21:07:45.284413Z",
     "shell.execute_reply": "2024-02-18T21:07:45.283151Z"
    },
    "id": "kjv-N4YNlyiq",
    "outputId": "fb59e988-457c-48f3-d1bd-548aab6bf24d",
    "papermill": {
     "duration": 0.153595,
     "end_time": "2024-02-18T21:07:45.287109",
     "exception": false,
     "start_time": "2024-02-18T21:07:45.133514",
     "status": "completed"
    },
    "tags": []
   },
   "outputs": [
    {
     "data": {
      "text/html": [
       "<div>\n",
       "<style scoped>\n",
       "    .dataframe tbody tr th:only-of-type {\n",
       "        vertical-align: middle;\n",
       "    }\n",
       "\n",
       "    .dataframe tbody tr th {\n",
       "        vertical-align: top;\n",
       "    }\n",
       "\n",
       "    .dataframe thead th {\n",
       "        text-align: right;\n",
       "    }\n",
       "</style>\n",
       "<table border=\"1\" class=\"dataframe\">\n",
       "  <thead>\n",
       "    <tr style=\"text-align: right;\">\n",
       "      <th></th>\n",
       "      <th>region</th>\n",
       "      <th>hub_lng</th>\n",
       "      <th>hub_lat</th>\n",
       "    </tr>\n",
       "  </thead>\n",
       "  <tbody>\n",
       "    <tr>\n",
       "      <th>0</th>\n",
       "      <td>df-0</td>\n",
       "      <td>-47.802665</td>\n",
       "      <td>-15.657014</td>\n",
       "    </tr>\n",
       "    <tr>\n",
       "      <th>1</th>\n",
       "      <td>df-1</td>\n",
       "      <td>-47.893662</td>\n",
       "      <td>-15.805118</td>\n",
       "    </tr>\n",
       "    <tr>\n",
       "      <th>2</th>\n",
       "      <td>df-2</td>\n",
       "      <td>-48.054989</td>\n",
       "      <td>-15.838145</td>\n",
       "    </tr>\n",
       "  </tbody>\n",
       "</table>\n",
       "</div>"
      ],
      "text/plain": [
       "  region    hub_lng    hub_lat\n",
       "0   df-0 -47.802665 -15.657014\n",
       "1   df-1 -47.893662 -15.805118\n",
       "2   df-2 -48.054989 -15.838145"
      ]
     },
     "execution_count": 32,
     "metadata": {},
     "output_type": "execute_result"
    }
   ],
   "source": [
    "hub_df = deliveries_df[[\"region\", \"hub_lng\", \"hub_lat\"]]\n",
    "hub_df= hub_df.drop_duplicates().sort_values(by=\"region\").reset_index(drop=True)\n",
    "hub_df.head()"
   ]
  },
  {
   "cell_type": "markdown",
   "id": "7d526c78",
   "metadata": {
    "id": "8r1FNYr6o9Nq",
    "papermill": {
     "duration": 0.038318,
     "end_time": "2024-02-18T21:07:45.364706",
     "exception": false,
     "start_time": "2024-02-18T21:07:45.326388",
     "status": "completed"
    },
    "tags": []
   },
   "source": [
    "Precisamos ainda, criar uma coluna com o mesmo padrão do Nominatim:\n",
    "\n",
    "```\n",
    "<\"latitude, longitude\">\n",
    "```"
   ]
  },
  {
   "cell_type": "code",
   "execution_count": 33,
   "id": "271d7861",
   "metadata": {
    "execution": {
     "iopub.execute_input": "2024-02-18T21:07:45.443380Z",
     "iopub.status.busy": "2024-02-18T21:07:45.442942Z",
     "iopub.status.idle": "2024-02-18T21:07:45.459288Z",
     "shell.execute_reply": "2024-02-18T21:07:45.457989Z"
    },
    "id": "_s_j3-_MpPlT",
    "outputId": "0b0df573-bd21-447f-ab16-6c12953699b4",
    "papermill": {
     "duration": 0.058951,
     "end_time": "2024-02-18T21:07:45.461847",
     "exception": false,
     "start_time": "2024-02-18T21:07:45.402896",
     "status": "completed"
    },
    "tags": []
   },
   "outputs": [
    {
     "data": {
      "text/html": [
       "<div>\n",
       "<style scoped>\n",
       "    .dataframe tbody tr th:only-of-type {\n",
       "        vertical-align: middle;\n",
       "    }\n",
       "\n",
       "    .dataframe tbody tr th {\n",
       "        vertical-align: top;\n",
       "    }\n",
       "\n",
       "    .dataframe thead th {\n",
       "        text-align: right;\n",
       "    }\n",
       "</style>\n",
       "<table border=\"1\" class=\"dataframe\">\n",
       "  <thead>\n",
       "    <tr style=\"text-align: right;\">\n",
       "      <th></th>\n",
       "      <th>region</th>\n",
       "      <th>hub_lng</th>\n",
       "      <th>hub_lat</th>\n",
       "      <th>coordinates</th>\n",
       "    </tr>\n",
       "  </thead>\n",
       "  <tbody>\n",
       "    <tr>\n",
       "      <th>0</th>\n",
       "      <td>df-0</td>\n",
       "      <td>-47.802665</td>\n",
       "      <td>-15.657014</td>\n",
       "      <td>-15.657013854445248, -47.802664728268745</td>\n",
       "    </tr>\n",
       "    <tr>\n",
       "      <th>1</th>\n",
       "      <td>df-1</td>\n",
       "      <td>-47.893662</td>\n",
       "      <td>-15.805118</td>\n",
       "      <td>-15.80511751066334, -47.89366206897872</td>\n",
       "    </tr>\n",
       "    <tr>\n",
       "      <th>2</th>\n",
       "      <td>df-2</td>\n",
       "      <td>-48.054989</td>\n",
       "      <td>-15.838145</td>\n",
       "      <td>-15.83814451122274, -48.05498915846707</td>\n",
       "    </tr>\n",
       "  </tbody>\n",
       "</table>\n",
       "</div>"
      ],
      "text/plain": [
       "  region    hub_lng    hub_lat                               coordinates\n",
       "0   df-0 -47.802665 -15.657014  -15.657013854445248, -47.802664728268745\n",
       "1   df-1 -47.893662 -15.805118    -15.80511751066334, -47.89366206897872\n",
       "2   df-2 -48.054989 -15.838145    -15.83814451122274, -48.05498915846707"
      ]
     },
     "execution_count": 33,
     "metadata": {},
     "output_type": "execute_result"
    }
   ],
   "source": [
    "# Cria uma coluna para as coordenadas seguindo o padrão do geolocator (lat, lng)\n",
    "hub_df[\"coordinates\"] = hub_df[\"hub_lat\"].astype(str)  + \", \" + hub_df[\"hub_lng\"].astype(str)\n",
    "hub_df.head()"
   ]
  },
  {
   "cell_type": "code",
   "execution_count": 34,
   "id": "e23009ef",
   "metadata": {
    "execution": {
     "iopub.execute_input": "2024-02-18T21:07:45.542100Z",
     "iopub.status.busy": "2024-02-18T21:07:45.541187Z",
     "iopub.status.idle": "2024-02-18T21:07:47.639449Z",
     "shell.execute_reply": "2024-02-18T21:07:47.638168Z"
    },
    "id": "2_nckLWKsRoO",
    "outputId": "101db491-c674-45ed-d0a2-3bd032c11d6c",
    "papermill": {
     "duration": 2.142063,
     "end_time": "2024-02-18T21:07:47.642361",
     "exception": false,
     "start_time": "2024-02-18T21:07:45.500298",
     "status": "completed"
    },
    "tags": []
   },
   "outputs": [
    {
     "data": {
      "text/html": [
       "<div>\n",
       "<style scoped>\n",
       "    .dataframe tbody tr th:only-of-type {\n",
       "        vertical-align: middle;\n",
       "    }\n",
       "\n",
       "    .dataframe tbody tr th {\n",
       "        vertical-align: top;\n",
       "    }\n",
       "\n",
       "    .dataframe thead th {\n",
       "        text-align: right;\n",
       "    }\n",
       "</style>\n",
       "<table border=\"1\" class=\"dataframe\">\n",
       "  <thead>\n",
       "    <tr style=\"text-align: right;\">\n",
       "      <th></th>\n",
       "      <th>region</th>\n",
       "      <th>hub_lng</th>\n",
       "      <th>hub_lat</th>\n",
       "      <th>coordinates</th>\n",
       "      <th>geodata</th>\n",
       "    </tr>\n",
       "  </thead>\n",
       "  <tbody>\n",
       "    <tr>\n",
       "      <th>0</th>\n",
       "      <td>df-0</td>\n",
       "      <td>-47.802665</td>\n",
       "      <td>-15.657014</td>\n",
       "      <td>-15.657013854445248, -47.802664728268745</td>\n",
       "      <td>(Rua 7, Quadra 2, Sobradinho, Região Geográfic...</td>\n",
       "    </tr>\n",
       "    <tr>\n",
       "      <th>1</th>\n",
       "      <td>df-1</td>\n",
       "      <td>-47.893662</td>\n",
       "      <td>-15.805118</td>\n",
       "      <td>-15.80511751066334, -47.89366206897872</td>\n",
       "      <td>(SQS 303, Asa Sul, Brasília, Plano Piloto, Reg...</td>\n",
       "    </tr>\n",
       "    <tr>\n",
       "      <th>2</th>\n",
       "      <td>df-2</td>\n",
       "      <td>-48.054989</td>\n",
       "      <td>-15.838145</td>\n",
       "      <td>-15.83814451122274, -48.05498915846707</td>\n",
       "      <td>(Armazém do Bolo, lote 4/8, CSB 4/5, Taguating...</td>\n",
       "    </tr>\n",
       "  </tbody>\n",
       "</table>\n",
       "</div>"
      ],
      "text/plain": [
       "  region    hub_lng    hub_lat                               coordinates  \\\n",
       "0   df-0 -47.802665 -15.657014  -15.657013854445248, -47.802664728268745   \n",
       "1   df-1 -47.893662 -15.805118    -15.80511751066334, -47.89366206897872   \n",
       "2   df-2 -48.054989 -15.838145    -15.83814451122274, -48.05498915846707   \n",
       "\n",
       "                                             geodata  \n",
       "0  (Rua 7, Quadra 2, Sobradinho, Região Geográfic...  \n",
       "1  (SQS 303, Asa Sul, Brasília, Plano Piloto, Reg...  \n",
       "2  (Armazém do Bolo, lote 4/8, CSB 4/5, Taguating...  "
      ]
     },
     "execution_count": 34,
     "metadata": {},
     "output_type": "execute_result"
    }
   ],
   "source": [
    "# Cria uma coluna com os dados obtidos da consulta, aplicando o geocoder na coluna das coordenadas\n",
    "hub_df[\"geodata\"] = hub_df[\"coordinates\"].apply(geocoder)\n",
    "hub_df.head()"
   ]
  },
  {
   "cell_type": "markdown",
   "id": "ba684ba7",
   "metadata": {
    "id": "_BZ1E_Ygtvty",
    "papermill": {
     "duration": 0.038394,
     "end_time": "2024-02-18T21:07:47.719146",
     "exception": false,
     "start_time": "2024-02-18T21:07:47.680752",
     "status": "completed"
    },
    "tags": []
   },
   "source": [
    "Criamos outro DataFrame que separa cada linha (que representa o JSON da consulta) em colunas separadas, e a seguir, selecionamos os dados de interesse contidos nas colunas `address.town`, `address.city` e `address.hub`."
   ]
  },
  {
   "cell_type": "code",
   "execution_count": 35,
   "id": "c63632b5",
   "metadata": {
    "execution": {
     "iopub.execute_input": "2024-02-18T21:07:47.799313Z",
     "iopub.status.busy": "2024-02-18T21:07:47.798676Z",
     "iopub.status.idle": "2024-02-18T21:07:47.825795Z",
     "shell.execute_reply": "2024-02-18T21:07:47.824526Z"
    },
    "id": "0A6qkv5StzDi",
    "outputId": "2502f3ac-ba6c-4676-fb4e-36afcd8b68fd",
    "papermill": {
     "duration": 0.069893,
     "end_time": "2024-02-18T21:07:47.828525",
     "exception": false,
     "start_time": "2024-02-18T21:07:47.758632",
     "status": "completed"
    },
    "tags": []
   },
   "outputs": [
    {
     "data": {
      "text/html": [
       "<div>\n",
       "<style scoped>\n",
       "    .dataframe tbody tr th:only-of-type {\n",
       "        vertical-align: middle;\n",
       "    }\n",
       "\n",
       "    .dataframe tbody tr th {\n",
       "        vertical-align: top;\n",
       "    }\n",
       "\n",
       "    .dataframe thead th {\n",
       "        text-align: right;\n",
       "    }\n",
       "</style>\n",
       "<table border=\"1\" class=\"dataframe\">\n",
       "  <thead>\n",
       "    <tr style=\"text-align: right;\">\n",
       "      <th></th>\n",
       "      <th>place_id</th>\n",
       "      <th>licence</th>\n",
       "      <th>osm_type</th>\n",
       "      <th>osm_id</th>\n",
       "      <th>lat</th>\n",
       "      <th>lon</th>\n",
       "      <th>class</th>\n",
       "      <th>type</th>\n",
       "      <th>place_rank</th>\n",
       "      <th>importance</th>\n",
       "      <th>...</th>\n",
       "      <th>address.state</th>\n",
       "      <th>address.ISO3166-2-lvl4</th>\n",
       "      <th>address.region</th>\n",
       "      <th>address.postcode</th>\n",
       "      <th>address.country</th>\n",
       "      <th>address.country_code</th>\n",
       "      <th>address.neighbourhood</th>\n",
       "      <th>address.city</th>\n",
       "      <th>address.shop</th>\n",
       "      <th>address.house_number</th>\n",
       "    </tr>\n",
       "  </thead>\n",
       "  <tbody>\n",
       "    <tr>\n",
       "      <th>0</th>\n",
       "      <td>13551965</td>\n",
       "      <td>Data © OpenStreetMap contributors, ODbL 1.0. h...</td>\n",
       "      <td>way</td>\n",
       "      <td>240210480</td>\n",
       "      <td>-15.656916027876347</td>\n",
       "      <td>-47.80264463632131</td>\n",
       "      <td>highway</td>\n",
       "      <td>secondary</td>\n",
       "      <td>26</td>\n",
       "      <td>0.10001</td>\n",
       "      <td>...</td>\n",
       "      <td>Distrito Federal</td>\n",
       "      <td>BR-DF</td>\n",
       "      <td>Região Centro-Oeste</td>\n",
       "      <td>73015-202</td>\n",
       "      <td>Brasil</td>\n",
       "      <td>br</td>\n",
       "      <td>NaN</td>\n",
       "      <td>NaN</td>\n",
       "      <td>NaN</td>\n",
       "      <td>NaN</td>\n",
       "    </tr>\n",
       "    <tr>\n",
       "      <th>1</th>\n",
       "      <td>13548034</td>\n",
       "      <td>Data © OpenStreetMap contributors, ODbL 1.0. h...</td>\n",
       "      <td>way</td>\n",
       "      <td>66353368</td>\n",
       "      <td>-15.805172757199022</td>\n",
       "      <td>-47.893723539491205</td>\n",
       "      <td>highway</td>\n",
       "      <td>residential</td>\n",
       "      <td>26</td>\n",
       "      <td>0.10001</td>\n",
       "      <td>...</td>\n",
       "      <td>Distrito Federal</td>\n",
       "      <td>BR-DF</td>\n",
       "      <td>Região Centro-Oeste</td>\n",
       "      <td>70342-010</td>\n",
       "      <td>Brasil</td>\n",
       "      <td>br</td>\n",
       "      <td>SQS 303</td>\n",
       "      <td>Brasília</td>\n",
       "      <td>NaN</td>\n",
       "      <td>NaN</td>\n",
       "    </tr>\n",
       "    <tr>\n",
       "      <th>2</th>\n",
       "      <td>10766946</td>\n",
       "      <td>Data © OpenStreetMap contributors, ODbL 1.0. h...</td>\n",
       "      <td>node</td>\n",
       "      <td>6249717596</td>\n",
       "      <td>-15.8384371</td>\n",
       "      <td>-48.0552917</td>\n",
       "      <td>shop</td>\n",
       "      <td>pastry</td>\n",
       "      <td>30</td>\n",
       "      <td>0.00001</td>\n",
       "      <td>...</td>\n",
       "      <td>Distrito Federal</td>\n",
       "      <td>BR-DF</td>\n",
       "      <td>Região Centro-Oeste</td>\n",
       "      <td>72015-030</td>\n",
       "      <td>Brasil</td>\n",
       "      <td>br</td>\n",
       "      <td>NaN</td>\n",
       "      <td>Taguatinga</td>\n",
       "      <td>Armazém do Bolo</td>\n",
       "      <td>lote 4/8</td>\n",
       "    </tr>\n",
       "  </tbody>\n",
       "</table>\n",
       "<p>3 rows × 31 columns</p>\n",
       "</div>"
      ],
      "text/plain": [
       "   place_id                                            licence osm_type  \\\n",
       "0  13551965  Data © OpenStreetMap contributors, ODbL 1.0. h...      way   \n",
       "1  13548034  Data © OpenStreetMap contributors, ODbL 1.0. h...      way   \n",
       "2  10766946  Data © OpenStreetMap contributors, ODbL 1.0. h...     node   \n",
       "\n",
       "       osm_id                  lat                  lon    class         type  \\\n",
       "0   240210480  -15.656916027876347   -47.80264463632131  highway    secondary   \n",
       "1    66353368  -15.805172757199022  -47.893723539491205  highway  residential   \n",
       "2  6249717596          -15.8384371          -48.0552917     shop       pastry   \n",
       "\n",
       "   place_rank  importance  ...     address.state address.ISO3166-2-lvl4  \\\n",
       "0          26     0.10001  ...  Distrito Federal                  BR-DF   \n",
       "1          26     0.10001  ...  Distrito Federal                  BR-DF   \n",
       "2          30     0.00001  ...  Distrito Federal                  BR-DF   \n",
       "\n",
       "        address.region address.postcode address.country address.country_code  \\\n",
       "0  Região Centro-Oeste        73015-202          Brasil                   br   \n",
       "1  Região Centro-Oeste        70342-010          Brasil                   br   \n",
       "2  Região Centro-Oeste        72015-030          Brasil                   br   \n",
       "\n",
       "  address.neighbourhood address.city     address.shop address.house_number  \n",
       "0                   NaN          NaN              NaN                  NaN  \n",
       "1               SQS 303     Brasília              NaN                  NaN  \n",
       "2                   NaN   Taguatinga  Armazém do Bolo             lote 4/8  \n",
       "\n",
       "[3 rows x 31 columns]"
      ]
     },
     "execution_count": 35,
     "metadata": {},
     "output_type": "execute_result"
    }
   ],
   "source": [
    "# Normalize permite quebrar as informações de geodata em colunas separadas de acordo com as chaves do json\n",
    "hub_geodata_df = pd.json_normalize(hub_df[\"geodata\"].apply(lambda data: data.raw))\n",
    "hub_geodata_df.head()"
   ]
  },
  {
   "cell_type": "code",
   "execution_count": 36,
   "id": "3dd2da7a",
   "metadata": {
    "execution": {
     "iopub.execute_input": "2024-02-18T21:07:47.911192Z",
     "iopub.status.busy": "2024-02-18T21:07:47.910529Z",
     "iopub.status.idle": "2024-02-18T21:07:47.927157Z",
     "shell.execute_reply": "2024-02-18T21:07:47.925914Z"
    },
    "id": "djsb4DdUuPv3",
    "outputId": "afd57f2d-9e33-403d-e647-3c97965b5545",
    "papermill": {
     "duration": 0.062157,
     "end_time": "2024-02-18T21:07:47.929831",
     "exception": false,
     "start_time": "2024-02-18T21:07:47.867674",
     "status": "completed"
    },
    "tags": []
   },
   "outputs": [
    {
     "data": {
      "text/html": [
       "<div>\n",
       "<style scoped>\n",
       "    .dataframe tbody tr th:only-of-type {\n",
       "        vertical-align: middle;\n",
       "    }\n",
       "\n",
       "    .dataframe tbody tr th {\n",
       "        vertical-align: top;\n",
       "    }\n",
       "\n",
       "    .dataframe thead th {\n",
       "        text-align: right;\n",
       "    }\n",
       "</style>\n",
       "<table border=\"1\" class=\"dataframe\">\n",
       "  <thead>\n",
       "    <tr style=\"text-align: right;\">\n",
       "      <th></th>\n",
       "      <th>hub_suburb</th>\n",
       "      <th>hub_city</th>\n",
       "    </tr>\n",
       "  </thead>\n",
       "  <tbody>\n",
       "    <tr>\n",
       "      <th>0</th>\n",
       "      <td>Sobradinho</td>\n",
       "      <td>Sobradinho</td>\n",
       "    </tr>\n",
       "    <tr>\n",
       "      <th>1</th>\n",
       "      <td>Asa Sul</td>\n",
       "      <td>Brasília</td>\n",
       "    </tr>\n",
       "    <tr>\n",
       "      <th>2</th>\n",
       "      <td>Taguatinga</td>\n",
       "      <td>Taguatinga</td>\n",
       "    </tr>\n",
       "  </tbody>\n",
       "</table>\n",
       "</div>"
      ],
      "text/plain": [
       "   hub_suburb    hub_city\n",
       "0  Sobradinho  Sobradinho\n",
       "1     Asa Sul    Brasília\n",
       "2  Taguatinga  Taguatinga"
      ]
     },
     "execution_count": 36,
     "metadata": {},
     "output_type": "execute_result"
    }
   ],
   "source": [
    "hub_geodata_df = hub_geodata_df[[\"address.town\", \"address.suburb\", \"address.city\"]]\n",
    "hub_geodata_df.rename(columns={\"address.town\": \"hub_town\", \"address.suburb\": \"hub_suburb\", \"address.city\": \"hub_city\"}, inplace=True)\n",
    "hub_geodata_df[\"hub_city\"] = np.where(hub_geodata_df[\"hub_city\"].notna(), hub_geodata_df[\"hub_city\"], hub_geodata_df[\"hub_town\"])\n",
    "hub_geodata_df[\"hub_suburb\"] = np.where(hub_geodata_df[\"hub_suburb\"].notna(), hub_geodata_df[\"hub_suburb\"], hub_geodata_df[\"hub_city\"])\n",
    "hub_geodata_df = hub_geodata_df.drop(\"hub_town\", axis=1)\n",
    "hub_geodata_df.head()"
   ]
  },
  {
   "cell_type": "markdown",
   "id": "7d9b5c27",
   "metadata": {
    "id": "M_k_VMm20jj7",
    "papermill": {
     "duration": 0.039089,
     "end_time": "2024-02-18T21:07:48.010063",
     "exception": false,
     "start_time": "2024-02-18T21:07:47.970974",
     "status": "completed"
    },
    "tags": []
   },
   "source": [
    "O DataFrame `hub_geodata_df` com as informações de **cidade** e **bairro** é então combinado ao DataFrame principal `deliveries_df`, enriquecendo assim o dado."
   ]
  },
  {
   "cell_type": "code",
   "execution_count": 37,
   "id": "396bf67f",
   "metadata": {
    "execution": {
     "iopub.execute_input": "2024-02-18T21:07:48.091762Z",
     "iopub.status.busy": "2024-02-18T21:07:48.090782Z",
     "iopub.status.idle": "2024-02-18T21:07:48.106556Z",
     "shell.execute_reply": "2024-02-18T21:07:48.105256Z"
    },
    "id": "ULr5Bguh0myP",
    "outputId": "77b295f5-8e85-4f66-a705-6514d0e6e6e3",
    "papermill": {
     "duration": 0.059844,
     "end_time": "2024-02-18T21:07:48.109341",
     "exception": false,
     "start_time": "2024-02-18T21:07:48.049497",
     "status": "completed"
    },
    "tags": []
   },
   "outputs": [
    {
     "data": {
      "text/html": [
       "<div>\n",
       "<style scoped>\n",
       "    .dataframe tbody tr th:only-of-type {\n",
       "        vertical-align: middle;\n",
       "    }\n",
       "\n",
       "    .dataframe tbody tr th {\n",
       "        vertical-align: top;\n",
       "    }\n",
       "\n",
       "    .dataframe thead th {\n",
       "        text-align: right;\n",
       "    }\n",
       "</style>\n",
       "<table border=\"1\" class=\"dataframe\">\n",
       "  <thead>\n",
       "    <tr style=\"text-align: right;\">\n",
       "      <th></th>\n",
       "      <th>region</th>\n",
       "      <th>hub_suburb</th>\n",
       "      <th>hub_city</th>\n",
       "    </tr>\n",
       "  </thead>\n",
       "  <tbody>\n",
       "    <tr>\n",
       "      <th>0</th>\n",
       "      <td>df-0</td>\n",
       "      <td>Sobradinho</td>\n",
       "      <td>Sobradinho</td>\n",
       "    </tr>\n",
       "    <tr>\n",
       "      <th>1</th>\n",
       "      <td>df-1</td>\n",
       "      <td>Asa Sul</td>\n",
       "      <td>Brasília</td>\n",
       "    </tr>\n",
       "    <tr>\n",
       "      <th>2</th>\n",
       "      <td>df-2</td>\n",
       "      <td>Taguatinga</td>\n",
       "      <td>Taguatinga</td>\n",
       "    </tr>\n",
       "  </tbody>\n",
       "</table>\n",
       "</div>"
      ],
      "text/plain": [
       "  region  hub_suburb    hub_city\n",
       "0   df-0  Sobradinho  Sobradinho\n",
       "1   df-1     Asa Sul    Brasília\n",
       "2   df-2  Taguatinga  Taguatinga"
      ]
     },
     "execution_count": 37,
     "metadata": {},
     "output_type": "execute_result"
    }
   ],
   "source": [
    "hub_df = pd.merge(left=hub_df, right=hub_geodata_df, left_index=True, right_index=True)\n",
    "hub_df = hub_df[[\"region\", \"hub_suburb\", \"hub_city\"]]\n",
    "hub_df.head()"
   ]
  },
  {
   "cell_type": "markdown",
   "id": "af72fc37",
   "metadata": {
    "id": "zD0vDDyy1ESt",
    "papermill": {
     "duration": 0.039719,
     "end_time": "2024-02-18T21:07:48.189131",
     "exception": false,
     "start_time": "2024-02-18T21:07:48.149412",
     "status": "completed"
    },
    "tags": []
   },
   "source": [
    "Agora é possível combinar nosso DataFrame original com os dados obtidos da geolocalização reversa, inserindo duas novas colunas: `hub_city` e `hub_suburb`"
   ]
  },
  {
   "cell_type": "code",
   "execution_count": 38,
   "id": "5cf0887a",
   "metadata": {
    "execution": {
     "iopub.execute_input": "2024-02-18T21:07:48.271152Z",
     "iopub.status.busy": "2024-02-18T21:07:48.270007Z",
     "iopub.status.idle": "2024-02-18T21:07:48.619501Z",
     "shell.execute_reply": "2024-02-18T21:07:48.618621Z"
    },
    "id": "EUfhffCz1HBU",
    "outputId": "d90ee27d-2400-47d4-f4e2-828ec9491e8d",
    "papermill": {
     "duration": 0.392759,
     "end_time": "2024-02-18T21:07:48.621714",
     "exception": false,
     "start_time": "2024-02-18T21:07:48.228955",
     "status": "completed"
    },
    "tags": []
   },
   "outputs": [
    {
     "data": {
      "text/html": [
       "<div>\n",
       "<style scoped>\n",
       "    .dataframe tbody tr th:only-of-type {\n",
       "        vertical-align: middle;\n",
       "    }\n",
       "\n",
       "    .dataframe tbody tr th {\n",
       "        vertical-align: top;\n",
       "    }\n",
       "\n",
       "    .dataframe thead th {\n",
       "        text-align: right;\n",
       "    }\n",
       "</style>\n",
       "<table border=\"1\" class=\"dataframe\">\n",
       "  <thead>\n",
       "    <tr style=\"text-align: right;\">\n",
       "      <th></th>\n",
       "      <th>name</th>\n",
       "      <th>region</th>\n",
       "      <th>hub_lng</th>\n",
       "      <th>hub_lat</th>\n",
       "      <th>hub_city</th>\n",
       "      <th>hub_suburb</th>\n",
       "      <th>vehicle_capacity</th>\n",
       "      <th>delivery_size</th>\n",
       "      <th>delivery_lng</th>\n",
       "      <th>delivery_lat</th>\n",
       "    </tr>\n",
       "  </thead>\n",
       "  <tbody>\n",
       "    <tr>\n",
       "      <th>0</th>\n",
       "      <td>cvrp-2-df-33</td>\n",
       "      <td>df-2</td>\n",
       "      <td>-48.054989</td>\n",
       "      <td>-15.838145</td>\n",
       "      <td>Taguatinga</td>\n",
       "      <td>Taguatinga</td>\n",
       "      <td>180</td>\n",
       "      <td>9</td>\n",
       "      <td>-48.116189</td>\n",
       "      <td>-15.848929</td>\n",
       "    </tr>\n",
       "    <tr>\n",
       "      <th>1</th>\n",
       "      <td>cvrp-2-df-33</td>\n",
       "      <td>df-2</td>\n",
       "      <td>-48.054989</td>\n",
       "      <td>-15.838145</td>\n",
       "      <td>Taguatinga</td>\n",
       "      <td>Taguatinga</td>\n",
       "      <td>180</td>\n",
       "      <td>2</td>\n",
       "      <td>-48.118195</td>\n",
       "      <td>-15.850772</td>\n",
       "    </tr>\n",
       "    <tr>\n",
       "      <th>2</th>\n",
       "      <td>cvrp-2-df-33</td>\n",
       "      <td>df-2</td>\n",
       "      <td>-48.054989</td>\n",
       "      <td>-15.838145</td>\n",
       "      <td>Taguatinga</td>\n",
       "      <td>Taguatinga</td>\n",
       "      <td>180</td>\n",
       "      <td>1</td>\n",
       "      <td>-48.112483</td>\n",
       "      <td>-15.847871</td>\n",
       "    </tr>\n",
       "    <tr>\n",
       "      <th>3</th>\n",
       "      <td>cvrp-2-df-33</td>\n",
       "      <td>df-2</td>\n",
       "      <td>-48.054989</td>\n",
       "      <td>-15.838145</td>\n",
       "      <td>Taguatinga</td>\n",
       "      <td>Taguatinga</td>\n",
       "      <td>180</td>\n",
       "      <td>2</td>\n",
       "      <td>-48.118023</td>\n",
       "      <td>-15.846471</td>\n",
       "    </tr>\n",
       "    <tr>\n",
       "      <th>4</th>\n",
       "      <td>cvrp-2-df-33</td>\n",
       "      <td>df-2</td>\n",
       "      <td>-48.054989</td>\n",
       "      <td>-15.838145</td>\n",
       "      <td>Taguatinga</td>\n",
       "      <td>Taguatinga</td>\n",
       "      <td>180</td>\n",
       "      <td>7</td>\n",
       "      <td>-48.114898</td>\n",
       "      <td>-15.858055</td>\n",
       "    </tr>\n",
       "  </tbody>\n",
       "</table>\n",
       "</div>"
      ],
      "text/plain": [
       "           name region    hub_lng    hub_lat    hub_city  hub_suburb  \\\n",
       "0  cvrp-2-df-33   df-2 -48.054989 -15.838145  Taguatinga  Taguatinga   \n",
       "1  cvrp-2-df-33   df-2 -48.054989 -15.838145  Taguatinga  Taguatinga   \n",
       "2  cvrp-2-df-33   df-2 -48.054989 -15.838145  Taguatinga  Taguatinga   \n",
       "3  cvrp-2-df-33   df-2 -48.054989 -15.838145  Taguatinga  Taguatinga   \n",
       "4  cvrp-2-df-33   df-2 -48.054989 -15.838145  Taguatinga  Taguatinga   \n",
       "\n",
       "   vehicle_capacity  delivery_size  delivery_lng  delivery_lat  \n",
       "0               180              9    -48.116189    -15.848929  \n",
       "1               180              2    -48.118195    -15.850772  \n",
       "2               180              1    -48.112483    -15.847871  \n",
       "3               180              2    -48.118023    -15.846471  \n",
       "4               180              7    -48.114898    -15.858055  "
      ]
     },
     "execution_count": 38,
     "metadata": {},
     "output_type": "execute_result"
    }
   ],
   "source": [
    "deliveries_df = pd.merge(left=deliveries_df, right=hub_df, how=\"inner\", on=\"region\")\n",
    "deliveries_df = deliveries_df[[\"name\", \"region\", \"hub_lng\", \"hub_lat\", \"hub_city\", \"hub_suburb\", \"vehicle_capacity\", \"delivery_size\", \"delivery_lng\", \"delivery_lat\"]]\n",
    "deliveries_df.head()"
   ]
  },
  {
   "cell_type": "markdown",
   "id": "9292a29b",
   "metadata": {
    "id": "SqmOS4Vc1KxM",
    "papermill": {
     "duration": 0.041843,
     "end_time": "2024-02-18T21:07:48.703837",
     "exception": false,
     "start_time": "2024-02-18T21:07:48.661994",
     "status": "completed"
    },
    "tags": []
   },
   "source": [
    "#### 4.1.2 **Geocodificação reversa da entrega**"
   ]
  },
  {
   "cell_type": "markdown",
   "id": "61b220af",
   "metadata": {
    "id": "vxBbOLs01PEj",
    "papermill": {
     "duration": 0.040748,
     "end_time": "2024-02-18T21:07:48.785767",
     "exception": false,
     "start_time": "2024-02-18T21:07:48.745019",
     "status": "completed"
    },
    "tags": []
   },
   "source": [
    "Enquanto o **hub** contem apenas **3** geolocalizações distintas, as **entregas** somam o total de **636.149**, o que levaria em torno de 7 dias para serem consultadas no servidor do Nominatim, dada a restrição de uma consulta por segundo. Contudo, para cargas pesadas como esta, o software oferece uma instalação [local](https://nominatim.org/release-docs/latest/admin/Installation/) (na sua própria máquina) que pode ser utilizada sem restrição."
   ]
  },
  {
   "cell_type": "markdown",
   "id": "4eaf60a7",
   "metadata": {
    "id": "jpNeZqua1WXh",
    "papermill": {
     "duration": 0.040862,
     "end_time": "2024-02-18T21:07:48.866515",
     "exception": false,
     "start_time": "2024-02-18T21:07:48.825653",
     "status": "completed"
    },
    "tags": []
   },
   "source": [
    "> **Atenção:** Como a instalação do servidor local envolve tecnologias que estão fora do escopo deste curso (como [Docker](https://www.docker.com/)), eu vou providenciar estes dados para você através deste [link](https://raw.githubusercontent.com/andre-marcos-perez/ebac-course-utils/main/dataset/deliveries-geodata.csv)."
   ]
  },
  {
   "cell_type": "code",
   "execution_count": 39,
   "id": "7fc4f406",
   "metadata": {
    "execution": {
     "iopub.execute_input": "2024-02-18T21:07:48.951680Z",
     "iopub.status.busy": "2024-02-18T21:07:48.950967Z",
     "iopub.status.idle": "2024-02-18T21:07:51.669620Z",
     "shell.execute_reply": "2024-02-18T21:07:51.668205Z"
    },
    "id": "1xmkNKbp1ZuH",
    "papermill": {
     "duration": 2.763493,
     "end_time": "2024-02-18T21:07:51.672210",
     "exception": false,
     "start_time": "2024-02-18T21:07:48.908717",
     "status": "completed"
    },
    "tags": []
   },
   "outputs": [],
   "source": [
    "!wget -q \"https://raw.githubusercontent.com/andre-marcos-perez/ebac-course-utils/main/dataset/deliveries-geodata.csv\" -O deliveries-geodata.csv"
   ]
  },
  {
   "cell_type": "code",
   "execution_count": 40,
   "id": "51658bc8",
   "metadata": {
    "execution": {
     "iopub.execute_input": "2024-02-18T21:07:51.755306Z",
     "iopub.status.busy": "2024-02-18T21:07:51.754873Z",
     "iopub.status.idle": "2024-02-18T21:07:52.426504Z",
     "shell.execute_reply": "2024-02-18T21:07:52.425590Z"
    },
    "id": "5gX3KBcj1dSg",
    "outputId": "66e2b462-7b9b-4724-a5bd-ad547aad0130",
    "papermill": {
     "duration": 0.716341,
     "end_time": "2024-02-18T21:07:52.429016",
     "exception": false,
     "start_time": "2024-02-18T21:07:51.712675",
     "status": "completed"
    },
    "tags": []
   },
   "outputs": [
    {
     "data": {
      "text/html": [
       "<div>\n",
       "<style scoped>\n",
       "    .dataframe tbody tr th:only-of-type {\n",
       "        vertical-align: middle;\n",
       "    }\n",
       "\n",
       "    .dataframe tbody tr th {\n",
       "        vertical-align: top;\n",
       "    }\n",
       "\n",
       "    .dataframe thead th {\n",
       "        text-align: right;\n",
       "    }\n",
       "</style>\n",
       "<table border=\"1\" class=\"dataframe\">\n",
       "  <thead>\n",
       "    <tr style=\"text-align: right;\">\n",
       "      <th></th>\n",
       "      <th>delivery_lng</th>\n",
       "      <th>delivery_lat</th>\n",
       "      <th>delivery_city</th>\n",
       "      <th>delivery_suburb</th>\n",
       "    </tr>\n",
       "  </thead>\n",
       "  <tbody>\n",
       "    <tr>\n",
       "      <th>0</th>\n",
       "      <td>-48.116189</td>\n",
       "      <td>-15.848929</td>\n",
       "      <td>Ceilândia</td>\n",
       "      <td>P Sul</td>\n",
       "    </tr>\n",
       "    <tr>\n",
       "      <th>1</th>\n",
       "      <td>-48.118195</td>\n",
       "      <td>-15.850772</td>\n",
       "      <td>Ceilândia</td>\n",
       "      <td>P Sul</td>\n",
       "    </tr>\n",
       "    <tr>\n",
       "      <th>2</th>\n",
       "      <td>-48.112483</td>\n",
       "      <td>-15.847871</td>\n",
       "      <td>Ceilândia</td>\n",
       "      <td>P Sul</td>\n",
       "    </tr>\n",
       "    <tr>\n",
       "      <th>3</th>\n",
       "      <td>-48.118023</td>\n",
       "      <td>-15.846471</td>\n",
       "      <td>Ceilândia</td>\n",
       "      <td>P Sul</td>\n",
       "    </tr>\n",
       "    <tr>\n",
       "      <th>4</th>\n",
       "      <td>-48.114898</td>\n",
       "      <td>-15.858055</td>\n",
       "      <td>Sol Nascente/Pôr do Sol</td>\n",
       "      <td>Sol Nascente/Pôr do Sol</td>\n",
       "    </tr>\n",
       "  </tbody>\n",
       "</table>\n",
       "</div>"
      ],
      "text/plain": [
       "   delivery_lng  delivery_lat            delivery_city  \\\n",
       "0    -48.116189    -15.848929                Ceilândia   \n",
       "1    -48.118195    -15.850772                Ceilândia   \n",
       "2    -48.112483    -15.847871                Ceilândia   \n",
       "3    -48.118023    -15.846471                Ceilândia   \n",
       "4    -48.114898    -15.858055  Sol Nascente/Pôr do Sol   \n",
       "\n",
       "           delivery_suburb  \n",
       "0                    P Sul  \n",
       "1                    P Sul  \n",
       "2                    P Sul  \n",
       "3                    P Sul  \n",
       "4  Sol Nascente/Pôr do Sol  "
      ]
     },
     "execution_count": 40,
     "metadata": {},
     "output_type": "execute_result"
    }
   ],
   "source": [
    "deliveries_geodata_df = pd.read_csv(\"deliveries-geodata.csv\")\n",
    "deliveries_geodata_df.head()"
   ]
  },
  {
   "cell_type": "code",
   "execution_count": 41,
   "id": "b07abe48",
   "metadata": {
    "execution": {
     "iopub.execute_input": "2024-02-18T21:07:52.513656Z",
     "iopub.status.busy": "2024-02-18T21:07:52.512576Z",
     "iopub.status.idle": "2024-02-18T21:07:52.605578Z",
     "shell.execute_reply": "2024-02-18T21:07:52.604339Z"
    },
    "id": "d2r8GYa61VhQ",
    "outputId": "044ba6b8-e89b-4cb3-b8f4-fa1b197f4385",
    "papermill": {
     "duration": 0.138222,
     "end_time": "2024-02-18T21:07:52.608681",
     "exception": false,
     "start_time": "2024-02-18T21:07:52.470459",
     "status": "completed"
    },
    "tags": []
   },
   "outputs": [
    {
     "data": {
      "text/html": [
       "<div>\n",
       "<style scoped>\n",
       "    .dataframe tbody tr th:only-of-type {\n",
       "        vertical-align: middle;\n",
       "    }\n",
       "\n",
       "    .dataframe tbody tr th {\n",
       "        vertical-align: top;\n",
       "    }\n",
       "\n",
       "    .dataframe thead th {\n",
       "        text-align: right;\n",
       "    }\n",
       "</style>\n",
       "<table border=\"1\" class=\"dataframe\">\n",
       "  <thead>\n",
       "    <tr style=\"text-align: right;\">\n",
       "      <th></th>\n",
       "      <th>name</th>\n",
       "      <th>region</th>\n",
       "      <th>hub_lng</th>\n",
       "      <th>hub_lat</th>\n",
       "      <th>hub_city</th>\n",
       "      <th>hub_suburb</th>\n",
       "      <th>vehicle_capacity</th>\n",
       "      <th>delivery_size</th>\n",
       "      <th>delivery_lng</th>\n",
       "      <th>delivery_lat</th>\n",
       "      <th>delivery_city</th>\n",
       "      <th>delivery_suburb</th>\n",
       "    </tr>\n",
       "  </thead>\n",
       "  <tbody>\n",
       "    <tr>\n",
       "      <th>0</th>\n",
       "      <td>cvrp-2-df-33</td>\n",
       "      <td>df-2</td>\n",
       "      <td>-48.054989</td>\n",
       "      <td>-15.838145</td>\n",
       "      <td>Taguatinga</td>\n",
       "      <td>Taguatinga</td>\n",
       "      <td>180</td>\n",
       "      <td>9</td>\n",
       "      <td>-48.116189</td>\n",
       "      <td>-15.848929</td>\n",
       "      <td>Ceilândia</td>\n",
       "      <td>P Sul</td>\n",
       "    </tr>\n",
       "    <tr>\n",
       "      <th>1</th>\n",
       "      <td>cvrp-2-df-33</td>\n",
       "      <td>df-2</td>\n",
       "      <td>-48.054989</td>\n",
       "      <td>-15.838145</td>\n",
       "      <td>Taguatinga</td>\n",
       "      <td>Taguatinga</td>\n",
       "      <td>180</td>\n",
       "      <td>2</td>\n",
       "      <td>-48.118195</td>\n",
       "      <td>-15.850772</td>\n",
       "      <td>Ceilândia</td>\n",
       "      <td>P Sul</td>\n",
       "    </tr>\n",
       "    <tr>\n",
       "      <th>2</th>\n",
       "      <td>cvrp-2-df-33</td>\n",
       "      <td>df-2</td>\n",
       "      <td>-48.054989</td>\n",
       "      <td>-15.838145</td>\n",
       "      <td>Taguatinga</td>\n",
       "      <td>Taguatinga</td>\n",
       "      <td>180</td>\n",
       "      <td>1</td>\n",
       "      <td>-48.112483</td>\n",
       "      <td>-15.847871</td>\n",
       "      <td>Ceilândia</td>\n",
       "      <td>P Sul</td>\n",
       "    </tr>\n",
       "    <tr>\n",
       "      <th>3</th>\n",
       "      <td>cvrp-2-df-33</td>\n",
       "      <td>df-2</td>\n",
       "      <td>-48.054989</td>\n",
       "      <td>-15.838145</td>\n",
       "      <td>Taguatinga</td>\n",
       "      <td>Taguatinga</td>\n",
       "      <td>180</td>\n",
       "      <td>2</td>\n",
       "      <td>-48.118023</td>\n",
       "      <td>-15.846471</td>\n",
       "      <td>Ceilândia</td>\n",
       "      <td>P Sul</td>\n",
       "    </tr>\n",
       "    <tr>\n",
       "      <th>4</th>\n",
       "      <td>cvrp-2-df-33</td>\n",
       "      <td>df-2</td>\n",
       "      <td>-48.054989</td>\n",
       "      <td>-15.838145</td>\n",
       "      <td>Taguatinga</td>\n",
       "      <td>Taguatinga</td>\n",
       "      <td>180</td>\n",
       "      <td>7</td>\n",
       "      <td>-48.114898</td>\n",
       "      <td>-15.858055</td>\n",
       "      <td>Sol Nascente/Pôr do Sol</td>\n",
       "      <td>Sol Nascente/Pôr do Sol</td>\n",
       "    </tr>\n",
       "  </tbody>\n",
       "</table>\n",
       "</div>"
      ],
      "text/plain": [
       "           name region    hub_lng    hub_lat    hub_city  hub_suburb  \\\n",
       "0  cvrp-2-df-33   df-2 -48.054989 -15.838145  Taguatinga  Taguatinga   \n",
       "1  cvrp-2-df-33   df-2 -48.054989 -15.838145  Taguatinga  Taguatinga   \n",
       "2  cvrp-2-df-33   df-2 -48.054989 -15.838145  Taguatinga  Taguatinga   \n",
       "3  cvrp-2-df-33   df-2 -48.054989 -15.838145  Taguatinga  Taguatinga   \n",
       "4  cvrp-2-df-33   df-2 -48.054989 -15.838145  Taguatinga  Taguatinga   \n",
       "\n",
       "   vehicle_capacity  delivery_size  delivery_lng  delivery_lat  \\\n",
       "0               180              9    -48.116189    -15.848929   \n",
       "1               180              2    -48.118195    -15.850772   \n",
       "2               180              1    -48.112483    -15.847871   \n",
       "3               180              2    -48.118023    -15.846471   \n",
       "4               180              7    -48.114898    -15.858055   \n",
       "\n",
       "             delivery_city          delivery_suburb  \n",
       "0                Ceilândia                    P Sul  \n",
       "1                Ceilândia                    P Sul  \n",
       "2                Ceilândia                    P Sul  \n",
       "3                Ceilândia                    P Sul  \n",
       "4  Sol Nascente/Pôr do Sol  Sol Nascente/Pôr do Sol  "
      ]
     },
     "execution_count": 41,
     "metadata": {},
     "output_type": "execute_result"
    }
   ],
   "source": [
    "deliveries_df = pd.merge(left=deliveries_df, right=deliveries_geodata_df[[\"delivery_city\", \"delivery_suburb\"]], how=\"inner\", left_index=True, right_index=True)\n",
    "deliveries_df.head()"
   ]
  },
  {
   "cell_type": "markdown",
   "id": "dcb5953e",
   "metadata": {
    "id": "I_wJrNLlDW2_",
    "papermill": {
     "duration": 0.040578,
     "end_time": "2024-02-18T21:07:52.690820",
     "exception": false,
     "start_time": "2024-02-18T21:07:52.650242",
     "status": "completed"
    },
    "tags": []
   },
   "source": [
    "#### 4.1.3 Cálculo da distância\n",
    "\n",
    "Utilizando o pacote h3, realizaremos o cálculo da distância entre os hubs e seus locais de entrega."
   ]
  },
  {
   "cell_type": "code",
   "execution_count": 42,
   "id": "15a19d21",
   "metadata": {
    "execution": {
     "iopub.execute_input": "2024-02-18T21:07:52.774303Z",
     "iopub.status.busy": "2024-02-18T21:07:52.773886Z",
     "iopub.status.idle": "2024-02-18T21:08:07.198169Z",
     "shell.execute_reply": "2024-02-18T21:08:07.196936Z"
    },
    "id": "bvKLBR3tEP-W",
    "outputId": "e0448b7a-963b-4217-f0ab-1f89eac8726d",
    "papermill": {
     "duration": 14.469571,
     "end_time": "2024-02-18T21:08:07.201088",
     "exception": false,
     "start_time": "2024-02-18T21:07:52.731517",
     "status": "completed"
    },
    "tags": []
   },
   "outputs": [
    {
     "name": "stdout",
     "output_type": "stream",
     "text": [
      "Collecting h3\r\n",
      "  Downloading h3-3.7.6-cp310-cp310-manylinux_2_17_x86_64.manylinux2014_x86_64.whl (1.1 MB)\r\n",
      "\u001b[2K     \u001b[90m━━━━━━━━━━━━━━━━━━━━━━━━━━━━━━━━━━━━━━━━\u001b[0m \u001b[32m1.1/1.1 MB\u001b[0m \u001b[31m23.7 MB/s\u001b[0m eta \u001b[36m0:00:00\u001b[0m\r\n",
      "\u001b[?25hInstalling collected packages: h3\r\n",
      "Successfully installed h3-3.7.6\r\n"
     ]
    }
   ],
   "source": [
    "!pip install h3\n",
    "\n",
    "import h3"
   ]
  },
  {
   "cell_type": "code",
   "execution_count": 43,
   "id": "09ea98e5",
   "metadata": {
    "execution": {
     "iopub.execute_input": "2024-02-18T21:08:07.289013Z",
     "iopub.status.busy": "2024-02-18T21:08:07.288273Z",
     "iopub.status.idle": "2024-02-18T21:08:25.331724Z",
     "shell.execute_reply": "2024-02-18T21:08:25.330487Z"
    },
    "id": "FS_hTy4nDepf",
    "papermill": {
     "duration": 18.090329,
     "end_time": "2024-02-18T21:08:25.334620",
     "exception": false,
     "start_time": "2024-02-18T21:08:07.244291",
     "status": "completed"
    },
    "tags": []
   },
   "outputs": [],
   "source": [
    "deliveries_df['distance'] = deliveries_df.apply(lambda row: h3.point_dist((row['hub_lat'], row['hub_lng']), (row['delivery_lat'], row['delivery_lng']), unit='km'), axis=1)"
   ]
  },
  {
   "cell_type": "code",
   "execution_count": 44,
   "id": "63f17619",
   "metadata": {
    "execution": {
     "iopub.execute_input": "2024-02-18T21:08:25.421590Z",
     "iopub.status.busy": "2024-02-18T21:08:25.421178Z",
     "iopub.status.idle": "2024-02-18T21:08:25.442370Z",
     "shell.execute_reply": "2024-02-18T21:08:25.441069Z"
    },
    "id": "bhchM4BLEiZf",
    "outputId": "49aaaf82-da74-4b69-c6f6-60f3ae1b3896",
    "papermill": {
     "duration": 0.067636,
     "end_time": "2024-02-18T21:08:25.444843",
     "exception": false,
     "start_time": "2024-02-18T21:08:25.377207",
     "status": "completed"
    },
    "tags": []
   },
   "outputs": [
    {
     "data": {
      "text/html": [
       "<div>\n",
       "<style scoped>\n",
       "    .dataframe tbody tr th:only-of-type {\n",
       "        vertical-align: middle;\n",
       "    }\n",
       "\n",
       "    .dataframe tbody tr th {\n",
       "        vertical-align: top;\n",
       "    }\n",
       "\n",
       "    .dataframe thead th {\n",
       "        text-align: right;\n",
       "    }\n",
       "</style>\n",
       "<table border=\"1\" class=\"dataframe\">\n",
       "  <thead>\n",
       "    <tr style=\"text-align: right;\">\n",
       "      <th></th>\n",
       "      <th>name</th>\n",
       "      <th>region</th>\n",
       "      <th>hub_lng</th>\n",
       "      <th>hub_lat</th>\n",
       "      <th>hub_city</th>\n",
       "      <th>hub_suburb</th>\n",
       "      <th>vehicle_capacity</th>\n",
       "      <th>delivery_size</th>\n",
       "      <th>delivery_lng</th>\n",
       "      <th>delivery_lat</th>\n",
       "      <th>delivery_city</th>\n",
       "      <th>delivery_suburb</th>\n",
       "      <th>distance</th>\n",
       "    </tr>\n",
       "  </thead>\n",
       "  <tbody>\n",
       "    <tr>\n",
       "      <th>0</th>\n",
       "      <td>cvrp-2-df-33</td>\n",
       "      <td>df-2</td>\n",
       "      <td>-48.054989</td>\n",
       "      <td>-15.838145</td>\n",
       "      <td>Taguatinga</td>\n",
       "      <td>Taguatinga</td>\n",
       "      <td>180</td>\n",
       "      <td>9</td>\n",
       "      <td>-48.116189</td>\n",
       "      <td>-15.848929</td>\n",
       "      <td>Ceilândia</td>\n",
       "      <td>P Sul</td>\n",
       "      <td>6.655514</td>\n",
       "    </tr>\n",
       "    <tr>\n",
       "      <th>1</th>\n",
       "      <td>cvrp-2-df-33</td>\n",
       "      <td>df-2</td>\n",
       "      <td>-48.054989</td>\n",
       "      <td>-15.838145</td>\n",
       "      <td>Taguatinga</td>\n",
       "      <td>Taguatinga</td>\n",
       "      <td>180</td>\n",
       "      <td>2</td>\n",
       "      <td>-48.118195</td>\n",
       "      <td>-15.850772</td>\n",
       "      <td>Ceilândia</td>\n",
       "      <td>P Sul</td>\n",
       "      <td>6.905409</td>\n",
       "    </tr>\n",
       "    <tr>\n",
       "      <th>2</th>\n",
       "      <td>cvrp-2-df-33</td>\n",
       "      <td>df-2</td>\n",
       "      <td>-48.054989</td>\n",
       "      <td>-15.838145</td>\n",
       "      <td>Taguatinga</td>\n",
       "      <td>Taguatinga</td>\n",
       "      <td>180</td>\n",
       "      <td>1</td>\n",
       "      <td>-48.112483</td>\n",
       "      <td>-15.847871</td>\n",
       "      <td>Ceilândia</td>\n",
       "      <td>P Sul</td>\n",
       "      <td>6.244587</td>\n",
       "    </tr>\n",
       "    <tr>\n",
       "      <th>3</th>\n",
       "      <td>cvrp-2-df-33</td>\n",
       "      <td>df-2</td>\n",
       "      <td>-48.054989</td>\n",
       "      <td>-15.838145</td>\n",
       "      <td>Taguatinga</td>\n",
       "      <td>Taguatinga</td>\n",
       "      <td>180</td>\n",
       "      <td>2</td>\n",
       "      <td>-48.118023</td>\n",
       "      <td>-15.846471</td>\n",
       "      <td>Ceilândia</td>\n",
       "      <td>P Sul</td>\n",
       "      <td>6.806060</td>\n",
       "    </tr>\n",
       "    <tr>\n",
       "      <th>4</th>\n",
       "      <td>cvrp-2-df-33</td>\n",
       "      <td>df-2</td>\n",
       "      <td>-48.054989</td>\n",
       "      <td>-15.838145</td>\n",
       "      <td>Taguatinga</td>\n",
       "      <td>Taguatinga</td>\n",
       "      <td>180</td>\n",
       "      <td>7</td>\n",
       "      <td>-48.114898</td>\n",
       "      <td>-15.858055</td>\n",
       "      <td>Sol Nascente/Pôr do Sol</td>\n",
       "      <td>Sol Nascente/Pôr do Sol</td>\n",
       "      <td>6.780017</td>\n",
       "    </tr>\n",
       "  </tbody>\n",
       "</table>\n",
       "</div>"
      ],
      "text/plain": [
       "           name region    hub_lng    hub_lat    hub_city  hub_suburb  \\\n",
       "0  cvrp-2-df-33   df-2 -48.054989 -15.838145  Taguatinga  Taguatinga   \n",
       "1  cvrp-2-df-33   df-2 -48.054989 -15.838145  Taguatinga  Taguatinga   \n",
       "2  cvrp-2-df-33   df-2 -48.054989 -15.838145  Taguatinga  Taguatinga   \n",
       "3  cvrp-2-df-33   df-2 -48.054989 -15.838145  Taguatinga  Taguatinga   \n",
       "4  cvrp-2-df-33   df-2 -48.054989 -15.838145  Taguatinga  Taguatinga   \n",
       "\n",
       "   vehicle_capacity  delivery_size  delivery_lng  delivery_lat  \\\n",
       "0               180              9    -48.116189    -15.848929   \n",
       "1               180              2    -48.118195    -15.850772   \n",
       "2               180              1    -48.112483    -15.847871   \n",
       "3               180              2    -48.118023    -15.846471   \n",
       "4               180              7    -48.114898    -15.858055   \n",
       "\n",
       "             delivery_city          delivery_suburb  distance  \n",
       "0                Ceilândia                    P Sul  6.655514  \n",
       "1                Ceilândia                    P Sul  6.905409  \n",
       "2                Ceilândia                    P Sul  6.244587  \n",
       "3                Ceilândia                    P Sul  6.806060  \n",
       "4  Sol Nascente/Pôr do Sol  Sol Nascente/Pôr do Sol  6.780017  "
      ]
     },
     "execution_count": 44,
     "metadata": {},
     "output_type": "execute_result"
    }
   ],
   "source": [
    "deliveries_df.head()"
   ]
  },
  {
   "cell_type": "markdown",
   "id": "715dd815",
   "metadata": {
    "id": "tCJXiKH6EvvF",
    "papermill": {
     "duration": 0.042345,
     "end_time": "2024-02-18T21:08:25.530434",
     "exception": false,
     "start_time": "2024-02-18T21:08:25.488089",
     "status": "completed"
    },
    "tags": []
   },
   "source": [
    "### **4.2 Qualidade**"
   ]
  },
  {
   "cell_type": "markdown",
   "id": "d0fa3f00",
   "metadata": {
    "id": "x8yq8-LBFUl6",
    "papermill": {
     "duration": 0.042951,
     "end_time": "2024-02-18T21:08:25.616654",
     "exception": false,
     "start_time": "2024-02-18T21:08:25.573703",
     "status": "completed"
    },
    "tags": []
   },
   "source": [
    "Com o enriquecimento dos dados e a criação de novas colunas, uma nova verificação da sua estrutura deve ser realizada, com os mesmos métodos aplicados em 3.3, 3.4 e 3.5"
   ]
  },
  {
   "cell_type": "code",
   "execution_count": 45,
   "id": "73eff8c6",
   "metadata": {
    "execution": {
     "iopub.execute_input": "2024-02-18T21:08:25.706085Z",
     "iopub.status.busy": "2024-02-18T21:08:25.705319Z",
     "iopub.status.idle": "2024-02-18T21:08:26.107096Z",
     "shell.execute_reply": "2024-02-18T21:08:26.105770Z"
    },
    "id": "qBp1WQApFXmE",
    "outputId": "488a0f42-fc60-40ea-d7db-175eecae0bd3",
    "papermill": {
     "duration": 0.449248,
     "end_time": "2024-02-18T21:08:26.110084",
     "exception": false,
     "start_time": "2024-02-18T21:08:25.660836",
     "status": "completed"
    },
    "tags": []
   },
   "outputs": [
    {
     "name": "stdout",
     "output_type": "stream",
     "text": [
      "<class 'pandas.core.frame.DataFrame'>\n",
      "RangeIndex: 636149 entries, 0 to 636148\n",
      "Data columns (total 13 columns):\n",
      " #   Column            Non-Null Count   Dtype  \n",
      "---  ------            --------------   -----  \n",
      " 0   name              636149 non-null  object \n",
      " 1   region            636149 non-null  object \n",
      " 2   hub_lng           636149 non-null  float64\n",
      " 3   hub_lat           636149 non-null  float64\n",
      " 4   hub_city          636149 non-null  object \n",
      " 5   hub_suburb        636149 non-null  object \n",
      " 6   vehicle_capacity  636149 non-null  int64  \n",
      " 7   delivery_size     636149 non-null  int64  \n",
      " 8   delivery_lng      636149 non-null  float64\n",
      " 9   delivery_lat      636149 non-null  float64\n",
      " 10  delivery_city     634447 non-null  object \n",
      " 11  delivery_suburb   476264 non-null  object \n",
      " 12  distance          636149 non-null  float64\n",
      "dtypes: float64(5), int64(2), object(6)\n",
      "memory usage: 63.1+ MB\n"
     ]
    }
   ],
   "source": [
    "# - controle de qualidade;\n",
    "\n",
    "deliveries_df.info()"
   ]
  },
  {
   "cell_type": "code",
   "execution_count": 46,
   "id": "5682eda6",
   "metadata": {
    "execution": {
     "iopub.execute_input": "2024-02-18T21:08:26.197859Z",
     "iopub.status.busy": "2024-02-18T21:08:26.197092Z",
     "iopub.status.idle": "2024-02-18T21:08:26.591477Z",
     "shell.execute_reply": "2024-02-18T21:08:26.590310Z"
    },
    "id": "hqZD8403Fdaq",
    "outputId": "9c47cecc-fe91-42db-c6f3-368f565b2f94",
    "papermill": {
     "duration": 0.441156,
     "end_time": "2024-02-18T21:08:26.594000",
     "exception": false,
     "start_time": "2024-02-18T21:08:26.152844",
     "status": "completed"
    },
    "tags": []
   },
   "outputs": [
    {
     "data": {
      "text/plain": [
       "name                False\n",
       "region              False\n",
       "hub_lng             False\n",
       "hub_lat             False\n",
       "hub_city            False\n",
       "hub_suburb          False\n",
       "vehicle_capacity    False\n",
       "delivery_size       False\n",
       "delivery_lng        False\n",
       "delivery_lat        False\n",
       "delivery_city        True\n",
       "delivery_suburb      True\n",
       "distance            False\n",
       "dtype: bool"
      ]
     },
     "execution_count": 46,
     "metadata": {},
     "output_type": "execute_result"
    }
   ],
   "source": [
    "deliveries_df.isna().any()"
   ]
  },
  {
   "cell_type": "markdown",
   "id": "8cfe6572",
   "metadata": {
    "id": "iwsDAIRkFoU8",
    "papermill": {
     "duration": 0.042204,
     "end_time": "2024-02-18T21:08:26.678829",
     "exception": false,
     "start_time": "2024-02-18T21:08:26.636625",
     "status": "completed"
    },
    "tags": []
   },
   "source": [
    "- **Geocodificação reversa**"
   ]
  },
  {
   "cell_type": "code",
   "execution_count": 47,
   "id": "86f045e7",
   "metadata": {
    "execution": {
     "iopub.execute_input": "2024-02-18T21:08:26.768239Z",
     "iopub.status.busy": "2024-02-18T21:08:26.767794Z",
     "iopub.status.idle": "2024-02-18T21:08:26.840903Z",
     "shell.execute_reply": "2024-02-18T21:08:26.839630Z"
    },
    "id": "WtHcXn_rFpvz",
    "outputId": "7a7e7e44-a89a-4e8e-827f-e5d5a7ab53f8",
    "papermill": {
     "duration": 0.122305,
     "end_time": "2024-02-18T21:08:26.843451",
     "exception": false,
     "start_time": "2024-02-18T21:08:26.721146",
     "status": "completed"
    },
    "tags": []
   },
   "outputs": [
    {
     "data": {
      "text/plain": [
       "0.26754738276724477"
      ]
     },
     "execution_count": 47,
     "metadata": {},
     "output_type": "execute_result"
    }
   ],
   "source": [
    "# Proporção de valores nulos na coluna delivery_city\n",
    "100 * (deliveries_df[\"delivery_city\"].isna().sum() / len(deliveries_df))"
   ]
  },
  {
   "cell_type": "code",
   "execution_count": 48,
   "id": "66e9c78b",
   "metadata": {
    "execution": {
     "iopub.execute_input": "2024-02-18T21:08:26.936384Z",
     "iopub.status.busy": "2024-02-18T21:08:26.935590Z",
     "iopub.status.idle": "2024-02-18T21:08:27.000669Z",
     "shell.execute_reply": "2024-02-18T21:08:26.999306Z"
    },
    "id": "L4mF1xnZFxVk",
    "outputId": "69134070-ee12-47c4-ea9f-b59036bd3eae",
    "papermill": {
     "duration": 0.115623,
     "end_time": "2024-02-18T21:08:27.003484",
     "exception": false,
     "start_time": "2024-02-18T21:08:26.887861",
     "status": "completed"
    },
    "tags": []
   },
   "outputs": [
    {
     "data": {
      "text/plain": [
       "25.133262804783158"
      ]
     },
     "execution_count": 48,
     "metadata": {},
     "output_type": "execute_result"
    }
   ],
   "source": [
    "# Proporção de valores nulos na coluna delivery_suburb\n",
    "100 * (deliveries_df[\"delivery_suburb\"].isna().sum() / len(deliveries_df))"
   ]
  },
  {
   "cell_type": "code",
   "execution_count": 49,
   "id": "02ec5c09",
   "metadata": {
    "execution": {
     "iopub.execute_input": "2024-02-18T21:08:27.094110Z",
     "iopub.status.busy": "2024-02-18T21:08:27.093363Z",
     "iopub.status.idle": "2024-02-18T21:08:27.326803Z",
     "shell.execute_reply": "2024-02-18T21:08:27.325581Z"
    },
    "id": "A9lIxp4YF2wk",
    "outputId": "49b34074-5c31-4e2a-fe3d-aa8aa1adf531",
    "papermill": {
     "duration": 0.281321,
     "end_time": "2024-02-18T21:08:27.329228",
     "exception": false,
     "start_time": "2024-02-18T21:08:27.047907",
     "status": "completed"
    },
    "tags": []
   },
   "outputs": [
    {
     "data": {
      "text/plain": [
       "delivery_city       \n",
       "Brasília                0.234195\n",
       "Taguatinga              0.071625\n",
       "Sudoeste / Octogonal    0.069504\n",
       "Ceilândia               0.059661\n",
       "Águas Claras            0.058293\n",
       "Guará                   0.055619\n",
       "Lago Sul                0.045620\n",
       "Sobradinho              0.045412\n",
       "Lago Norte              0.040832\n",
       "Gama                    0.034880\n",
       "Name: count, dtype: float64"
      ]
     },
     "execution_count": 49,
     "metadata": {},
     "output_type": "execute_result"
    }
   ],
   "source": [
    "# Proporção de cada registro da coluna delivery_city\n",
    "prop_df = deliveries_df[[\"delivery_city\"]].value_counts() / len(deliveries_df)\n",
    "prop_df.sort_values(ascending=False).head(10)"
   ]
  },
  {
   "cell_type": "code",
   "execution_count": 50,
   "id": "58447a71",
   "metadata": {
    "execution": {
     "iopub.execute_input": "2024-02-18T21:08:27.418061Z",
     "iopub.status.busy": "2024-02-18T21:08:27.417151Z",
     "iopub.status.idle": "2024-02-18T21:08:27.561592Z",
     "shell.execute_reply": "2024-02-18T21:08:27.560328Z"
    },
    "id": "Rbs19oMEF5EA",
    "outputId": "58cbf50e-29d7-4809-febb-8e40de6dbbd7",
    "papermill": {
     "duration": 0.191978,
     "end_time": "2024-02-18T21:08:27.564658",
     "exception": false,
     "start_time": "2024-02-18T21:08:27.372680",
     "status": "completed"
    },
    "tags": []
   },
   "outputs": [
    {
     "data": {
      "text/plain": [
       "delivery_suburb \n",
       "Brasília            0.084564\n",
       "Asa Norte           0.076639\n",
       "Taguatinga          0.063363\n",
       "Asa Sul             0.059263\n",
       "Águas Claras        0.056598\n",
       "Guará               0.055619\n",
       "Samambaia           0.026514\n",
       "Sobradinho          0.018148\n",
       "Recanto das Emas    0.015029\n",
       "P Sul               0.012807\n",
       "Name: count, dtype: float64"
      ]
     },
     "execution_count": 50,
     "metadata": {},
     "output_type": "execute_result"
    }
   ],
   "source": [
    "# Proporção de cada registro da coluna delivery_suburb\n",
    "prop_df = deliveries_df[[\"delivery_suburb\"]].value_counts() / len(deliveries_df)\n",
    "prop_df.sort_values(ascending=False).head(10)"
   ]
  },
  {
   "cell_type": "code",
   "execution_count": 51,
   "id": "5422ff98",
   "metadata": {
    "execution": {
     "iopub.execute_input": "2024-02-18T21:08:27.655284Z",
     "iopub.status.busy": "2024-02-18T21:08:27.654305Z",
     "iopub.status.idle": "2024-02-18T21:08:27.873047Z",
     "shell.execute_reply": "2024-02-18T21:08:27.871913Z"
    },
    "id": "wuhHCcyRF7GB",
    "outputId": "a32e02f6-2078-4718-aa97-185b0b893e33",
    "papermill": {
     "duration": 0.267111,
     "end_time": "2024-02-18T21:08:27.875461",
     "exception": false,
     "start_time": "2024-02-18T21:08:27.608350",
     "status": "completed"
    },
    "tags": []
   },
   "outputs": [
    {
     "data": {
      "text/html": [
       "<div>\n",
       "<style scoped>\n",
       "    .dataframe tbody tr th:only-of-type {\n",
       "        vertical-align: middle;\n",
       "    }\n",
       "\n",
       "    .dataframe tbody tr th {\n",
       "        vertical-align: top;\n",
       "    }\n",
       "\n",
       "    .dataframe thead th {\n",
       "        text-align: right;\n",
       "    }\n",
       "</style>\n",
       "<table border=\"1\" class=\"dataframe\">\n",
       "  <thead>\n",
       "    <tr style=\"text-align: right;\">\n",
       "      <th></th>\n",
       "      <th>count</th>\n",
       "      <th>mean</th>\n",
       "      <th>std</th>\n",
       "      <th>min</th>\n",
       "      <th>25%</th>\n",
       "      <th>50%</th>\n",
       "      <th>75%</th>\n",
       "      <th>max</th>\n",
       "    </tr>\n",
       "  </thead>\n",
       "  <tbody>\n",
       "    <tr>\n",
       "      <th>hub_lng</th>\n",
       "      <td>636149.0</td>\n",
       "      <td>-47.949902</td>\n",
       "      <td>0.091875</td>\n",
       "      <td>-48.054989</td>\n",
       "      <td>-48.054989</td>\n",
       "      <td>-47.893662</td>\n",
       "      <td>-47.893662</td>\n",
       "      <td>-47.802665</td>\n",
       "    </tr>\n",
       "    <tr>\n",
       "      <th>hub_lat</th>\n",
       "      <td>636149.0</td>\n",
       "      <td>-15.802359</td>\n",
       "      <td>0.053463</td>\n",
       "      <td>-15.838145</td>\n",
       "      <td>-15.838145</td>\n",
       "      <td>-15.805118</td>\n",
       "      <td>-15.805118</td>\n",
       "      <td>-15.657014</td>\n",
       "    </tr>\n",
       "    <tr>\n",
       "      <th>vehicle_capacity</th>\n",
       "      <td>636149.0</td>\n",
       "      <td>180.000000</td>\n",
       "      <td>0.000000</td>\n",
       "      <td>180.000000</td>\n",
       "      <td>180.000000</td>\n",
       "      <td>180.000000</td>\n",
       "      <td>180.000000</td>\n",
       "      <td>180.000000</td>\n",
       "    </tr>\n",
       "    <tr>\n",
       "      <th>delivery_size</th>\n",
       "      <td>636149.0</td>\n",
       "      <td>5.512111</td>\n",
       "      <td>2.874557</td>\n",
       "      <td>1.000000</td>\n",
       "      <td>3.000000</td>\n",
       "      <td>6.000000</td>\n",
       "      <td>8.000000</td>\n",
       "      <td>10.000000</td>\n",
       "    </tr>\n",
       "    <tr>\n",
       "      <th>delivery_lng</th>\n",
       "      <td>636149.0</td>\n",
       "      <td>-47.946087</td>\n",
       "      <td>0.112769</td>\n",
       "      <td>-48.280779</td>\n",
       "      <td>-48.035911</td>\n",
       "      <td>-47.928967</td>\n",
       "      <td>-47.883394</td>\n",
       "      <td>-47.310611</td>\n",
       "    </tr>\n",
       "    <tr>\n",
       "      <th>delivery_lat</th>\n",
       "      <td>636149.0</td>\n",
       "      <td>-15.809492</td>\n",
       "      <td>0.082462</td>\n",
       "      <td>-16.050028</td>\n",
       "      <td>-15.842795</td>\n",
       "      <td>-15.814033</td>\n",
       "      <td>-15.769516</td>\n",
       "      <td>-15.500355</td>\n",
       "    </tr>\n",
       "    <tr>\n",
       "      <th>distance</th>\n",
       "      <td>636149.0</td>\n",
       "      <td>7.095044</td>\n",
       "      <td>5.341920</td>\n",
       "      <td>0.003391</td>\n",
       "      <td>3.676055</td>\n",
       "      <td>5.528983</td>\n",
       "      <td>8.885126</td>\n",
       "      <td>67.922931</td>\n",
       "    </tr>\n",
       "  </tbody>\n",
       "</table>\n",
       "</div>"
      ],
      "text/plain": [
       "                     count        mean       std         min         25%  \\\n",
       "hub_lng           636149.0  -47.949902  0.091875  -48.054989  -48.054989   \n",
       "hub_lat           636149.0  -15.802359  0.053463  -15.838145  -15.838145   \n",
       "vehicle_capacity  636149.0  180.000000  0.000000  180.000000  180.000000   \n",
       "delivery_size     636149.0    5.512111  2.874557    1.000000    3.000000   \n",
       "delivery_lng      636149.0  -47.946087  0.112769  -48.280779  -48.035911   \n",
       "delivery_lat      636149.0  -15.809492  0.082462  -16.050028  -15.842795   \n",
       "distance          636149.0    7.095044  5.341920    0.003391    3.676055   \n",
       "\n",
       "                         50%         75%         max  \n",
       "hub_lng           -47.893662  -47.893662  -47.802665  \n",
       "hub_lat           -15.805118  -15.805118  -15.657014  \n",
       "vehicle_capacity  180.000000  180.000000  180.000000  \n",
       "delivery_size       6.000000    8.000000   10.000000  \n",
       "delivery_lng      -47.928967  -47.883394  -47.310611  \n",
       "delivery_lat      -15.814033  -15.769516  -15.500355  \n",
       "distance            5.528983    8.885126   67.922931  "
      ]
     },
     "execution_count": 51,
     "metadata": {},
     "output_type": "execute_result"
    }
   ],
   "source": [
    "deliveries_df.select_dtypes(include=['int64', 'float64']).describe().T"
   ]
  },
  {
   "cell_type": "code",
   "execution_count": 52,
   "id": "b4c1a033",
   "metadata": {
    "execution": {
     "iopub.execute_input": "2024-02-18T21:08:27.965633Z",
     "iopub.status.busy": "2024-02-18T21:08:27.965198Z",
     "iopub.status.idle": "2024-02-18T21:08:29.063930Z",
     "shell.execute_reply": "2024-02-18T21:08:29.062753Z"
    },
    "id": "n71GzuX1F9Ns",
    "outputId": "a8a614b9-3b90-4250-8a91-896d231faba2",
    "papermill": {
     "duration": 1.146784,
     "end_time": "2024-02-18T21:08:29.066465",
     "exception": false,
     "start_time": "2024-02-18T21:08:27.919681",
     "status": "completed"
    },
    "tags": []
   },
   "outputs": [
    {
     "data": {
      "text/html": [
       "<div>\n",
       "<style scoped>\n",
       "    .dataframe tbody tr th:only-of-type {\n",
       "        vertical-align: middle;\n",
       "    }\n",
       "\n",
       "    .dataframe tbody tr th {\n",
       "        vertical-align: top;\n",
       "    }\n",
       "\n",
       "    .dataframe thead th {\n",
       "        text-align: right;\n",
       "    }\n",
       "</style>\n",
       "<table border=\"1\" class=\"dataframe\">\n",
       "  <thead>\n",
       "    <tr style=\"text-align: right;\">\n",
       "      <th></th>\n",
       "      <th>count</th>\n",
       "      <th>unique</th>\n",
       "      <th>top</th>\n",
       "      <th>freq</th>\n",
       "    </tr>\n",
       "  </thead>\n",
       "  <tbody>\n",
       "    <tr>\n",
       "      <th>name</th>\n",
       "      <td>636149</td>\n",
       "      <td>199</td>\n",
       "      <td>cvrp-1-df-87</td>\n",
       "      <td>5636</td>\n",
       "    </tr>\n",
       "    <tr>\n",
       "      <th>region</th>\n",
       "      <td>636149</td>\n",
       "      <td>3</td>\n",
       "      <td>df-1</td>\n",
       "      <td>304708</td>\n",
       "    </tr>\n",
       "    <tr>\n",
       "      <th>hub_city</th>\n",
       "      <td>636149</td>\n",
       "      <td>3</td>\n",
       "      <td>Brasília</td>\n",
       "      <td>304708</td>\n",
       "    </tr>\n",
       "    <tr>\n",
       "      <th>hub_suburb</th>\n",
       "      <td>636149</td>\n",
       "      <td>3</td>\n",
       "      <td>Asa Sul</td>\n",
       "      <td>304708</td>\n",
       "    </tr>\n",
       "    <tr>\n",
       "      <th>delivery_city</th>\n",
       "      <td>634447</td>\n",
       "      <td>38</td>\n",
       "      <td>Brasília</td>\n",
       "      <td>148983</td>\n",
       "    </tr>\n",
       "    <tr>\n",
       "      <th>delivery_suburb</th>\n",
       "      <td>476264</td>\n",
       "      <td>167</td>\n",
       "      <td>Brasília</td>\n",
       "      <td>53795</td>\n",
       "    </tr>\n",
       "  </tbody>\n",
       "</table>\n",
       "</div>"
      ],
      "text/plain": [
       "                  count unique           top    freq\n",
       "name             636149    199  cvrp-1-df-87    5636\n",
       "region           636149      3          df-1  304708\n",
       "hub_city         636149      3      Brasília  304708\n",
       "hub_suburb       636149      3       Asa Sul  304708\n",
       "delivery_city    634447     38      Brasília  148983\n",
       "delivery_suburb  476264    167      Brasília   53795"
      ]
     },
     "execution_count": 52,
     "metadata": {},
     "output_type": "execute_result"
    }
   ],
   "source": [
    "deliveries_df.select_dtypes('object').describe().T"
   ]
  },
  {
   "cell_type": "code",
   "execution_count": 53,
   "id": "47cdb993",
   "metadata": {
    "execution": {
     "iopub.execute_input": "2024-02-18T21:08:29.157240Z",
     "iopub.status.busy": "2024-02-18T21:08:29.156580Z",
     "iopub.status.idle": "2024-02-18T21:08:29.247097Z",
     "shell.execute_reply": "2024-02-18T21:08:29.245768Z"
    },
    "id": "7xKtMjeeGAVv",
    "outputId": "44a46460-f529-416c-e7b0-66431597395b",
    "papermill": {
     "duration": 0.139661,
     "end_time": "2024-02-18T21:08:29.249980",
     "exception": false,
     "start_time": "2024-02-18T21:08:29.110319",
     "status": "completed"
    },
    "tags": []
   },
   "outputs": [
    {
     "data": {
      "text/html": [
       "<div>\n",
       "<style scoped>\n",
       "    .dataframe tbody tr th:only-of-type {\n",
       "        vertical-align: middle;\n",
       "    }\n",
       "\n",
       "    .dataframe tbody tr th {\n",
       "        vertical-align: top;\n",
       "    }\n",
       "\n",
       "    .dataframe thead th {\n",
       "        text-align: right;\n",
       "    }\n",
       "</style>\n",
       "<table border=\"1\" class=\"dataframe\">\n",
       "  <thead>\n",
       "    <tr style=\"text-align: right;\">\n",
       "      <th></th>\n",
       "      <th>count</th>\n",
       "      <th>mean</th>\n",
       "      <th>std</th>\n",
       "      <th>min</th>\n",
       "      <th>25%</th>\n",
       "      <th>50%</th>\n",
       "      <th>75%</th>\n",
       "      <th>max</th>\n",
       "    </tr>\n",
       "  </thead>\n",
       "  <tbody>\n",
       "    <tr>\n",
       "      <th>hub_lng</th>\n",
       "      <td>70122.0</td>\n",
       "      <td>-47.802665</td>\n",
       "      <td>1.421096e-14</td>\n",
       "      <td>-47.802665</td>\n",
       "      <td>-47.802665</td>\n",
       "      <td>-47.802665</td>\n",
       "      <td>-47.802665</td>\n",
       "      <td>-47.802665</td>\n",
       "    </tr>\n",
       "    <tr>\n",
       "      <th>hub_lat</th>\n",
       "      <td>70122.0</td>\n",
       "      <td>-15.657014</td>\n",
       "      <td>3.552739e-15</td>\n",
       "      <td>-15.657014</td>\n",
       "      <td>-15.657014</td>\n",
       "      <td>-15.657014</td>\n",
       "      <td>-15.657014</td>\n",
       "      <td>-15.657014</td>\n",
       "    </tr>\n",
       "    <tr>\n",
       "      <th>vehicle_capacity</th>\n",
       "      <td>70122.0</td>\n",
       "      <td>180.000000</td>\n",
       "      <td>0.000000e+00</td>\n",
       "      <td>180.000000</td>\n",
       "      <td>180.000000</td>\n",
       "      <td>180.000000</td>\n",
       "      <td>180.000000</td>\n",
       "      <td>180.000000</td>\n",
       "    </tr>\n",
       "    <tr>\n",
       "      <th>delivery_size</th>\n",
       "      <td>70122.0</td>\n",
       "      <td>5.503722</td>\n",
       "      <td>2.860214e+00</td>\n",
       "      <td>1.000000</td>\n",
       "      <td>3.000000</td>\n",
       "      <td>5.000000</td>\n",
       "      <td>8.000000</td>\n",
       "      <td>10.000000</td>\n",
       "    </tr>\n",
       "    <tr>\n",
       "      <th>delivery_lng</th>\n",
       "      <td>70122.0</td>\n",
       "      <td>-47.765693</td>\n",
       "      <td>8.433202e-02</td>\n",
       "      <td>-48.063796</td>\n",
       "      <td>-47.828217</td>\n",
       "      <td>-47.788887</td>\n",
       "      <td>-47.679488</td>\n",
       "      <td>-47.310611</td>\n",
       "    </tr>\n",
       "    <tr>\n",
       "      <th>delivery_lat</th>\n",
       "      <td>70122.0</td>\n",
       "      <td>-15.664266</td>\n",
       "      <td>5.446639e-02</td>\n",
       "      <td>-16.048644</td>\n",
       "      <td>-15.675870</td>\n",
       "      <td>-15.650357</td>\n",
       "      <td>-15.631786</td>\n",
       "      <td>-15.501401</td>\n",
       "    </tr>\n",
       "    <tr>\n",
       "      <th>distance</th>\n",
       "      <td>70122.0</td>\n",
       "      <td>9.022905</td>\n",
       "      <td>7.287892e+00</td>\n",
       "      <td>0.008223</td>\n",
       "      <td>3.498384</td>\n",
       "      <td>5.946070</td>\n",
       "      <td>14.953202</td>\n",
       "      <td>67.922931</td>\n",
       "    </tr>\n",
       "  </tbody>\n",
       "</table>\n",
       "</div>"
      ],
      "text/plain": [
       "                    count        mean           std         min         25%  \\\n",
       "hub_lng           70122.0  -47.802665  1.421096e-14  -47.802665  -47.802665   \n",
       "hub_lat           70122.0  -15.657014  3.552739e-15  -15.657014  -15.657014   \n",
       "vehicle_capacity  70122.0  180.000000  0.000000e+00  180.000000  180.000000   \n",
       "delivery_size     70122.0    5.503722  2.860214e+00    1.000000    3.000000   \n",
       "delivery_lng      70122.0  -47.765693  8.433202e-02  -48.063796  -47.828217   \n",
       "delivery_lat      70122.0  -15.664266  5.446639e-02  -16.048644  -15.675870   \n",
       "distance          70122.0    9.022905  7.287892e+00    0.008223    3.498384   \n",
       "\n",
       "                         50%         75%         max  \n",
       "hub_lng           -47.802665  -47.802665  -47.802665  \n",
       "hub_lat           -15.657014  -15.657014  -15.657014  \n",
       "vehicle_capacity  180.000000  180.000000  180.000000  \n",
       "delivery_size       5.000000    8.000000   10.000000  \n",
       "delivery_lng      -47.788887  -47.679488  -47.310611  \n",
       "delivery_lat      -15.650357  -15.631786  -15.501401  \n",
       "distance            5.946070   14.953202   67.922931  "
      ]
     },
     "execution_count": 53,
     "metadata": {},
     "output_type": "execute_result"
    }
   ],
   "source": [
    "deliveries_df.query('region == \"df-0\"').describe().T"
   ]
  },
  {
   "cell_type": "code",
   "execution_count": 54,
   "id": "0e66aa3b",
   "metadata": {
    "execution": {
     "iopub.execute_input": "2024-02-18T21:08:29.342673Z",
     "iopub.status.busy": "2024-02-18T21:08:29.342269Z",
     "iopub.status.idle": "2024-02-18T21:08:29.534051Z",
     "shell.execute_reply": "2024-02-18T21:08:29.532755Z"
    },
    "id": "47hPOZJ-GCcg",
    "outputId": "0f089141-cb01-41fa-d846-10b5ce198895",
    "papermill": {
     "duration": 0.240575,
     "end_time": "2024-02-18T21:08:29.536699",
     "exception": false,
     "start_time": "2024-02-18T21:08:29.296124",
     "status": "completed"
    },
    "tags": []
   },
   "outputs": [
    {
     "data": {
      "text/html": [
       "<div>\n",
       "<style scoped>\n",
       "    .dataframe tbody tr th:only-of-type {\n",
       "        vertical-align: middle;\n",
       "    }\n",
       "\n",
       "    .dataframe tbody tr th {\n",
       "        vertical-align: top;\n",
       "    }\n",
       "\n",
       "    .dataframe thead th {\n",
       "        text-align: right;\n",
       "    }\n",
       "</style>\n",
       "<table border=\"1\" class=\"dataframe\">\n",
       "  <thead>\n",
       "    <tr style=\"text-align: right;\">\n",
       "      <th></th>\n",
       "      <th>count</th>\n",
       "      <th>mean</th>\n",
       "      <th>std</th>\n",
       "      <th>min</th>\n",
       "      <th>25%</th>\n",
       "      <th>50%</th>\n",
       "      <th>75%</th>\n",
       "      <th>max</th>\n",
       "    </tr>\n",
       "  </thead>\n",
       "  <tbody>\n",
       "    <tr>\n",
       "      <th>hub_lng</th>\n",
       "      <td>304708.0</td>\n",
       "      <td>-47.893662</td>\n",
       "      <td>2.842176e-14</td>\n",
       "      <td>-47.893662</td>\n",
       "      <td>-47.893662</td>\n",
       "      <td>-47.893662</td>\n",
       "      <td>-47.893662</td>\n",
       "      <td>-47.893662</td>\n",
       "    </tr>\n",
       "    <tr>\n",
       "      <th>hub_lat</th>\n",
       "      <td>304708.0</td>\n",
       "      <td>-15.805118</td>\n",
       "      <td>5.329079e-15</td>\n",
       "      <td>-15.805118</td>\n",
       "      <td>-15.805118</td>\n",
       "      <td>-15.805118</td>\n",
       "      <td>-15.805118</td>\n",
       "      <td>-15.805118</td>\n",
       "    </tr>\n",
       "    <tr>\n",
       "      <th>vehicle_capacity</th>\n",
       "      <td>304708.0</td>\n",
       "      <td>180.000000</td>\n",
       "      <td>0.000000e+00</td>\n",
       "      <td>180.000000</td>\n",
       "      <td>180.000000</td>\n",
       "      <td>180.000000</td>\n",
       "      <td>180.000000</td>\n",
       "      <td>180.000000</td>\n",
       "    </tr>\n",
       "    <tr>\n",
       "      <th>delivery_size</th>\n",
       "      <td>304708.0</td>\n",
       "      <td>5.518667</td>\n",
       "      <td>2.879353e+00</td>\n",
       "      <td>1.000000</td>\n",
       "      <td>3.000000</td>\n",
       "      <td>6.000000</td>\n",
       "      <td>8.000000</td>\n",
       "      <td>10.000000</td>\n",
       "    </tr>\n",
       "    <tr>\n",
       "      <th>delivery_lng</th>\n",
       "      <td>304708.0</td>\n",
       "      <td>-47.893054</td>\n",
       "      <td>4.365066e-02</td>\n",
       "      <td>-48.020853</td>\n",
       "      <td>-47.922241</td>\n",
       "      <td>-47.893755</td>\n",
       "      <td>-47.879636</td>\n",
       "      <td>-47.644909</td>\n",
       "    </tr>\n",
       "    <tr>\n",
       "      <th>delivery_lat</th>\n",
       "      <td>304708.0</td>\n",
       "      <td>-15.801438</td>\n",
       "      <td>4.697190e-02</td>\n",
       "      <td>-16.049937</td>\n",
       "      <td>-15.830103</td>\n",
       "      <td>-15.801087</td>\n",
       "      <td>-15.763016</td>\n",
       "      <td>-15.678647</td>\n",
       "    </tr>\n",
       "    <tr>\n",
       "      <th>distance</th>\n",
       "      <td>304708.0</td>\n",
       "      <td>5.958058</td>\n",
       "      <td>3.709417e+00</td>\n",
       "      <td>0.003391</td>\n",
       "      <td>3.527849</td>\n",
       "      <td>5.072903</td>\n",
       "      <td>7.832020</td>\n",
       "      <td>33.591049</td>\n",
       "    </tr>\n",
       "  </tbody>\n",
       "</table>\n",
       "</div>"
      ],
      "text/plain": [
       "                     count        mean           std         min         25%  \\\n",
       "hub_lng           304708.0  -47.893662  2.842176e-14  -47.893662  -47.893662   \n",
       "hub_lat           304708.0  -15.805118  5.329079e-15  -15.805118  -15.805118   \n",
       "vehicle_capacity  304708.0  180.000000  0.000000e+00  180.000000  180.000000   \n",
       "delivery_size     304708.0    5.518667  2.879353e+00    1.000000    3.000000   \n",
       "delivery_lng      304708.0  -47.893054  4.365066e-02  -48.020853  -47.922241   \n",
       "delivery_lat      304708.0  -15.801438  4.697190e-02  -16.049937  -15.830103   \n",
       "distance          304708.0    5.958058  3.709417e+00    0.003391    3.527849   \n",
       "\n",
       "                         50%         75%         max  \n",
       "hub_lng           -47.893662  -47.893662  -47.893662  \n",
       "hub_lat           -15.805118  -15.805118  -15.805118  \n",
       "vehicle_capacity  180.000000  180.000000  180.000000  \n",
       "delivery_size       6.000000    8.000000   10.000000  \n",
       "delivery_lng      -47.893755  -47.879636  -47.644909  \n",
       "delivery_lat      -15.801087  -15.763016  -15.678647  \n",
       "distance            5.072903    7.832020   33.591049  "
      ]
     },
     "execution_count": 54,
     "metadata": {},
     "output_type": "execute_result"
    }
   ],
   "source": [
    "deliveries_df.query('region == \"df-1\"').describe().T"
   ]
  },
  {
   "cell_type": "code",
   "execution_count": 55,
   "id": "7e3a2367",
   "metadata": {
    "execution": {
     "iopub.execute_input": "2024-02-18T21:08:29.629056Z",
     "iopub.status.busy": "2024-02-18T21:08:29.628661Z",
     "iopub.status.idle": "2024-02-18T21:08:29.815898Z",
     "shell.execute_reply": "2024-02-18T21:08:29.814585Z"
    },
    "id": "dQxXaGYzGHFA",
    "outputId": "b038e0ea-2862-419b-d5ac-dd9bacc44480",
    "papermill": {
     "duration": 0.236394,
     "end_time": "2024-02-18T21:08:29.818570",
     "exception": false,
     "start_time": "2024-02-18T21:08:29.582176",
     "status": "completed"
    },
    "tags": []
   },
   "outputs": [
    {
     "data": {
      "text/html": [
       "<div>\n",
       "<style scoped>\n",
       "    .dataframe tbody tr th:only-of-type {\n",
       "        vertical-align: middle;\n",
       "    }\n",
       "\n",
       "    .dataframe tbody tr th {\n",
       "        vertical-align: top;\n",
       "    }\n",
       "\n",
       "    .dataframe thead th {\n",
       "        text-align: right;\n",
       "    }\n",
       "</style>\n",
       "<table border=\"1\" class=\"dataframe\">\n",
       "  <thead>\n",
       "    <tr style=\"text-align: right;\">\n",
       "      <th></th>\n",
       "      <th>count</th>\n",
       "      <th>mean</th>\n",
       "      <th>std</th>\n",
       "      <th>min</th>\n",
       "      <th>25%</th>\n",
       "      <th>50%</th>\n",
       "      <th>75%</th>\n",
       "      <th>max</th>\n",
       "    </tr>\n",
       "  </thead>\n",
       "  <tbody>\n",
       "    <tr>\n",
       "      <th>hub_lng</th>\n",
       "      <td>261319.0</td>\n",
       "      <td>-48.054989</td>\n",
       "      <td>0.000000e+00</td>\n",
       "      <td>-48.054989</td>\n",
       "      <td>-48.054989</td>\n",
       "      <td>-48.054989</td>\n",
       "      <td>-48.054989</td>\n",
       "      <td>-48.054989</td>\n",
       "    </tr>\n",
       "    <tr>\n",
       "      <th>hub_lat</th>\n",
       "      <td>261319.0</td>\n",
       "      <td>-15.838145</td>\n",
       "      <td>8.881801e-15</td>\n",
       "      <td>-15.838145</td>\n",
       "      <td>-15.838145</td>\n",
       "      <td>-15.838145</td>\n",
       "      <td>-15.838145</td>\n",
       "      <td>-15.838145</td>\n",
       "    </tr>\n",
       "    <tr>\n",
       "      <th>vehicle_capacity</th>\n",
       "      <td>261319.0</td>\n",
       "      <td>180.000000</td>\n",
       "      <td>0.000000e+00</td>\n",
       "      <td>180.000000</td>\n",
       "      <td>180.000000</td>\n",
       "      <td>180.000000</td>\n",
       "      <td>180.000000</td>\n",
       "      <td>180.000000</td>\n",
       "    </tr>\n",
       "    <tr>\n",
       "      <th>delivery_size</th>\n",
       "      <td>261319.0</td>\n",
       "      <td>5.506718</td>\n",
       "      <td>2.872792e+00</td>\n",
       "      <td>1.000000</td>\n",
       "      <td>3.000000</td>\n",
       "      <td>6.000000</td>\n",
       "      <td>8.000000</td>\n",
       "      <td>10.000000</td>\n",
       "    </tr>\n",
       "    <tr>\n",
       "      <th>delivery_lng</th>\n",
       "      <td>261319.0</td>\n",
       "      <td>-48.056333</td>\n",
       "      <td>5.158799e-02</td>\n",
       "      <td>-48.280779</td>\n",
       "      <td>-48.090972</td>\n",
       "      <td>-48.055037</td>\n",
       "      <td>-48.017766</td>\n",
       "      <td>-47.899461</td>\n",
       "    </tr>\n",
       "    <tr>\n",
       "      <th>delivery_lat</th>\n",
       "      <td>261319.0</td>\n",
       "      <td>-15.857852</td>\n",
       "      <td>7.149371e-02</td>\n",
       "      <td>-16.050028</td>\n",
       "      <td>-15.876485</td>\n",
       "      <td>-15.837613</td>\n",
       "      <td>-15.817398</td>\n",
       "      <td>-15.500355</td>\n",
       "    </tr>\n",
       "    <tr>\n",
       "      <th>distance</th>\n",
       "      <td>261319.0</td>\n",
       "      <td>7.903493</td>\n",
       "      <td>6.001071e+00</td>\n",
       "      <td>0.006182</td>\n",
       "      <td>3.877160</td>\n",
       "      <td>6.442799</td>\n",
       "      <td>9.064595</td>\n",
       "      <td>39.686724</td>\n",
       "    </tr>\n",
       "  </tbody>\n",
       "</table>\n",
       "</div>"
      ],
      "text/plain": [
       "                     count        mean           std         min         25%  \\\n",
       "hub_lng           261319.0  -48.054989  0.000000e+00  -48.054989  -48.054989   \n",
       "hub_lat           261319.0  -15.838145  8.881801e-15  -15.838145  -15.838145   \n",
       "vehicle_capacity  261319.0  180.000000  0.000000e+00  180.000000  180.000000   \n",
       "delivery_size     261319.0    5.506718  2.872792e+00    1.000000    3.000000   \n",
       "delivery_lng      261319.0  -48.056333  5.158799e-02  -48.280779  -48.090972   \n",
       "delivery_lat      261319.0  -15.857852  7.149371e-02  -16.050028  -15.876485   \n",
       "distance          261319.0    7.903493  6.001071e+00    0.006182    3.877160   \n",
       "\n",
       "                         50%         75%         max  \n",
       "hub_lng           -48.054989  -48.054989  -48.054989  \n",
       "hub_lat           -15.838145  -15.838145  -15.838145  \n",
       "vehicle_capacity  180.000000  180.000000  180.000000  \n",
       "delivery_size       6.000000    8.000000   10.000000  \n",
       "delivery_lng      -48.055037  -48.017766  -47.899461  \n",
       "delivery_lat      -15.837613  -15.817398  -15.500355  \n",
       "distance            6.442799    9.064595   39.686724  "
      ]
     },
     "execution_count": 55,
     "metadata": {},
     "output_type": "execute_result"
    }
   ],
   "source": [
    "deliveries_df.query('region == \"df-2\"').describe().T"
   ]
  },
  {
   "cell_type": "markdown",
   "id": "a0f44b3b",
   "metadata": {
    "id": "KSgjP--1JS9R",
    "papermill": {
     "duration": 0.047717,
     "end_time": "2024-02-18T21:08:29.912371",
     "exception": false,
     "start_time": "2024-02-18T21:08:29.864654",
     "status": "completed"
    },
    "tags": []
   },
   "source": [
    "## 5\\. Visualização"
   ]
  },
  {
   "cell_type": "markdown",
   "id": "bb50ec2f",
   "metadata": {
    "id": "CUjcBDq8HVKI",
    "papermill": {
     "duration": 0.045352,
     "end_time": "2024-02-18T21:08:30.004297",
     "exception": false,
     "start_time": "2024-02-18T21:08:29.958945",
     "status": "completed"
    },
    "tags": []
   },
   "source": [
    "### **5.1. Mapa de entregas por região**"
   ]
  },
  {
   "cell_type": "markdown",
   "id": "f8bd37cb",
   "metadata": {
    "id": "CUFFRqRHHaiE",
    "papermill": {
     "duration": 0.045948,
     "end_time": "2024-02-18T21:08:30.096066",
     "exception": false,
     "start_time": "2024-02-18T21:08:30.050118",
     "status": "completed"
    },
    "tags": []
   },
   "source": [
    "Vamos utilizar o pacote Python GeopPandas ([link](https://geopandas.org/) da documentação) para visualizar as coordenadas dos **hubs** e das **entregas** no mapa do Distrito Federal, segmentados pela região dos **hubs**. O pacote adiciona funcionalidades geoespaciais ao pacote Python Pandas."
   ]
  },
  {
   "cell_type": "code",
   "execution_count": 56,
   "id": "f6912402",
   "metadata": {
    "execution": {
     "iopub.execute_input": "2024-02-18T21:08:30.190019Z",
     "iopub.status.busy": "2024-02-18T21:08:30.189611Z",
     "iopub.status.idle": "2024-02-18T21:08:44.445280Z",
     "shell.execute_reply": "2024-02-18T21:08:44.444030Z"
    },
    "id": "4KEGEkNsRFTB",
    "outputId": "381d8ae5-725d-4d3f-ae8f-0a0dbb6ed847",
    "papermill": {
     "duration": 14.30613,
     "end_time": "2024-02-18T21:08:44.448579",
     "exception": false,
     "start_time": "2024-02-18T21:08:30.142449",
     "status": "completed"
    },
    "tags": []
   },
   "outputs": [
    {
     "name": "stdout",
     "output_type": "stream",
     "text": [
      "Requirement already satisfied: geopandas in /opt/conda/lib/python3.10/site-packages (0.13.2)\r\n",
      "Requirement already satisfied: fiona>=1.8.19 in /opt/conda/lib/python3.10/site-packages (from geopandas) (1.9.4.post1)\r\n",
      "Requirement already satisfied: packaging in /opt/conda/lib/python3.10/site-packages (from geopandas) (21.3)\r\n",
      "Requirement already satisfied: pandas>=1.1.0 in /opt/conda/lib/python3.10/site-packages (from geopandas) (2.0.3)\r\n",
      "Requirement already satisfied: pyproj>=3.0.1 in /opt/conda/lib/python3.10/site-packages (from geopandas) (3.6.0)\r\n",
      "Requirement already satisfied: shapely>=1.7.1 in /opt/conda/lib/python3.10/site-packages (from geopandas) (1.8.5.post1)\r\n",
      "Requirement already satisfied: attrs>=19.2.0 in /opt/conda/lib/python3.10/site-packages (from fiona>=1.8.19->geopandas) (23.1.0)\r\n",
      "Requirement already satisfied: certifi in /opt/conda/lib/python3.10/site-packages (from fiona>=1.8.19->geopandas) (2023.7.22)\r\n",
      "Requirement already satisfied: click~=8.0 in /opt/conda/lib/python3.10/site-packages (from fiona>=1.8.19->geopandas) (8.1.7)\r\n",
      "Requirement already satisfied: click-plugins>=1.0 in /opt/conda/lib/python3.10/site-packages (from fiona>=1.8.19->geopandas) (1.1.1)\r\n",
      "Requirement already satisfied: cligj>=0.5 in /opt/conda/lib/python3.10/site-packages (from fiona>=1.8.19->geopandas) (0.7.2)\r\n",
      "Requirement already satisfied: six in /opt/conda/lib/python3.10/site-packages (from fiona>=1.8.19->geopandas) (1.16.0)\r\n",
      "Requirement already satisfied: python-dateutil>=2.8.2 in /opt/conda/lib/python3.10/site-packages (from pandas>=1.1.0->geopandas) (2.8.2)\r\n",
      "Requirement already satisfied: pytz>=2020.1 in /opt/conda/lib/python3.10/site-packages (from pandas>=1.1.0->geopandas) (2023.3)\r\n",
      "Requirement already satisfied: tzdata>=2022.1 in /opt/conda/lib/python3.10/site-packages (from pandas>=1.1.0->geopandas) (2023.3)\r\n",
      "Requirement already satisfied: numpy>=1.21.0 in /opt/conda/lib/python3.10/site-packages (from pandas>=1.1.0->geopandas) (1.23.5)\r\n",
      "Requirement already satisfied: pyparsing!=3.0.5,>=2.0.2 in /opt/conda/lib/python3.10/site-packages (from packaging->geopandas) (3.0.9)\r\n"
     ]
    }
   ],
   "source": [
    "!pip3 install geopandas;"
   ]
  },
  {
   "cell_type": "code",
   "execution_count": 57,
   "id": "83871899",
   "metadata": {
    "execution": {
     "iopub.execute_input": "2024-02-18T21:08:44.547806Z",
     "iopub.status.busy": "2024-02-18T21:08:44.547339Z",
     "iopub.status.idle": "2024-02-18T21:08:44.553186Z",
     "shell.execute_reply": "2024-02-18T21:08:44.551710Z"
    },
    "id": "BDkZFzpVRNzK",
    "papermill": {
     "duration": 0.056549,
     "end_time": "2024-02-18T21:08:44.555638",
     "exception": false,
     "start_time": "2024-02-18T21:08:44.499089",
     "status": "completed"
    },
    "tags": []
   },
   "outputs": [],
   "source": [
    "import geopandas"
   ]
  },
  {
   "cell_type": "markdown",
   "id": "d248afd6",
   "metadata": {
    "id": "3sZ8MQ26HgyB",
    "papermill": {
     "duration": 0.045694,
     "end_time": "2024-02-18T21:08:44.647753",
     "exception": false,
     "start_time": "2024-02-18T21:08:44.602059",
     "status": "completed"
    },
    "tags": []
   },
   "source": [
    " - **Mapa do Distrito Federal**"
   ]
  },
  {
   "cell_type": "markdown",
   "id": "8b2e2467",
   "metadata": {
    "id": "An97e2uKHl4O",
    "papermill": {
     "duration": 0.046888,
     "end_time": "2024-02-18T21:08:44.740703",
     "exception": false,
     "start_time": "2024-02-18T21:08:44.693815",
     "status": "completed"
    },
    "tags": []
   },
   "source": [
    "Vamos fazer o download dos dados do mapa do Distrito Federal do site oficial do IBGE através do seguinte [link](https://www.ibge.gov.br/geociencias/cartas-e-mapas/bases-cartograficas-continuas) para criar o DataFrame `mapa`. Note a coluna `geometry`."
   ]
  },
  {
   "cell_type": "code",
   "execution_count": 58,
   "id": "8a7ea6ad",
   "metadata": {
    "execution": {
     "iopub.execute_input": "2024-02-18T21:08:44.837576Z",
     "iopub.status.busy": "2024-02-18T21:08:44.837177Z",
     "iopub.status.idle": "2024-02-18T21:55:32.553412Z",
     "shell.execute_reply": "2024-02-18T21:55:32.551697Z"
    },
    "id": "ro8J0GcwHwf_",
    "papermill": {
     "duration": 2807.769561,
     "end_time": "2024-02-18T21:55:32.556627",
     "exception": false,
     "start_time": "2024-02-18T21:08:44.787066",
     "status": "completed"
    },
    "tags": []
   },
   "outputs": [
    {
     "name": "stdout",
     "output_type": "stream",
     "text": [
      "[distrito-federal.zip]\r\n",
      "  End-of-central-directory signature not found.  Either this file is not\r\n",
      "  a zipfile, or it constitutes one disk of a multi-part archive.  In the\r\n",
      "  latter case the central directory and zipfile comment will be found on\r\n",
      "  the last disk(s) of this archive.\r\n",
      "unzip:  cannot find zipfile directory in one of distrito-federal.zip or\r\n",
      "        distrito-federal.zip.zip, and cannot find distrito-federal.zip.ZIP, period.\r\n",
      "cp: cannot stat './maps/LIM_Unidade_Federacao_A.shp': No such file or directory\r\n",
      "cp: cannot stat './maps/LIM_Unidade_Federacao_A.shx': No such file or directory\r\n"
     ]
    }
   ],
   "source": [
    "!wget -q \"ftp://geoftp.ibge.gov.br/cartas_e_mapas/bases_cartograficas_continuas/bc100/go_df/versao2016/shapefile/bc100_go_df_shp.zip\" -O distrito-federal.zip\n",
    "!unzip -q distrito-federal.zip -d ./maps\n",
    "!cp ./maps/LIM_Unidade_Federacao_A.shp ./distrito-federal.shp\n",
    "!cp ./maps/LIM_Unidade_Federacao_A.shx ./distrito-federal.shx\n"
   ]
  },
  {
   "cell_type": "code",
   "execution_count": 59,
   "id": "f3a94d64",
   "metadata": {
    "execution": {
     "iopub.execute_input": "2024-02-18T21:55:32.655469Z",
     "iopub.status.busy": "2024-02-18T21:55:32.654253Z",
     "iopub.status.idle": "2024-02-18T21:55:34.436865Z",
     "shell.execute_reply": "2024-02-18T21:55:34.434418Z"
    },
    "id": "GRrXUhClL2M8",
    "outputId": "e10c8b4a-d9ba-454e-8b32-dc26e9ea487c",
    "papermill": {
     "duration": 1.833923,
     "end_time": "2024-02-18T21:55:34.439120",
     "exception": true,
     "start_time": "2024-02-18T21:55:32.605197",
     "status": "failed"
    },
    "tags": []
   },
   "outputs": [
    {
     "ename": "DriverError",
     "evalue": "distrito-federal.shp: No such file or directory",
     "output_type": "error",
     "traceback": [
      "\u001b[0;31m---------------------------------------------------------------------------\u001b[0m",
      "\u001b[0;31mCPLE_OpenFailedError\u001b[0m                      Traceback (most recent call last)",
      "File \u001b[0;32mfiona/ogrext.pyx:136\u001b[0m, in \u001b[0;36mfiona.ogrext.gdal_open_vector\u001b[0;34m()\u001b[0m\n",
      "File \u001b[0;32mfiona/_err.pyx:291\u001b[0m, in \u001b[0;36mfiona._err.exc_wrap_pointer\u001b[0;34m()\u001b[0m\n",
      "\u001b[0;31mCPLE_OpenFailedError\u001b[0m: distrito-federal.shp: No such file or directory",
      "\nDuring handling of the above exception, another exception occurred:\n",
      "\u001b[0;31mDriverError\u001b[0m                               Traceback (most recent call last)",
      "Cell \u001b[0;32mIn[59], line 3\u001b[0m\n\u001b[1;32m      1\u001b[0m \u001b[38;5;66;03m# Visualização com Mapa\u001b[39;00m\n\u001b[0;32m----> 3\u001b[0m mapa \u001b[38;5;241m=\u001b[39m \u001b[43mgeopandas\u001b[49m\u001b[38;5;241;43m.\u001b[39;49m\u001b[43mread_file\u001b[49m\u001b[43m(\u001b[49m\u001b[38;5;124;43m\"\u001b[39;49m\u001b[38;5;124;43mdistrito-federal.shp\u001b[39;49m\u001b[38;5;124;43m\"\u001b[39;49m\u001b[43m)\u001b[49m\n\u001b[1;32m      4\u001b[0m mapa \u001b[38;5;241m=\u001b[39m mapa\u001b[38;5;241m.\u001b[39mloc[[\u001b[38;5;241m0\u001b[39m]]\n\u001b[1;32m      5\u001b[0m mapa\u001b[38;5;241m.\u001b[39mhead()\n",
      "File \u001b[0;32m/opt/conda/lib/python3.10/site-packages/geopandas/io/file.py:281\u001b[0m, in \u001b[0;36m_read_file\u001b[0;34m(filename, bbox, mask, rows, engine, **kwargs)\u001b[0m\n\u001b[1;32m    278\u001b[0m     \u001b[38;5;28;01melse\u001b[39;00m:\n\u001b[1;32m    279\u001b[0m         path_or_bytes \u001b[38;5;241m=\u001b[39m filename\n\u001b[0;32m--> 281\u001b[0m     \u001b[38;5;28;01mreturn\u001b[39;00m \u001b[43m_read_file_fiona\u001b[49m\u001b[43m(\u001b[49m\n\u001b[1;32m    282\u001b[0m \u001b[43m        \u001b[49m\u001b[43mpath_or_bytes\u001b[49m\u001b[43m,\u001b[49m\u001b[43m \u001b[49m\u001b[43mfrom_bytes\u001b[49m\u001b[43m,\u001b[49m\u001b[43m \u001b[49m\u001b[43mbbox\u001b[49m\u001b[38;5;241;43m=\u001b[39;49m\u001b[43mbbox\u001b[49m\u001b[43m,\u001b[49m\u001b[43m \u001b[49m\u001b[43mmask\u001b[49m\u001b[38;5;241;43m=\u001b[39;49m\u001b[43mmask\u001b[49m\u001b[43m,\u001b[49m\u001b[43m \u001b[49m\u001b[43mrows\u001b[49m\u001b[38;5;241;43m=\u001b[39;49m\u001b[43mrows\u001b[49m\u001b[43m,\u001b[49m\u001b[43m \u001b[49m\u001b[38;5;241;43m*\u001b[39;49m\u001b[38;5;241;43m*\u001b[39;49m\u001b[43mkwargs\u001b[49m\n\u001b[1;32m    283\u001b[0m \u001b[43m    \u001b[49m\u001b[43m)\u001b[49m\n\u001b[1;32m    285\u001b[0m \u001b[38;5;28;01melse\u001b[39;00m:\n\u001b[1;32m    286\u001b[0m     \u001b[38;5;28;01mraise\u001b[39;00m \u001b[38;5;167;01mValueError\u001b[39;00m(\u001b[38;5;124mf\u001b[39m\u001b[38;5;124m\"\u001b[39m\u001b[38;5;124munknown engine \u001b[39m\u001b[38;5;124m'\u001b[39m\u001b[38;5;132;01m{\u001b[39;00mengine\u001b[38;5;132;01m}\u001b[39;00m\u001b[38;5;124m'\u001b[39m\u001b[38;5;124m\"\u001b[39m)\n",
      "File \u001b[0;32m/opt/conda/lib/python3.10/site-packages/geopandas/io/file.py:322\u001b[0m, in \u001b[0;36m_read_file_fiona\u001b[0;34m(path_or_bytes, from_bytes, bbox, mask, rows, where, **kwargs)\u001b[0m\n\u001b[1;32m    319\u001b[0m     reader \u001b[38;5;241m=\u001b[39m fiona\u001b[38;5;241m.\u001b[39mopen\n\u001b[1;32m    321\u001b[0m \u001b[38;5;28;01mwith\u001b[39;00m fiona_env():\n\u001b[0;32m--> 322\u001b[0m     \u001b[38;5;28;01mwith\u001b[39;00m \u001b[43mreader\u001b[49m\u001b[43m(\u001b[49m\u001b[43mpath_or_bytes\u001b[49m\u001b[43m,\u001b[49m\u001b[43m \u001b[49m\u001b[38;5;241;43m*\u001b[39;49m\u001b[38;5;241;43m*\u001b[39;49m\u001b[43mkwargs\u001b[49m\u001b[43m)\u001b[49m \u001b[38;5;28;01mas\u001b[39;00m features:\n\u001b[1;32m    323\u001b[0m         crs \u001b[38;5;241m=\u001b[39m features\u001b[38;5;241m.\u001b[39mcrs_wkt\n\u001b[1;32m    324\u001b[0m         \u001b[38;5;66;03m# attempt to get EPSG code\u001b[39;00m\n",
      "File \u001b[0;32m/opt/conda/lib/python3.10/site-packages/fiona/env.py:457\u001b[0m, in \u001b[0;36mensure_env_with_credentials.<locals>.wrapper\u001b[0;34m(*args, **kwds)\u001b[0m\n\u001b[1;32m    454\u001b[0m     session \u001b[38;5;241m=\u001b[39m DummySession()\n\u001b[1;32m    456\u001b[0m \u001b[38;5;28;01mwith\u001b[39;00m env_ctor(session\u001b[38;5;241m=\u001b[39msession):\n\u001b[0;32m--> 457\u001b[0m     \u001b[38;5;28;01mreturn\u001b[39;00m \u001b[43mf\u001b[49m\u001b[43m(\u001b[49m\u001b[38;5;241;43m*\u001b[39;49m\u001b[43margs\u001b[49m\u001b[43m,\u001b[49m\u001b[43m \u001b[49m\u001b[38;5;241;43m*\u001b[39;49m\u001b[38;5;241;43m*\u001b[39;49m\u001b[43mkwds\u001b[49m\u001b[43m)\u001b[49m\n",
      "File \u001b[0;32m/opt/conda/lib/python3.10/site-packages/fiona/__init__.py:292\u001b[0m, in \u001b[0;36mopen\u001b[0;34m(fp, mode, driver, schema, crs, encoding, layer, vfs, enabled_drivers, crs_wkt, allow_unsupported_drivers, **kwargs)\u001b[0m\n\u001b[1;32m    289\u001b[0m     path \u001b[38;5;241m=\u001b[39m parse_path(fp)\n\u001b[1;32m    291\u001b[0m \u001b[38;5;28;01mif\u001b[39;00m mode \u001b[38;5;129;01min\u001b[39;00m (\u001b[38;5;124m\"\u001b[39m\u001b[38;5;124ma\u001b[39m\u001b[38;5;124m\"\u001b[39m, \u001b[38;5;124m\"\u001b[39m\u001b[38;5;124mr\u001b[39m\u001b[38;5;124m\"\u001b[39m):\n\u001b[0;32m--> 292\u001b[0m     colxn \u001b[38;5;241m=\u001b[39m \u001b[43mCollection\u001b[49m\u001b[43m(\u001b[49m\n\u001b[1;32m    293\u001b[0m \u001b[43m        \u001b[49m\u001b[43mpath\u001b[49m\u001b[43m,\u001b[49m\n\u001b[1;32m    294\u001b[0m \u001b[43m        \u001b[49m\u001b[43mmode\u001b[49m\u001b[43m,\u001b[49m\n\u001b[1;32m    295\u001b[0m \u001b[43m        \u001b[49m\u001b[43mdriver\u001b[49m\u001b[38;5;241;43m=\u001b[39;49m\u001b[43mdriver\u001b[49m\u001b[43m,\u001b[49m\n\u001b[1;32m    296\u001b[0m \u001b[43m        \u001b[49m\u001b[43mencoding\u001b[49m\u001b[38;5;241;43m=\u001b[39;49m\u001b[43mencoding\u001b[49m\u001b[43m,\u001b[49m\n\u001b[1;32m    297\u001b[0m \u001b[43m        \u001b[49m\u001b[43mlayer\u001b[49m\u001b[38;5;241;43m=\u001b[39;49m\u001b[43mlayer\u001b[49m\u001b[43m,\u001b[49m\n\u001b[1;32m    298\u001b[0m \u001b[43m        \u001b[49m\u001b[43menabled_drivers\u001b[49m\u001b[38;5;241;43m=\u001b[39;49m\u001b[43menabled_drivers\u001b[49m\u001b[43m,\u001b[49m\n\u001b[1;32m    299\u001b[0m \u001b[43m        \u001b[49m\u001b[43mallow_unsupported_drivers\u001b[49m\u001b[38;5;241;43m=\u001b[39;49m\u001b[43mallow_unsupported_drivers\u001b[49m\u001b[43m,\u001b[49m\n\u001b[1;32m    300\u001b[0m \u001b[43m        \u001b[49m\u001b[38;5;241;43m*\u001b[39;49m\u001b[38;5;241;43m*\u001b[39;49m\u001b[43mkwargs\u001b[49m\n\u001b[1;32m    301\u001b[0m \u001b[43m    \u001b[49m\u001b[43m)\u001b[49m\n\u001b[1;32m    302\u001b[0m \u001b[38;5;28;01melif\u001b[39;00m mode \u001b[38;5;241m==\u001b[39m \u001b[38;5;124m\"\u001b[39m\u001b[38;5;124mw\u001b[39m\u001b[38;5;124m\"\u001b[39m:\n\u001b[1;32m    303\u001b[0m     colxn \u001b[38;5;241m=\u001b[39m Collection(\n\u001b[1;32m    304\u001b[0m         path,\n\u001b[1;32m    305\u001b[0m         mode,\n\u001b[0;32m   (...)\u001b[0m\n\u001b[1;32m    314\u001b[0m         \u001b[38;5;241m*\u001b[39m\u001b[38;5;241m*\u001b[39mkwargs\n\u001b[1;32m    315\u001b[0m     )\n",
      "File \u001b[0;32m/opt/conda/lib/python3.10/site-packages/fiona/collection.py:243\u001b[0m, in \u001b[0;36mCollection.__init__\u001b[0;34m(self, path, mode, driver, schema, crs, encoding, layer, vsi, archive, enabled_drivers, crs_wkt, ignore_fields, ignore_geometry, include_fields, wkt_version, allow_unsupported_drivers, **kwargs)\u001b[0m\n\u001b[1;32m    241\u001b[0m \u001b[38;5;28;01mif\u001b[39;00m \u001b[38;5;28mself\u001b[39m\u001b[38;5;241m.\u001b[39mmode \u001b[38;5;241m==\u001b[39m \u001b[38;5;124m\"\u001b[39m\u001b[38;5;124mr\u001b[39m\u001b[38;5;124m\"\u001b[39m:\n\u001b[1;32m    242\u001b[0m     \u001b[38;5;28mself\u001b[39m\u001b[38;5;241m.\u001b[39msession \u001b[38;5;241m=\u001b[39m Session()\n\u001b[0;32m--> 243\u001b[0m     \u001b[38;5;28;43mself\u001b[39;49m\u001b[38;5;241;43m.\u001b[39;49m\u001b[43msession\u001b[49m\u001b[38;5;241;43m.\u001b[39;49m\u001b[43mstart\u001b[49m\u001b[43m(\u001b[49m\u001b[38;5;28;43mself\u001b[39;49m\u001b[43m,\u001b[49m\u001b[43m \u001b[49m\u001b[38;5;241;43m*\u001b[39;49m\u001b[38;5;241;43m*\u001b[39;49m\u001b[43mkwargs\u001b[49m\u001b[43m)\u001b[49m\n\u001b[1;32m    244\u001b[0m \u001b[38;5;28;01melif\u001b[39;00m \u001b[38;5;28mself\u001b[39m\u001b[38;5;241m.\u001b[39mmode \u001b[38;5;129;01min\u001b[39;00m (\u001b[38;5;124m\"\u001b[39m\u001b[38;5;124ma\u001b[39m\u001b[38;5;124m\"\u001b[39m, \u001b[38;5;124m\"\u001b[39m\u001b[38;5;124mw\u001b[39m\u001b[38;5;124m\"\u001b[39m):\n\u001b[1;32m    245\u001b[0m     \u001b[38;5;28mself\u001b[39m\u001b[38;5;241m.\u001b[39msession \u001b[38;5;241m=\u001b[39m WritingSession()\n",
      "File \u001b[0;32mfiona/ogrext.pyx:588\u001b[0m, in \u001b[0;36mfiona.ogrext.Session.start\u001b[0;34m()\u001b[0m\n",
      "File \u001b[0;32mfiona/ogrext.pyx:143\u001b[0m, in \u001b[0;36mfiona.ogrext.gdal_open_vector\u001b[0;34m()\u001b[0m\n",
      "\u001b[0;31mDriverError\u001b[0m: distrito-federal.shp: No such file or directory"
     ]
    }
   ],
   "source": [
    "# Visualização com Mapa\n",
    "\n",
    "mapa = geopandas.read_file(\"distrito-federal.shp\")\n",
    "mapa = mapa.loc[[0]]\n",
    "mapa.head()"
   ]
  },
  {
   "cell_type": "markdown",
   "id": "20859248",
   "metadata": {
    "id": "XFbppNBpMdc2",
    "papermill": {
     "duration": null,
     "end_time": null,
     "exception": null,
     "start_time": null,
     "status": "pending"
    },
    "tags": []
   },
   "source": [
    " - **Mapa dos Hubs**"
   ]
  },
  {
   "cell_type": "markdown",
   "id": "5588b074",
   "metadata": {
    "id": "MpLxItf0Mgi5",
    "papermill": {
     "duration": null,
     "end_time": null,
     "exception": null,
     "start_time": null,
     "status": "pending"
    },
    "tags": []
   },
   "source": [
    "Vamos criar o DataFrame `geo_hub_df` através do DataFrame `deliveries_df`. Note a nova coluna `geometry`."
   ]
  },
  {
   "cell_type": "code",
   "execution_count": null,
   "id": "aca61011",
   "metadata": {
    "id": "vrXcZI2yMbJK",
    "outputId": "0402e11b-cb34-4c62-ac4a-2abd1a2e2e78",
    "papermill": {
     "duration": null,
     "end_time": null,
     "exception": null,
     "start_time": null,
     "status": "pending"
    },
    "tags": []
   },
   "outputs": [],
   "source": [
    "hub_df = deliveries_df[[\"region\", \"hub_lng\", \"hub_lat\"]].drop_duplicates().reset_index(drop=True)\n",
    "geo_hub_df = geopandas.GeoDataFrame(hub_df, geometry=geopandas.points_from_xy(hub_df[\"hub_lng\"], hub_df[\"hub_lat\"]))\n",
    "geo_hub_df.head()"
   ]
  },
  {
   "cell_type": "markdown",
   "id": "87442b00",
   "metadata": {
    "id": "gN3unB-OYoZi",
    "papermill": {
     "duration": null,
     "end_time": null,
     "exception": null,
     "start_time": null,
     "status": "pending"
    },
    "tags": []
   },
   "source": [
    " - **Mapa das Entregas**"
   ]
  },
  {
   "cell_type": "markdown",
   "id": "7e3c157a",
   "metadata": {
    "id": "pirDrJg3Yy7B",
    "papermill": {
     "duration": null,
     "end_time": null,
     "exception": null,
     "start_time": null,
     "status": "pending"
    },
    "tags": []
   },
   "source": [
    "Vamos criar o DataFrame `geo_deliveries_df` através do DataFrame `deliveries_df`. Note a nova coluna `geometry`."
   ]
  },
  {
   "cell_type": "code",
   "execution_count": null,
   "id": "de13579f",
   "metadata": {
    "id": "gQhRsozcYvQm",
    "outputId": "98d2a286-31a7-4db5-efe9-30d0449380e2",
    "papermill": {
     "duration": null,
     "end_time": null,
     "exception": null,
     "start_time": null,
     "status": "pending"
    },
    "tags": []
   },
   "outputs": [],
   "source": [
    "geo_deliveries_df = geopandas.GeoDataFrame(deliveries_df, geometry=geopandas.points_from_xy(deliveries_df[\"delivery_lng\"], deliveries_df[\"delivery_lat\"]))\n",
    "geo_deliveries_df.head()"
   ]
  },
  {
   "cell_type": "markdown",
   "id": "74f80960",
   "metadata": {
    "id": "qK3CFcBDZA_E",
    "papermill": {
     "duration": null,
     "end_time": null,
     "exception": null,
     "start_time": null,
     "status": "pending"
    },
    "tags": []
   },
   "source": [
    " - **Visualização**"
   ]
  },
  {
   "cell_type": "code",
   "execution_count": null,
   "id": "528b4131",
   "metadata": {
    "id": "NQim6TgiZELq",
    "outputId": "20fa55ed-f072-403c-f8a2-7ee4392912e4",
    "papermill": {
     "duration": null,
     "end_time": null,
     "exception": null,
     "start_time": null,
     "status": "pending"
    },
    "tags": []
   },
   "outputs": [],
   "source": [
    "# cria o plot vazio\n",
    "fig, ax = plt.subplots(figsize = (50/2.54, 50/2.54))\n",
    "\n",
    "# plot mapa do distrito federal\n",
    "mapa.plot(ax=ax, alpha=0.4, color=\"#EEEEEE\")\n",
    "\n",
    "# plot das entregas\n",
    "geo_deliveries_df.query(\"region == 'df-0'\").plot(ax=ax, markersize=1, color=\"#001253\", label=\"df-0\")\n",
    "geo_deliveries_df.query(\"region == 'df-1'\").plot(ax=ax, markersize=1, color=\"#FF6464\", label=\"df-1\")\n",
    "geo_deliveries_df.query(\"region == 'df-2'\").plot(ax=ax, markersize=1, color=\"#91C483\", label=\"df-2\")\n",
    "\n",
    "# plot dos hubs\n",
    "geo_hub_df.plot(ax=ax, markersize=30, marker=\"x\", color=\"black\", label=\"hub\")\n",
    "\n",
    "# plot da legenda\n",
    "plt.title(\"Fig 1: Entregas no Distrito Federal por Região\", fontdict={\"fontsize\": 16})\n",
    "lgnd = plt.legend(prop={\"size\": 15})\n",
    "for handle in lgnd.legendHandles:\n",
    "    handle.set_sizes([50])"
   ]
  },
  {
   "cell_type": "markdown",
   "id": "3ba91aa4",
   "metadata": {
    "id": "57OPRKtKSP1D",
    "papermill": {
     "duration": null,
     "end_time": null,
     "exception": null,
     "start_time": null,
     "status": "pending"
    },
    "tags": []
   },
   "source": [
    " - **Insights**:"
   ]
  },
  {
   "cell_type": "markdown",
   "id": "d9e57118",
   "metadata": {
    "id": "tTy0Hm_ySQSq",
    "papermill": {
     "duration": null,
     "end_time": null,
     "exception": null,
     "start_time": null,
     "status": "pending"
    },
    "tags": []
   },
   "source": [
    "1. A distância média percorrida para a realização de uma entrega considerando os três hubs é de 7.1 km, e a distância mediana é de 5.53km.\n",
    "  * A distância média percorrida em entregas que partem do **df-0** é de 9km e a distância mediana de 5.94km. A distância máxima percorrida é de 67.92km.\n",
    "  * A distância média percorrida em entregas que partem do **df-1** é de 5.95km e a distância mediana de 5.07km. A distância máxima percorrida é de 33.59km.\n",
    "  * A distância média percorrida em entregas que partem do **df-2** é de 7.90km e a distância mediana de 6.44km. A distância máxima percorrida é de 39.68km.\n",
    "\n",
    "2. As entregas realizadas no hub **df-1** encontram-se mais concentradas e apresentam a menor distância máxima, enquanto as entregas realizadas no hub **df-0** mostram através da diferença entre a média e a mediana que, apesar de grande parte das entregas estarem localizadas a uma distância de 15km (75% dos dados), esse hub é o que apresenta as maiores distâncias na entrega.\n",
    "\n",
    "3. Os hubs **df-0** e **df-2** entregam pacotes mais afastados de suas hubs do que df-1, o que pode ocasionar maior tempo e custo de entrega.\n",
    "\n",
    "4. As hubs estão localizadas perto de onde há mais entregas.\n",
    "\n",
    "5. As entregas de **df-0** são as mais descentralizadas por fazer parte de uma Zona Rural da cidade de Brasília , enquanto, em df-1, são mais centralizadas."
   ]
  },
  {
   "cell_type": "markdown",
   "id": "ecd174ae",
   "metadata": {
    "id": "DHgwO6oeSbNq",
    "papermill": {
     "duration": null,
     "end_time": null,
     "exception": null,
     "start_time": null,
     "status": "pending"
    },
    "tags": []
   },
   "source": [
    "### **5.2. Gráfico de entregas por região**"
   ]
  },
  {
   "cell_type": "markdown",
   "id": "57272510",
   "metadata": {
    "id": "7OqrikKgSdYo",
    "papermill": {
     "duration": null,
     "end_time": null,
     "exception": null,
     "start_time": null,
     "status": "pending"
    },
    "tags": []
   },
   "source": [
    " - **Agregação**:"
   ]
  },
  {
   "cell_type": "code",
   "execution_count": null,
   "id": "987389c0",
   "metadata": {
    "id": "O324srkmSg19",
    "outputId": "8120d2f9-1391-4bb9-a9ff-966c0d4229ef",
    "papermill": {
     "duration": null,
     "end_time": null,
     "exception": null,
     "start_time": null,
     "status": "pending"
    },
    "tags": []
   },
   "outputs": [],
   "source": [
    "# Normalize retorna os valores relativos (proporcionais)\n",
    "data = pd.DataFrame(deliveries_df[['region', 'vehicle_capacity']].value_counts(normalize=True)).reset_index()\n",
    "data.rename(columns={0: \"region_percent\"}, inplace=True)\n",
    "data.head()"
   ]
  },
  {
   "cell_type": "markdown",
   "id": "08a9972a",
   "metadata": {
    "id": "2saB8ZVcStcr",
    "papermill": {
     "duration": null,
     "end_time": null,
     "exception": null,
     "start_time": null,
     "status": "pending"
    },
    "tags": []
   },
   "source": [
    " - **Visualização**:"
   ]
  },
  {
   "cell_type": "code",
   "execution_count": null,
   "id": "e82fe592",
   "metadata": {
    "id": "XM2RZSX8SuU8",
    "outputId": "27f5988a-463f-43ec-bf8e-ad4fdf4fb20b",
    "papermill": {
     "duration": null,
     "end_time": null,
     "exception": null,
     "start_time": null,
     "status": "pending"
    },
    "tags": []
   },
   "outputs": [],
   "source": [
    "import seaborn as sns\n",
    "\n",
    "with sns.axes_style('whitegrid'):\n",
    "  grafico = sns.barplot(data=data, x=\"region\", y=\"region_percent\", ci=None, palette=\"pastel\")\n",
    "  grafico.set(title='Fig 2: Proporção de entregas por região', xlabel='Região', ylabel='Proporção');"
   ]
  },
  {
   "cell_type": "code",
   "execution_count": null,
   "id": "f2457a32",
   "metadata": {
    "id": "Fr2BX5VHSzdI",
    "papermill": {
     "duration": null,
     "end_time": null,
     "exception": null,
     "start_time": null,
     "status": "pending"
    },
    "tags": []
   },
   "outputs": [],
   "source": [
    "df_grouped_city = deliveries_df.groupby(['delivery_city', 'region'])['name'].count().to_frame().reset_index().rename(columns={'name': 'n_deliveries'})\n",
    "# df_grouped_city = deliveries_df.groupby(['delivery_city'])['distance'].mean().to_frame().reset_index()"
   ]
  },
  {
   "cell_type": "code",
   "execution_count": null,
   "id": "024da28b",
   "metadata": {
    "id": "zdlX6uUyS0jg",
    "outputId": "d70db540-9912-4718-d5af-362e996c943e",
    "papermill": {
     "duration": null,
     "end_time": null,
     "exception": null,
     "start_time": null,
     "status": "pending"
    },
    "tags": []
   },
   "outputs": [],
   "source": [
    "df_grouped_city.head()"
   ]
  },
  {
   "cell_type": "code",
   "execution_count": null,
   "id": "782b632f",
   "metadata": {
    "id": "CJzI9jt3S4cQ",
    "outputId": "ccab5b5e-b7a6-4c0d-d620-5f3b7f98440b",
    "papermill": {
     "duration": null,
     "end_time": null,
     "exception": null,
     "start_time": null,
     "status": "pending"
    },
    "tags": []
   },
   "outputs": [],
   "source": [
    "with sns.axes_style('whitegrid'):\n",
    "  g = sns.barplot(data=df_grouped_city,\n",
    "                  x='n_deliveries',\n",
    "                  y='delivery_city',\n",
    "                  hue='region',\n",
    "                  capsize=.15,\n",
    "                  errwidth=0.2)\n",
    "  g.set_title(\"Fig. 3: Número de entregas realizada por região administrativa\", fontsize=14, fontweight=\"bold\");\n",
    "  g.set(xlabel=\"Número de entregas\", ylabel=\"Average ride length\")\n",
    "  g.figure.set_size_inches(21,13)\n",
    "  plt.legend(title=\"Região administrativa\", loc = 2, bbox_to_anchor = (1,1))\n"
   ]
  },
  {
   "cell_type": "markdown",
   "id": "ee0404d6",
   "metadata": {
    "id": "65BdN6PFTBcf",
    "papermill": {
     "duration": null,
     "end_time": null,
     "exception": null,
     "start_time": null,
     "status": "pending"
    },
    "tags": []
   },
   "source": [
    " - **Insights**:"
   ]
  },
  {
   "cell_type": "markdown",
   "id": "524264a9",
   "metadata": {
    "id": "V7ciS2fwTHd0",
    "papermill": {
     "duration": null,
     "end_time": null,
     "exception": null,
     "start_time": null,
     "status": "pending"
    },
    "tags": []
   },
   "source": [
    "1. Como foi observado através do mapa de entregas em conjunto com o sumário de dados estatísticos, o hub df-0 possui rotas com maior distância e o df-1 possui a maior quantidade de entregas na região, enquanto df-0 a menor.\n",
    "\n",
    "2. Há uma disparidade muito grande na proporção de entregas entre df-0 e as demais regiões.\n",
    "\n",
    "3. Dessa forma, a abrangência de cada hub referente às áreas de entrega que eles realizam poderia ser reavaliada, distribuindo algumas das entregas realizadas pelo df-1 para o df-2 e do df-0 para o df-1, por exemplo."
   ]
  }
 ],
 "metadata": {
  "colab": {
   "provenance": []
  },
  "kaggle": {
   "accelerator": "none",
   "dataSources": [],
   "isGpuEnabled": false,
   "isInternetEnabled": true,
   "language": "python",
   "sourceType": "notebook"
  },
  "kernelspec": {
   "display_name": "Python 3",
   "name": "python3"
  },
  "language_info": {
   "codemirror_mode": {
    "name": "ipython",
    "version": 3
   },
   "file_extension": ".py",
   "mimetype": "text/x-python",
   "name": "python",
   "nbconvert_exporter": "python",
   "pygments_lexer": "ipython3",
   "version": "3.10.12"
  },
  "papermill": {
   "default_parameters": {},
   "duration": 2911.355773,
   "end_time": "2024-02-18T21:55:35.917732",
   "environment_variables": {},
   "exception": true,
   "input_path": "__notebook__.ipynb",
   "output_path": "__notebook__.ipynb",
   "parameters": {},
   "start_time": "2024-02-18T21:07:04.561959",
   "version": "2.4.0"
  }
 },
 "nbformat": 4,
 "nbformat_minor": 5
}
